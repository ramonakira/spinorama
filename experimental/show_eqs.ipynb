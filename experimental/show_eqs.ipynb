{
 "cells": [
  {
   "cell_type": "code",
   "execution_count": null,
   "metadata": {},
   "outputs": [],
   "source": [
    "import math\n",
    "import logging\n",
    "import os\n",
    "import glob\n",
    "import numpy as np\n",
    "import pandas as pd\n",
    "import scipy.signal as sig\n",
    "\n",
    "import sys, os, os.path\n",
    "\n",
    "sys.path.append(os.path.expanduser(\"../src\"))\n",
    "\n",
    "import plotly.graph_objects as go\n",
    "from plotly.subplots import make_subplots\n",
    "\n",
    "from src.spinorama.load_misc import graph_melt\n",
    "from src.spinorama.load_rewseq import parse_eq_iir_rews\n",
    "from src.spinorama.plot import plot_spinorama, plot_graph\n",
    "from src.spinorama.filter_iir import Biquad\n",
    "from src.spinorama.filter_peq import peq_build, peq_freq"
   ]
  },
  {
   "cell_type": "code",
   "execution_count": null,
   "metadata": {},
   "outputs": [],
   "source": [
    "nb_points = 200\n",
    "flat_u = pd.DataFrame(\n",
    "    {\n",
    "        \"Freq\": np.logspace(1.0 + math.log10(2), 4.0 + math.log10(2), nb_points),\n",
    "        \"On Axis\": [0] * nb_points,\n",
    "    }\n",
    ")\n",
    "flat = graph_melt(flat_u)"
   ]
  },
  {
   "cell_type": "code",
   "execution_count": null,
   "metadata": {},
   "outputs": [],
   "source": [
    "my_fs = 48000\n",
    "eq_dirs = glob.glob(\"../datas/eq/*\")\n",
    "peqs = {}\n",
    "count = 0\n",
    "for d in eq_dirs:\n",
    "    if os.path.isdir(d):\n",
    "        speaker = os.path.basename(d)\n",
    "        iirname = \"{0}/iir-*.txt\".format(d)\n",
    "        peqs[speaker] = {}\n",
    "        for iir in glob.glob(iirname):\n",
    "            if os.path.isfile(iir):\n",
    "                biir = os.path.basename(iir)\n",
    "                peqs[speaker][biir] = parse_eq_iir_rews(iir, my_fs)\n",
    "                count += 1\n",
    "print(\"Found {0} IIR eq\".format(count))"
   ]
  },
  {
   "cell_type": "code",
   "execution_count": null,
   "metadata": {},
   "outputs": [],
   "source": [
    "peqs[\"Infinity R152\"]"
   ]
  },
  {
   "cell_type": "code",
   "execution_count": null,
   "metadata": {},
   "outputs": [],
   "source": [
    "nb_points = 200\n",
    "freqs = np.logspace(1.0 + math.log10(2), 4.0 + math.log10(2), nb_points)"
   ]
  },
  {
   "cell_type": "code",
   "execution_count": null,
   "metadata": {},
   "outputs": [],
   "source": [
    "def plot_eq(speaker):\n",
    "    traces = []\n",
    "    for name, peq in peqs[speaker].items():\n",
    "        traces.append(go.Scatter(x=freqs, y=peq_build(freqs, peq), name=name))\n",
    "\n",
    "    if len(traces) < 2:\n",
    "        return\n",
    "\n",
    "    fig = go.Figure(data=traces)\n",
    "    fig.update_xaxes(\n",
    "        dict(\n",
    "            title_text=\"Frequency (Hz)\",\n",
    "            type=\"log\",\n",
    "            range=[math.log10(20), math.log10(20000)],\n",
    "            showline=True,\n",
    "            dtick=\"D1\",\n",
    "        )\n",
    "    )\n",
    "    fig.update_yaxes(\n",
    "        dict(\n",
    "            title_text=\"SPL (dB)\",\n",
    "            range=[-5, 5],\n",
    "            showline=True,\n",
    "            dtick=\"D1\",\n",
    "        )\n",
    "    )\n",
    "    fig.update_layout(title=\"{}: various EQs \".format(speaker))\n",
    "    return fig"
   ]
  },
  {
   "cell_type": "code",
   "execution_count": null,
   "metadata": {},
   "outputs": [],
   "source": [
    "# for speaker in peqs.keys():\n",
    "#    fig = plot_eq(speaker)\n",
    "#    if fig:\n",
    "#        fig.show()"
   ]
  },
  {
   "cell_type": "code",
   "execution_count": null,
   "metadata": {},
   "outputs": [],
   "source": [
    "plot_eq(\"NHT SB2\")"
   ]
  },
  {
   "cell_type": "code",
   "execution_count": null,
   "metadata": {},
   "outputs": [],
   "source": [
    "plot_eq(\"Klipsch RP-600M\")"
   ]
  },
  {
   "cell_type": "code",
   "execution_count": null,
   "metadata": {},
   "outputs": [],
   "source": [
    "plot_eq(\"KEF Reference 1 Meta\")"
   ]
  },
  {
   "cell_type": "code",
   "execution_count": null,
   "metadata": {},
   "outputs": [],
   "source": [
    "plot_eq(\"Polk Audio Signature Elite ES20\")"
   ]
  },
  {
   "cell_type": "code",
   "execution_count": null,
   "metadata": {},
   "outputs": [],
   "source": [
    "plot_eq(\"Bowers & Wilkins Formation Flex\")"
   ]
  },
  {
   "cell_type": "code",
   "execution_count": null,
   "metadata": {},
   "outputs": [],
   "source": [
    "plot_eq(\"Elac Carina BS243.4\")"
   ]
  },
  {
   "cell_type": "code",
   "execution_count": null,
   "metadata": {},
   "outputs": [],
   "source": [
    "plot_eq(\"Grimani Systems Rixos-L\")"
   ]
  },
  {
   "cell_type": "code",
   "execution_count": null,
   "metadata": {},
   "outputs": [],
   "source": [
    "plot_eq(\"Hivi Swan X3\")"
   ]
  },
  {
   "cell_type": "code",
   "execution_count": null,
   "metadata": {},
   "outputs": [],
   "source": [
    "plot_eq(\"Vandersteen VLR\")"
   ]
  }
 ],
 "metadata": {
  "kernelspec": {
   "display_name": "Python 3 (ipykernel)",
   "language": "python",
   "name": "python3"
  },
  "language_info": {
   "codemirror_mode": {
    "name": "ipython",
    "version": 3
   },
   "file_extension": ".py",
   "mimetype": "text/x-python",
   "name": "python",
   "nbconvert_exporter": "python",
   "pygments_lexer": "ipython3",
   "version": "3.10.6"
  }
 },
 "nbformat": 4,
 "nbformat_minor": 4
}
