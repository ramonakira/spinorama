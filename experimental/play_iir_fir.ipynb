{
 "cells": [
  {
   "cell_type": "code",
   "execution_count": null,
   "metadata": {},
   "outputs": [],
   "source": [
    "import numpy as np\n",
    "from scipy import signal"
   ]
  },
  {
   "cell_type": "code",
   "execution_count": null,
   "metadata": {},
   "outputs": [],
   "source": [
    "fs = 48000\n",
    "Q = 5\n",
    "f0 = 2000\n",
    "b, a = signal.iirpeak(f0, Q, fs)\n",
    "freq, h = signal.freqz(b, a, fs=fs)"
   ]
  },
  {
   "cell_type": "code",
   "execution_count": null,
   "metadata": {},
   "outputs": [],
   "source": [
    "# compare with my coeff for peak biquad\n",
    "import sys, os, os.path\n",
    "\n",
    "sys.path.append(os.path.expanduser(\"../src\"))\n",
    "\n",
    "from src.spinorama.filter_iir import Biquad\n",
    "from src.spinorama.filter_peq import peq_build, peq_freq, peq_print\n",
    "\n",
    "gain = 10\n",
    "pk = [(1.0, Biquad(3, f0, fs, Q, gain))]\n",
    "ampl = peq_build(freq, pk)"
   ]
  },
  {
   "cell_type": "code",
   "execution_count": null,
   "metadata": {},
   "outputs": [],
   "source": [
    "import matplotlib.pyplot as plt\n",
    "\n",
    "fig, ax = plt.subplots(2, 1, figsize=(8, 6))\n",
    "ax[0].semilogx(freq, 20 * np.log10(np.maximum(abs(h), 1e-15)), color=\"blue\")\n",
    "ax[0].semilogx(freq, ampl - gain, color=\"red\")\n",
    "\n",
    "ax[0].set_title(\"Frequency Response\")\n",
    "ax[0].set_ylabel(\"Amplitude (dB)\", color=\"blue\")\n",
    "ax[0].set_xlim([20, fs / 2])\n",
    "ax[0].set_ylim([-50, 10])\n",
    "ax[0].grid()\n",
    "ax[1].plot(freq, np.unwrap(np.angle(h)) * 180 / np.pi, color=\"green\")\n",
    "ax[1].set_ylabel(\"Angle (degrees)\", color=\"green\")\n",
    "ax[1].set_xlabel(\"Frequency (Hz)\")\n",
    "ax[1].set_xlim([20, fs / 2])\n",
    "ax[1].set_yticks([-90, -60, -30, 0, 30, 60, 90])\n",
    "ax[1].set_ylim([-90, 90])\n",
    "ax[1].grid()\n",
    "plt.show()"
   ]
  },
  {
   "cell_type": "code",
   "execution_count": null,
   "metadata": {},
   "outputs": [],
   "source": []
  },
  {
   "cell_type": "code",
   "execution_count": null,
   "metadata": {},
   "outputs": [],
   "source": []
  }
 ],
 "metadata": {
  "kernelspec": {
   "display_name": "Python 3",
   "language": "python",
   "name": "python3"
  },
  "language_info": {
   "codemirror_mode": {
    "name": "ipython",
    "version": 3
   },
   "file_extension": ".py",
   "mimetype": "text/x-python",
   "name": "python",
   "nbconvert_exporter": "python",
   "pygments_lexer": "ipython3",
   "version": "3.8.5"
  }
 },
 "nbformat": 4,
 "nbformat_minor": 4
}
