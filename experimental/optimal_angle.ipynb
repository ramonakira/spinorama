{
 "cells": [
  {
   "cell_type": "markdown",
   "metadata": {},
   "source": [
    "Find the optimal angle (toe-ing) to get the best in room response.\n",
    "This is a failed experiment, please ignore."
   ]
  },
  {
   "cell_type": "code",
   "execution_count": null,
   "metadata": {},
   "outputs": [],
   "source": [
    "from math import log, sqrt\n",
    "import numpy as np\n",
    "import pandas as pd\n",
    "import altair as alt"
   ]
  },
  {
   "cell_type": "code",
   "execution_count": null,
   "metadata": {},
   "outputs": [],
   "source": [
    "import sys, os, os.path\n",
    "\n",
    "sys.path.append(os.path.expanduser(\"../src\"))\n",
    "\n",
    "from src.spinorama.load import parse_all_speakers, parse_graphs_speaker, graph_melt\n",
    "from src.spinorama.compute_normalize import (\n",
    "    normalize_mean,\n",
    "    normalize_graph,\n",
    "    normalize_cea2034,\n",
    ")\n",
    "from src.spinorama.graph import graph_params_default, graph_freq, graph_spinorama\n",
    "from src.spinorama.compute_cea2034 import (\n",
    "    compute_cea2034,\n",
    "    estimated_inroom_HV,\n",
    "    speaker_pref_rating,\n",
    ")\n",
    "\n",
    "# df = parse_graphs_speaker('../datas/', 'Adam', 'Adam S2V', 'klippel')\n",
    "# df = parse_graphs_speaker('../datas/', 'Genelec', 'Genelec 8341A', 'klippel')\n",
    "# df = parse_graphs_speaker('../datas/', 'Polk', 'Polk T15', 'klippel')\n",
    "df = parse_graphs_speaker(\"../datas/\", \"KEF\", \"KEF LS50\", \"klippel\")"
   ]
  },
  {
   "cell_type": "code",
   "execution_count": null,
   "metadata": {},
   "outputs": [],
   "source": [
    "splH = df[\"SPL Horizontal_unmelted\"]\n",
    "splV = df[\"SPL Vertical_unmelted\"]"
   ]
  },
  {
   "cell_type": "code",
   "execution_count": null,
   "metadata": {},
   "outputs": [],
   "source": [
    "def turn(spl, angle):\n",
    "    # return same spl DataFrame but turn by angle\n",
    "    if spl is None:\n",
    "        return None\n",
    "    if angle == 0:\n",
    "        return spl\n",
    "    if angle % 10 != 0:\n",
    "        logging.error(\"angle must be a multiple of 10\", angle)\n",
    "        return None\n",
    "    splT = pd.DataFrame({\"Freq\": spl.Freq})\n",
    "    for col in spl.columns:\n",
    "        if col is \"Freq\":\n",
    "            continue\n",
    "        new_col = None\n",
    "        if col == \"On Axis\":\n",
    "            new_col = \"{0}°\".format(angle)\n",
    "        else:\n",
    "            new_angle = int(col[:-1]) + angle\n",
    "            if new_angle > 180:\n",
    "                new_angle = -360 + new_angle\n",
    "            if new_angle < -180:\n",
    "                new_angle = -new_angle + 180\n",
    "            if new_angle == 0:\n",
    "                new_col = \"On Axis\"\n",
    "            else:\n",
    "                new_col = \"{0}°\".format(new_angle)\n",
    "        # print('mapping {0} to {1} with angle {2}'.format(col, new_col, angle))\n",
    "        splT.loc[:, new_col] = spl.loc[:, col]\n",
    "\n",
    "        # sort columns in increasing angle order\n",
    "        def a2v(angle):\n",
    "            if angle == \"Freq\":\n",
    "                return -1000\n",
    "            elif angle == \"On Axis\":\n",
    "                return 0\n",
    "            else:\n",
    "                return int(angle[:-1])\n",
    "\n",
    "    return splT.reindex(columns=sorted(splT.columns, key=lambda a: a2v(a)))"
   ]
  },
  {
   "cell_type": "code",
   "execution_count": null,
   "metadata": {},
   "outputs": [],
   "source": [
    "splH50 = turn(splH, 50)\n",
    "splV50 = turn(splV, 50)"
   ]
  },
  {
   "cell_type": "code",
   "execution_count": null,
   "metadata": {},
   "outputs": [],
   "source": [
    "spin = graph_melt(compute_cea2034(splH, splV))\n",
    "mean = normalize_mean(spin)\n",
    "spin = normalize_cea2034(spin, mean)\n",
    "eir = graph_melt(estimated_inroom_HV(splH, splV))\n",
    "eir = normalize_graph(eir, mean)\n",
    "\n",
    "spinH50V0 = graph_melt(compute_cea2034(splH50, splV))\n",
    "spinH50V0 = normalize_cea2034(spinH50V0, mean)\n",
    "eirH50V0 = graph_melt(estimated_inroom_HV(splH50, splV))\n",
    "eirH50V0 = normalize_graph(eirH50V0, mean)\n",
    "\n",
    "graph_spinorama(spin, graph_params_default) & graph_spinorama(spinH50V0, graph_params_default)\n",
    "# graph_freq(eir, graph_params_default) & graph_freq(eirH50V0, graph_params_default)"
   ]
  },
  {
   "cell_type": "code",
   "execution_count": null,
   "metadata": {},
   "outputs": [],
   "source": [
    "speaker_pref_rating(spin, eir)"
   ]
  },
  {
   "cell_type": "code",
   "execution_count": null,
   "metadata": {},
   "outputs": [],
   "source": [
    "speaker_pref_rating(spinH50V0, eirH50V0)"
   ]
  },
  {
   "cell_type": "code",
   "execution_count": null,
   "metadata": {},
   "outputs": [],
   "source": [
    "def find_best(splH, splV):\n",
    "    spin = compute_cea2034(splH, splV)\n",
    "    eir = estimated_inroom_HV(splH, splV)\n",
    "    ref = speaker_pref_rating(graph_melt(spin), graph_melt(eir))\n",
    "\n",
    "    for angleH in (0, 10, 20, 30, 40, 50, 60, 70, 80, 90, 100, 110, 120):\n",
    "        for angleV in (0, 10, 20):\n",
    "            splHT = turn(splH, angleH)\n",
    "            splVT = turn(splV, angleV)\n",
    "            spinT = compute_cea2034(splHT, splVT)\n",
    "            eirT = estimated_inroom_HV(splHT, splVT)\n",
    "            turned = speaker_pref_rating(graph_melt(spinT), graph_melt(eirT))\n",
    "            print(\n",
    "                \"H:{0:3d} V:{1:3d} nbd_on={2:.2f} sm_pir={3:.2f} pref_score={4:.2f}\".format(\n",
    "                    angleH,\n",
    "                    angleV,\n",
    "                    turned[\"nbd_on_axis\"],\n",
    "                    turned[\"sm_pred_in_room\"],\n",
    "                    turned[\"pref_score\"],\n",
    "                )\n",
    "            )"
   ]
  },
  {
   "cell_type": "code",
   "execution_count": null,
   "metadata": {},
   "outputs": [],
   "source": [
    "find_best(splH, splV)"
   ]
  },
  {
   "cell_type": "code",
   "execution_count": null,
   "metadata": {},
   "outputs": [],
   "source": [
    "dft = pd.DataFrame(\n",
    "    {\"Freq\": [0, 1, 2], \"On Axis\": [0, 0, 0], \"10°\": [10, 10, 10], \"20°\": [20, 20, 20]}\n",
    ")"
   ]
  },
  {
   "cell_type": "code",
   "execution_count": null,
   "metadata": {},
   "outputs": [],
   "source": [
    "print(dft)\n",
    "print(turn(dft, 10))"
   ]
  },
  {
   "cell_type": "code",
   "execution_count": null,
   "metadata": {},
   "outputs": [],
   "source": []
  }
 ],
 "metadata": {
  "kernelspec": {
   "display_name": "Python 3",
   "language": "python",
   "name": "python3"
  },
  "language_info": {
   "codemirror_mode": {
    "name": "ipython",
    "version": 3
   },
   "file_extension": ".py",
   "mimetype": "text/x-python",
   "name": "python",
   "nbconvert_exporter": "python",
   "pygments_lexer": "ipython3",
   "version": "3.8.5"
  }
 },
 "nbformat": 4,
 "nbformat_minor": 4
}
