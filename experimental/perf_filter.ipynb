{
 "cells": [
  {
   "cell_type": "markdown",
   "metadata": {},
   "source": [
    "# perf improvement for IIR filter"
   ]
  },
  {
   "cell_type": "code",
   "execution_count": null,
   "metadata": {},
   "outputs": [],
   "source": [
    "import math\n",
    "import numpy as np"
   ]
  },
  {
   "cell_type": "code",
   "execution_count": null,
   "metadata": {},
   "outputs": [],
   "source": [
    "freq = np.logspace(1 + math.log10(2), 4 + math.log10(2), 200)"
   ]
  },
  {
   "cell_type": "code",
   "execution_count": null,
   "metadata": {},
   "outputs": [],
   "source": [
    "import sys, os, os.path\n",
    "\n",
    "sys.path.append(os.path.expanduser(\"../src\"))\n",
    "\n",
    "from src.spinorama.filter_iir import Biquad"
   ]
  },
  {
   "cell_type": "code",
   "execution_count": null,
   "metadata": {},
   "outputs": [],
   "source": [
    "peak = Biquad(3, 1000, 48000, 1, 3)\n",
    "\n",
    "peq_slow = np.array([20.0 * math.log10(peak.resultSlow(f)) for f in freq])\n",
    "peq_fast = np.array([20.0 * math.log10(peak.result(f)) for f in freq])\n",
    "\n",
    "\n",
    "def vresult(biquad, f):\n",
    "    phi = np.sin(math.pi * f * 2 / (2 * biquad.srate)) ** 2\n",
    "    phi2 = phi**2\n",
    "    r = (biquad.r_up0 + biquad.r_up1 * phi + biquad.r_up2 * phi2) / (\n",
    "        biquad.r_dw0 + biquad.r_dw1 * phi + biquad.r_dw2 * phi2\n",
    "    )\n",
    "    return np.where(r <= 0.0, -200, 20 * np.log10(np.sqrt(r)))\n",
    "\n",
    "\n",
    "peq_vec1 = vresult(peak, freq)\n",
    "print(\"Error: {} {}\".format(np.max(peq_slow - peq_fast), np.max(peq_slow - peq_vec1)))"
   ]
  },
  {
   "cell_type": "code",
   "execution_count": null,
   "metadata": {},
   "outputs": [],
   "source": [
    "%timeit [20.0*math.log10(peak.result(f)) for f in freq]"
   ]
  },
  {
   "cell_type": "code",
   "execution_count": null,
   "metadata": {},
   "outputs": [],
   "source": [
    "%timeit [20.0*math.log10(peak.resultSlow(f)) for f in freq]"
   ]
  },
  {
   "cell_type": "code",
   "execution_count": null,
   "metadata": {},
   "outputs": [],
   "source": [
    "def vresult(biquad, f):\n",
    "    phi = np.sin(math.pi * f * 2 / (2 * biquad.srate)) ** 2\n",
    "    phi2 = phi**2\n",
    "    r = (biquad.r_up0 + biquad.r_up1 * phi + biquad.r_up2 * phi2) / (\n",
    "        biquad.r_dw0 + biquad.r_dw1 * phi + biquad.r_dw2 * phi2\n",
    "    )\n",
    "    return np.where(r <= 0.0, -200, 20 * np.log10(np.sqrt(r)))"
   ]
  },
  {
   "cell_type": "code",
   "execution_count": null,
   "metadata": {},
   "outputs": [],
   "source": [
    "%timeit vresult(peak, freq)"
   ]
  },
  {
   "cell_type": "code",
   "execution_count": null,
   "metadata": {},
   "outputs": [],
   "source": []
  }
 ],
 "metadata": {
  "kernelspec": {
   "display_name": "Python 3",
   "language": "python",
   "name": "python3"
  },
  "language_info": {
   "codemirror_mode": {
    "name": "ipython",
    "version": 3
   },
   "file_extension": ".py",
   "mimetype": "text/x-python",
   "name": "python",
   "nbconvert_exporter": "python",
   "pygments_lexer": "ipython3",
   "version": "3.8.5"
  }
 },
 "nbformat": 4,
 "nbformat_minor": 4
}
