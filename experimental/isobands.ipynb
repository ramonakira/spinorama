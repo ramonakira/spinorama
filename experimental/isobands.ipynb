{
 "cells": [
  {
   "cell_type": "code",
   "execution_count": null,
   "metadata": {},
   "outputs": [],
   "source": [
    "import math\n",
    "import numpy as np\n",
    "import pandas as pd\n",
    "import altair as alt"
   ]
  },
  {
   "cell_type": "code",
   "execution_count": null,
   "metadata": {},
   "outputs": [],
   "source": [
    "import sys, os, os.path\n",
    "\n",
    "sys.path.append(os.path.expanduser(\"../src\"))\n",
    "\n",
    "from src.spinorama.graph_isobands import find_isobands\n",
    "\n",
    "\n",
    "def transform_id_x(x, y):\n",
    "    return x\n",
    "\n",
    "\n",
    "def transform_id_y(x, y):\n",
    "    return y"
   ]
  },
  {
   "cell_type": "code",
   "execution_count": null,
   "metadata": {},
   "outputs": [],
   "source": [
    "p0 = (0, 0)\n",
    "p1 = (2, 0)\n",
    "p2 = (2, 1)\n",
    "p3 = (0, 1)\n",
    "\n",
    "x = [[0, 2], [0, 2]]\n",
    "y = [[0, 1], [2, 1]]\n",
    "z = [[3, 2], [2, 3.2]]\n",
    "\n",
    "df = find_isobands(x, y, z, [0, 1.5, 2.5, 3], transform_id_x, transform_id_y)\n",
    "\n",
    "g_df = (\n",
    "    alt.Chart(alt.Data(values=df[\"features\"]))\n",
    "    .mark_geoshape(stroke=\"red\", strokeWidth=2, clip=True, cornerRadius=2)\n",
    "    .encode(alt.Color(\"properties.z_low:Q\", scale=alt.Scale(scheme=\"bluegreen\"), title=\"IsoBands\"))\n",
    "    .project(\"identity\")\n",
    "    .properties(width=200, height=200)\n",
    ")\n",
    "\n",
    "g_df"
   ]
  },
  {
   "cell_type": "code",
   "execution_count": null,
   "metadata": {},
   "outputs": [],
   "source": [
    "xr = np.linspace(-5, 5, 30)\n",
    "yr = np.linspace(-5, 5, 30)\n",
    "x, y = np.meshgrid(xr, yr)\n",
    "z = x**2 + y**2\n",
    "print(len(xr), len(yr), z.shape)\n",
    "\n",
    "source = pd.DataFrame({\"x\": x.ravel(), \"y\": y.ravel(), \"z\": z.ravel()})\n",
    "\n",
    "df = find_isobands(x, y, z, [1, 2, 4, 8, 16, 32], transform_id_x, transform_id_y)\n",
    "\n",
    "g_source = alt.Chart(source).mark_rect().encode(x=\"x:O\", y=\"y:O\", color=\"z:Q\")\n",
    "\n",
    "g_iso = (\n",
    "    alt.Chart(alt.Data(values=df[\"features\"]))\n",
    "    .mark_geoshape(stroke=\"red\", strokeWidth=0, clip=True, cornerRadius=0)\n",
    "    .encode(alt.Color(\"properties.z_low:Q\", scale=alt.Scale(scheme=\"bluegreen\"), title=\"IsoBands\"))\n",
    "    .project(\"identity\")\n",
    ")\n",
    "\n",
    "# g_source+g_iso\n",
    "g_iso"
   ]
  },
  {
   "cell_type": "code",
   "execution_count": null,
   "metadata": {},
   "outputs": [],
   "source": [
    "from src.spinorama.load import graph_melt\n",
    "import flammkuchen as fl\n",
    "from src.spinorama.graph_contour import compute_contour\n",
    "from src.spinorama.graph import contour_params_default, graph_contour_common\n",
    "\n",
    "df_all = fl.load(\"../cache.parse_all_speakers.h5\")"
   ]
  },
  {
   "cell_type": "code",
   "execution_count": null,
   "metadata": {},
   "outputs": [],
   "source": [
    "df = df_all[\"Genelec 8341A\"][\"ASR\"][\"asr\"]\n",
    "print(df.keys())"
   ]
  },
  {
   "cell_type": "code",
   "execution_count": null,
   "metadata": {},
   "outputs": [],
   "source": [
    "dfu = df[\"SPL Vertical_unmelted\"]\n",
    "af, am, az = compute_contour(dfu.loc[dfu.Freq > 100])\n",
    "print(len(af[0]), len(am[:, 0]), az.shape)\n",
    "print(af[0][0:3])\n",
    "print(am[:, 0])"
   ]
  },
  {
   "cell_type": "code",
   "execution_count": null,
   "metadata": {},
   "outputs": [],
   "source": [
    "graph_width = 1024\n",
    "graph_height = 720\n",
    "\n",
    "\n",
    "def transform_log(x, y):\n",
    "    return 6 * np.log10(x) * graph_width / 800\n",
    "\n",
    "\n",
    "def transform_radian(x, y):\n",
    "    return 1.325 * y / 180 * math.pi * graph_height / 360\n",
    "\n",
    "\n",
    "bands = [-72, -18, -15, -12, -9, -6, -3, +3]\n",
    "df_iso = find_isobands(af, am, az.T, bands, transform_log, transform_radian)\n",
    "\n",
    "color_legend = [\"[{0}, {1}]\".format(bands[i], bands[i + 1]) for i in range(0, len(bands) - 1)] + [\n",
    "    \">{0}\".format(bands[-1])\n",
    "]\n",
    "color_range = [\n",
    "    \"black\",\n",
    "    \"blue\",\n",
    "    \"steelblue\",\n",
    "    \"green\",\n",
    "    \"yellow\",\n",
    "    \"orange\",\n",
    "    \"red\",\n",
    "    \"white\",\n",
    "]\n",
    "\n",
    "print(color_legend)\n",
    "\n",
    "isobands = (\n",
    "    alt.Chart(alt.Data(values=df_iso[\"features\"]))\n",
    "    .mark_geoshape(stroke=\"red\", strokeWidth=1)\n",
    "    .encode(\n",
    "        # alt.Color('properties.z_low:Q', scale=alt.Scale(scheme='inferno'), title = \"IsoBands\")\n",
    "        alt.Color(\n",
    "            \"properties.z_low:O\",\n",
    "            scale=alt.Scale(zero=False, domain=bands, range=color_range),\n",
    "            legend=alt.Legend(orient=\"bottom\", title=\"Relative dB SPL\"),\n",
    "        )\n",
    "    )\n",
    "    .project(\"identity\")\n",
    "    .properties(width=graph_width, height=graph_height)\n",
    ")"
   ]
  },
  {
   "cell_type": "code",
   "execution_count": null,
   "metadata": {},
   "outputs": [],
   "source": [
    "empty = pd.DataFrame({\"Freq\", \"Angle\"})\n",
    "yTicks = [-180 + 30 * i for i in range(0, 13)]\n",
    "print(yTicks)\n",
    "legends = (\n",
    "    alt.Chart(empty)\n",
    "    .mark_point(clip=True)\n",
    "    .encode(\n",
    "        x=alt.X(\n",
    "            \"x:Q\",\n",
    "            scale=alt.Scale(type=\"log\", nice=False, domain=[20, 20000]),\n",
    "            title=\"Frequency (Hz)\",\n",
    "        ),\n",
    "        y=alt.Y(\n",
    "            \"y:Q\",\n",
    "            scale=alt.Scale(nice=False, domain=[-180, 180]),\n",
    "            axis=alt.Axis(format=\".0d\", values=yTicks, title=\"Angle\"),\n",
    "        ),\n",
    "    )\n",
    "    .properties(width=graph_width, height=graph_height)\n",
    ")"
   ]
  },
  {
   "cell_type": "code",
   "execution_count": null,
   "metadata": {},
   "outputs": [],
   "source": [
    "isobands + legends"
   ]
  },
  {
   "cell_type": "code",
   "execution_count": null,
   "metadata": {},
   "outputs": [],
   "source": [
    "def transform_polar_r(x, y):\n",
    "    a = y * math.pi / 180\n",
    "    return np.log10(x) * np.cos(a)\n",
    "\n",
    "\n",
    "def transform_polar_theta(x, y):\n",
    "    a = y * math.pi / 180\n",
    "    return np.log10(x) * np.sin(a)\n",
    "\n",
    "\n",
    "df_polar = find_isobands(af, am, az.T, bands, transform_polar_r, transform_polar_theta, False, True)\n",
    "alt.Chart(alt.Data(values=df_polar[\"features\"])).mark_geoshape(strokeWidth=0).encode(\n",
    "    alt.Color(\n",
    "        \"properties.z_low:O\",\n",
    "        scale=alt.Scale(zero=False, domain=bands, range=color_range),\n",
    "        legend=alt.Legend(orient=\"bottom\", title=\"Relative dB SPL\"),\n",
    "    )\n",
    ").project(\"identity\").properties(width=graph_width, height=graph_height)"
   ]
  },
  {
   "cell_type": "code",
   "execution_count": null,
   "metadata": {},
   "outputs": [],
   "source": []
  },
  {
   "cell_type": "code",
   "execution_count": null,
   "metadata": {},
   "outputs": [],
   "source": []
  },
  {
   "cell_type": "code",
   "execution_count": null,
   "metadata": {},
   "outputs": [],
   "source": []
  },
  {
   "cell_type": "code",
   "execution_count": null,
   "metadata": {},
   "outputs": [],
   "source": []
  }
 ],
 "metadata": {
  "kernelspec": {
   "display_name": "Python 3",
   "language": "python",
   "name": "python3"
  },
  "language_info": {
   "codemirror_mode": {
    "name": "ipython",
    "version": 3
   },
   "file_extension": ".py",
   "mimetype": "text/x-python",
   "name": "python",
   "nbconvert_exporter": "python",
   "pygments_lexer": "ipython3",
   "version": "3.8.5"
  }
 },
 "nbformat": 4,
 "nbformat_minor": 4
}
