{
 "cells": [
  {
   "cell_type": "markdown",
   "metadata": {},
   "source": [
    "Spinorama plot with Altair"
   ]
  },
  {
   "cell_type": "code",
   "execution_count": null,
   "metadata": {},
   "outputs": [],
   "source": [
    "import math\n",
    "import pandas as pd\n",
    "import altair as alt\n",
    "import numpy as np\n",
    "import flammkuchen as fl\n",
    "\n",
    "import sys, os, os.path\n",
    "\n",
    "sys.path.append(os.path.expanduser(\"../src\"))\n",
    "\n",
    "from src.spinorama.graph import (\n",
    "    graph_params_default,\n",
    "    graph_freq,\n",
    "    graph_spinorama,\n",
    "    contour_params_default,\n",
    "    graph_radar,\n",
    ")\n",
    "from src.spinorama.load import filter_graphs\n",
    "\n",
    "df_all = fl.load(\"../cache.parse_all_speakers.h5\")"
   ]
  },
  {
   "cell_type": "code",
   "execution_count": null,
   "metadata": {},
   "outputs": [],
   "source": [
    "from src.spinorama.load import filter_graphs, load_normalize\n",
    "\n",
    "df_klippel = df_all[\"Yamaha NS-6490\"][\"ASR\"][\"asr\"]\n",
    "spl_H = df_klippel[\"SPL Horizontal_unmelted\"]\n",
    "spl_V = df_klippel[\"SPL Vertical_unmelted\"]\n",
    "df_computed = load_normalize(filter_graphs(\"Adam S2V\", spl_H, spl_V))\n",
    "\n",
    "df_klippel_eq = df_all[\"Adam S2V\"][\"ASR\"][\"asr_eq\"]\n",
    "spl_H_eq = df_klippel_eq[\"SPL Horizontal_unmelted\"]\n",
    "spl_V_eq = df_klippel_eq[\"SPL Vertical_unmelted\"]\n",
    "df_computed_eq = load_normalize(filter_graphs(\"Adam S2V\", spl_H_eq, spl_V_eq))"
   ]
  },
  {
   "cell_type": "code",
   "execution_count": null,
   "metadata": {},
   "outputs": [],
   "source": [
    "graph_spinorama(df_computed[\"CEA2034\"], graph_params_default) | graph_spinorama(\n",
    "    df_computed_eq[\"CEA2034\"], graph_params_default\n",
    ")"
   ]
  },
  {
   "cell_type": "code",
   "execution_count": null,
   "metadata": {},
   "outputs": [],
   "source": [
    "graph_radar(spl_H, contour_params_default)"
   ]
  },
  {
   "cell_type": "code",
   "execution_count": null,
   "metadata": {},
   "outputs": [],
   "source": [
    "graph_radar(spl_H_eq, contour_params_default)"
   ]
  },
  {
   "cell_type": "code",
   "execution_count": null,
   "metadata": {},
   "outputs": [],
   "source": [
    "spl_H -= spl_H[\"On Axis\"].max()"
   ]
  },
  {
   "cell_type": "code",
   "execution_count": null,
   "metadata": {},
   "outputs": [],
   "source": [
    "freq = spl_H.Freq\n",
    "delta = spl_H.loc[:, spl_H.columns != \"Freq\"] - spl_H_eq.loc[:, spl_H_eq.columns != \"Freq\"]\n",
    "delta.insert(0, \"Freq\", freq)"
   ]
  },
  {
   "cell_type": "code",
   "execution_count": null,
   "metadata": {},
   "outputs": [],
   "source": [
    "graph_radar(delta, contour_params_default)"
   ]
  },
  {
   "cell_type": "code",
   "execution_count": null,
   "metadata": {},
   "outputs": [],
   "source": []
  }
 ],
 "metadata": {
  "kernelspec": {
   "display_name": "Python 3 (ipykernel)",
   "language": "python",
   "name": "python3"
  },
  "language_info": {
   "codemirror_mode": {
    "name": "ipython",
    "version": 3
   },
   "file_extension": ".py",
   "mimetype": "text/x-python",
   "name": "python",
   "nbconvert_exporter": "python",
   "pygments_lexer": "ipython3",
   "version": "3.10.12"
  }
 },
 "nbformat": 4,
 "nbformat_minor": 4
}
