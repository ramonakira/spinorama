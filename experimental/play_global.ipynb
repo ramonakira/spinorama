{
 "cells": [
  {
   "cell_type": "markdown",
   "id": "84b374cc-97d2-4a6e-be40-d8eb9004560a",
   "metadata": {},
   "source": [
    "Experiments with global optimisation"
   ]
  },
  {
   "cell_type": "code",
   "execution_count": null,
   "id": "e59c1538-1033-45e1-a0a0-cd9660ff7b76",
   "metadata": {
    "tags": []
   },
   "outputs": [],
   "source": [
    "import math\n",
    "import time\n",
    "import bisect\n",
    "\n",
    "import pandas as pd\n",
    "import numpy as np\n",
    "import plotly as plt\n",
    "import ray\n",
    "\n",
    "pd.options.plotting.backend = \"plotly\"\n",
    "\n",
    "import sys, os, os.path\n",
    "\n",
    "sys.path.append(os.path.expanduser(\"../src\"))\n",
    "\n",
    "from generate_common import custom_ray_init, cache_load\n",
    "from src.spinorama.filter_iir import Biquad\n",
    "from src.spinorama.filter_peq import peq_print, peq_format_apo, peq_spl, Peq\n",
    "import scipy.optimize as opt"
   ]
  },
  {
   "cell_type": "code",
   "execution_count": null,
   "id": "eb77fd16-ef8c-4bf3-91e3-c22c0928bc38",
   "metadata": {
    "tags": []
   },
   "outputs": [],
   "source": [
    "custom_ray_init({\"--log-level\": \"INFO\"})"
   ]
  },
  {
   "cell_type": "code",
   "execution_count": null,
   "id": "64c83b5f-5252-46d4-9e6d-0156db41cd56",
   "metadata": {
    "tags": []
   },
   "outputs": [],
   "source": [
    "# speaker_name = \"Genelec 8341A\"\n",
    "# speaker_origin = \"ASR\"\n",
    "# speaker_version = \"asr-vertical\"\n",
    "# speaker_name = \"BIC America FH6-LCR Center\"\n",
    "# speaker_origin = \"ASR\"\n",
    "# speaker_version = \"asr-vertical\"\n",
    "# speaker_name = \"Arendal Sound 1961 Center\"\n",
    "# speaker_name = \"KEF R8 Meta\"\n",
    "# speaker_name = \"JBL AC25\"\n",
    "speaker_origin = \"ASR\"\n",
    "speaker_version = \"asr\"\n",
    "speaker_name = \"JBL Control X Wireless\"\n",
    "speaker_origin = \"Misc\"\n",
    "speaker_version = \"misc-matthews\"\n",
    "df_all_speaker = cache_load({\"speaker_name\": speaker_name, \"origin\": speaker_origin}, False)\n",
    "ray.shutdown()"
   ]
  },
  {
   "cell_type": "code",
   "execution_count": null,
   "id": "41f5fa95-fcf4-4cc4-a676-1591dabc5d3b",
   "metadata": {
    "tags": []
   },
   "outputs": [],
   "source": [
    "df_speaker = df_all_speaker[speaker_name][speaker_origin][speaker_version]\n",
    "spl_h = df_speaker[\"SPL Horizontal_unmelted\"]\n",
    "spl_v = df_speaker[\"SPL Vertical_unmelted\"]\n",
    "\n",
    "freq = spl_h.Freq\n",
    "spl_h = spl_h.drop(\"Freq\", axis=1)\n",
    "spl_v = spl_v.drop(\"Freq\", axis=1)\n",
    "spl = np.concatenate((spl_h.T.to_numpy(), spl_v.T.to_numpy()), axis=0)"
   ]
  },
  {
   "cell_type": "code",
   "execution_count": null,
   "id": "a0ea1f45-db85-4891-a414-4e41e2cff99d",
   "metadata": {
    "tags": []
   },
   "outputs": [],
   "source": [
    "%load_ext Cython"
   ]
  },
  {
   "cell_type": "code",
   "execution_count": null,
   "id": "d1132076-978c-4858-bc0a-fbd78362e990",
   "metadata": {
    "tags": []
   },
   "outputs": [],
   "source": [
    "import bisect\n",
    "from src.spinorama.constant_paths import MIDRANGE_MAX_FREQ\n",
    "from src.spinorama.ltype import Vector\n",
    "from src.spinorama.auto_misc import get3db\n",
    "from src.spinorama.auto_loss import score_loss"
   ]
  },
  {
   "cell_type": "code",
   "execution_count": null,
   "id": "47b1646d-97de-4910-a3fd-1295dc97796d",
   "metadata": {
    "tags": []
   },
   "outputs": [],
   "source": [
    "_, freq_min = get3db(df_speaker, 3.0)\n",
    "\n",
    "FREQ_NB_POINTS = 200\n",
    "\n",
    "freq_max = 10000\n",
    "freq_first = max(freq_min, 20)\n",
    "freq_last = min(freq_max, 20000)\n",
    "freq_low = bisect.bisect(freq, freq_first)\n",
    "freq_high = bisect.bisect(freq, freq_last)\n",
    "freq_midrange = bisect.bisect(freq, MIDRANGE_MAX_FREQ / 2)\n",
    "\n",
    "lw = df_speaker[\"CEA2034_unmelted\"][\"Listening Window\"].to_numpy()\n",
    "target = lw[freq_low:freq_high] - np.linspace(0, 0.5, len(lw[freq_low:freq_high]))\n",
    "\n",
    "log_freq = np.logspace(np.log10(20), np.log10(freq_max), FREQ_NB_POINTS + 1)\n",
    "min_db = 1\n",
    "max_db = 3\n",
    "min_q = 1\n",
    "max_q = 4\n",
    "max_peq = 7\n",
    "max_iter = 5000"
   ]
  },
  {
   "cell_type": "code",
   "execution_count": null,
   "id": "0563db1d-74a0-469a-bd80-76dd20337b3f",
   "metadata": {
    "tags": []
   },
   "outputs": [],
   "source": [
    "def x2peq(x: list[float | int]) -> Peq:\n",
    "    l = len(x) // 4\n",
    "    peq = []\n",
    "    for i in range(l):\n",
    "        ifreq = int(x[i * 4 + 1])\n",
    "        peq_freq = log_freq[ifreq]\n",
    "        peq_freq = max(freq_min, peq_freq)\n",
    "        peq_freq = min(freq_max, peq_freq)\n",
    "        peq.append((1.0, Biquad(int(x[i * 4]), int(peq_freq), 48000, x[i * 4 + 2], x[i * 4 + 3])))\n",
    "    return peq\n",
    "\n",
    "\n",
    "def x2spl(x: list[float | int]) -> Vector:\n",
    "    return peq_spl(freq, x2peq(x))\n",
    "\n",
    "\n",
    "def opt_peq_score(x) -> float:\n",
    "    peq = x2peq(x)\n",
    "    peq_freq = np.array(x2spl(x))[freq_low:freq_high]\n",
    "    score = score_loss(df_speaker, peq)\n",
    "    flat = np.add(target, peq_freq)\n",
    "    # flatness_l2 = np.linalg.norm(flat, ord=2)\n",
    "    # flatness_l1 = np.linalg.norm(flat, ord=1)\n",
    "    flatness_bass_mid = np.linalg.norm(flat[0 : freq_midrange - freq_low], ord=2)\n",
    "    flatness_mid_high = np.linalg.norm(flat[freq_midrange - freq_low :], ord=2)\n",
    "    # this is black magic, why 10, 20, 40?\n",
    "    # if you increase 20 you give more flexibility to the score (and less flat LW/ON)\n",
    "    # without the constraint optimising the score get crazy results\n",
    "    return score + float(flatness_bass_mid) / 5 + float(flatness_mid_high) / 50\n",
    "\n",
    "\n",
    "def opt_peq_flat(x) -> float:\n",
    "    peq_freq = np.array(x2spl(x))[freq_low:freq_high]\n",
    "    flat = np.add(target, peq_freq)\n",
    "    flatness_l2 = np.linalg.norm(flat, ord=2)\n",
    "    flatness_l1 = np.linalg.norm(flat, ord=1)\n",
    "    return float(flatness_l1 + flatness_l2)\n",
    "\n",
    "\n",
    "def opt_bounds_all(n: int) -> list[list[int | float]]:\n",
    "    bounds0 = [\n",
    "        [0, 6],\n",
    "        [0, FREQ_NB_POINTS],  # algo does not support log scaling so I do it manually\n",
    "        [min_q, 1.3],  # need to be computed from max_db\n",
    "        [-max_db, max_db],\n",
    "    ]\n",
    "    bounds1 = [\n",
    "        [3, 3],\n",
    "        [0, FREQ_NB_POINTS],\n",
    "        [min_q, max_q],\n",
    "        [-max_db, max_db],\n",
    "    ]\n",
    "    return bounds0 + bounds1 * (n - 2) + bounds0\n",
    "\n",
    "\n",
    "def opt_bounds_pk(n: int) -> list[list[int | float]]:\n",
    "    bounds0 = [\n",
    "        [3, 3],\n",
    "        [0, FREQ_NB_POINTS],\n",
    "        [min_q, max_q],\n",
    "        [-max_db, max_db],\n",
    "    ]\n",
    "    return bounds0 * n\n",
    "\n",
    "\n",
    "def opt_integrality(n: int) -> list[bool]:\n",
    "    return [True, True, False, False] * n\n",
    "\n",
    "\n",
    "def opt_constraints(n: int):\n",
    "    # Create some space between the various PEQ; if not the optimiser will add multiple PEQ\n",
    "    # at more or less the same frequency and that will generate too much of a cut on the max\n",
    "    # SPL. we have 200 points from 20Hz-20kHz, 5 give us 1/4 octave\n",
    "    m = n\n",
    "    mat = np.asarray([[0] * (n * 4)] * m)\n",
    "    vec = np.asarray([0] * m)\n",
    "    for i in range(m):\n",
    "        if i == 0:\n",
    "            # first freq can be as low as possible\n",
    "            # second needs to be > freq_min\n",
    "            mat[0][5] = -1\n",
    "            vec[0] = -freq_min\n",
    "            continue\n",
    "        j = (i - 1) * 4 + 1\n",
    "        mat[i][j] = 1\n",
    "        j += 4\n",
    "        mat[i][j] = -1\n",
    "        vec[i] = -5\n",
    "    # lb / uf can be float or array\n",
    "    return opt.LinearConstraint(A=mat, lb=-np.inf, ub=vec, keep_feasible=False)\n",
    "\n",
    "\n",
    "def opt_display(xk, convergence):\n",
    "    # comment if you want to print verbose traces\n",
    "    l = len(xk) // 4\n",
    "    print(f\"IIR    Hz.  Q.   dB [{convergence}]\")\n",
    "    for i in range(l):\n",
    "        t = int(xk[i * 4 + 0])\n",
    "        f = int(log_freq[int(xk[i * 4 + 1])])\n",
    "        q = xk[i * 4 + 2]\n",
    "        db = xk[i * 4 + 3]\n",
    "        print(f\"{t:3d} {f:5d} {q:1.1f} {db:+1.2f}\")"
   ]
  },
  {
   "cell_type": "code",
   "execution_count": null,
   "id": "02879843-0c96-4252-858c-69ae712acce0",
   "metadata": {
    "tags": []
   },
   "outputs": [],
   "source": [
    "res = opt.differential_evolution(\n",
    "    func=opt_peq_flat,\n",
    "    bounds=opt_bounds_pk(max_peq),\n",
    "    maxiter=max_iter,\n",
    "    polish=False,\n",
    "    integrality=opt_integrality(max_peq),\n",
    "    callback=opt_display,\n",
    "    constraints=opt_constraints(max_peq),\n",
    "    disp=False,\n",
    "    tol=0.01,\n",
    ")"
   ]
  },
  {
   "cell_type": "code",
   "execution_count": null,
   "id": "2346c651",
   "metadata": {
    "tags": []
   },
   "outputs": [],
   "source": [
    "auto_peq = x2peq(res.x)\n",
    "freq_20 = bisect.bisect(freq, 80)\n",
    "freq_20k = bisect.bisect(freq, 12000)\n",
    "auto_peq_spl = peq_spl(freq[freq_20:freq_20k], auto_peq)\n",
    "\n",
    "fig = pd.DataFrame(\n",
    "    {\n",
    "        \"Freq\": freq[freq_20:freq_20k],\n",
    "        \"target\": -lw[freq_20:freq_20k],\n",
    "        \"eq\": auto_peq_spl,\n",
    "        \"error\": lw[freq_20:freq_20k] + auto_peq_spl,\n",
    "    }\n",
    ").plot.line(x=\"Freq\", y=[\"target\", \"eq\", \"error\"])\n",
    "fig.update_xaxes(type=\"log\", title={\"text\": \"Freq (Hz)\"})\n",
    "fig.update_yaxes(title={\"text\": \"SPL\"})\n",
    "fig.update_layout(\n",
    "    title=\"{}\".format(speaker_name),\n",
    "    legend={\n",
    "        \"orientation\": \"v\",\n",
    "        \"title\": None,\n",
    "    },\n",
    "    height=500,\n",
    ")\n",
    "fig.show()"
   ]
  },
  {
   "cell_type": "code",
   "execution_count": null,
   "id": "c4bd6c04",
   "metadata": {
    "tags": []
   },
   "outputs": [],
   "source": [
    "apo = peq_format_apo(\"experiments\", auto_peq)\n",
    "for iir in apo.split(\"\\n\"):\n",
    "    print(iir)"
   ]
  },
  {
   "cell_type": "code",
   "execution_count": null,
   "id": "e85b2474-2df2-406e-9fc9-91a951d152a8",
   "metadata": {},
   "outputs": [],
   "source": [
    "opt_peq_flat(res.x)"
   ]
  },
  {
   "cell_type": "code",
   "execution_count": null,
   "id": "13584e7d-5afd-410d-878c-4e2999770b26",
   "metadata": {},
   "outputs": [],
   "source": [
    "-opt_peq_score(res.x)"
   ]
  },
  {
   "cell_type": "code",
   "execution_count": null,
   "id": "14d4a902-cd2e-4bd4-aedc-296c47be2186",
   "metadata": {},
   "outputs": [],
   "source": []
  }
 ],
 "metadata": {
  "kernelspec": {
   "display_name": "Python 3 (ipykernel)",
   "language": "python",
   "name": "python3"
  },
  "language_info": {
   "codemirror_mode": {
    "name": "ipython",
    "version": 3
   },
   "file_extension": ".py",
   "mimetype": "text/x-python",
   "name": "python",
   "nbconvert_exporter": "python",
   "pygments_lexer": "ipython3",
   "version": "3.10.12"
  }
 },
 "nbformat": 4,
 "nbformat_minor": 5
}
