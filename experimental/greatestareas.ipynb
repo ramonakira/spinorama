{
 "cells": [
  {
   "cell_type": "markdown",
   "id": "84b374cc-97d2-4a6e-be40-d8eb9004560a",
   "metadata": {},
   "source": [
    "Experiments"
   ]
  },
  {
   "cell_type": "code",
   "execution_count": 1,
   "id": "e59c1538-1033-45e1-a0a0-cd9660ff7b76",
   "metadata": {},
   "outputs": [],
   "source": [
    "import math\n",
    "import pandas as pd\n",
    "import altair as alt\n",
    "import numpy as np\n",
    "import flammkuchen as fl\n",
    "\n",
    "import sys, os, os.path\n",
    "\n",
    "sys.path.append(os.path.expanduser(\"../src\"))\n",
    "\n",
    "from src.spinorama.graph import graph_params_default, graph_freq, graph_spinorama\n",
    "from src.spinorama.load import filter_graphs, graph_melt, load_normalize\n",
    "from src.spinorama.compute_normalize import normalize_mean\n",
    "\n",
    "df_all = fl.load(\"../cache.parse_all_speakers.h5\")"
   ]
  },
  {
   "cell_type": "code",
   "execution_count": 2,
   "id": "eb77fd16-ef8c-4bf3-91e3-c22c0928bc38",
   "metadata": {},
   "outputs": [],
   "source": [
    "df_klippel = df_all[\"K\"][\"Kanto YU6\"][\"ASR\"][\"asr\"]"
   ]
  },
  {
   "cell_type": "code",
   "execution_count": 3,
   "id": "64c83b5f-5252-46d4-9e6d-0156db41cd56",
   "metadata": {},
   "outputs": [],
   "source": [
    "pir = df_klippel[\"Estimated In-Room Response_unmelted\"]\n",
    "spin = df_klippel[\"CEA2034_unmelted\"]\n",
    "freq = pir.Freq.values\n",
    "spin_mean = df_klippel[\"CEA2034_original_mean\"]\n",
    "# pir['Estimated In-Room Response'] -= spin_mean\n",
    "spin[\"Listening Window\"] -= spin_mean"
   ]
  },
  {
   "cell_type": "code",
   "execution_count": 4,
   "id": "2ca67bc7-d4d4-4df4-9f4e-2adcfe8d1445",
   "metadata": {},
   "outputs": [],
   "source": [
    "params = graph_params_default.copy()\n",
    "params[\"ymin\"] = -5\n",
    "params[\"ymax\"] = 5"
   ]
  },
  {
   "cell_type": "code",
   "execution_count": 5,
   "id": "8774e98b-4355-47a0-a8a7-1d17cb26c9d0",
   "metadata": {},
   "outputs": [],
   "source": [
    "from src.spinorama.auto_target import get_freq, get_target"
   ]
  },
  {
   "cell_type": "code",
   "execution_count": 6,
   "id": "cca88d9a-8e5c-4386-a7c4-bc1fa6f4050a",
   "metadata": {},
   "outputs": [],
   "source": [
    "optim_config = {\n",
    "    \"curve_names\": [\"Listening Window\"],\n",
    "    \"freq_reg_min\": 20,\n",
    "    \"freq_reg_max\": 20000,\n",
    "    \"target_min_freq\": 20,\n",
    "    \"target_max_freq\": 20000,\n",
    "    \"slope_listening_window\": -6,\n",
    "}\n",
    "freq = get_freq(df_klippel, optim_config)\n",
    "lw_target = get_target(spin, freq[1], \"Listening Window\", optim_config) + 36"
   ]
  },
  {
   "cell_type": "code",
   "execution_count": 7,
   "id": "16d7fa7f-4797-4862-9702-efc2e0222006",
   "metadata": {},
   "outputs": [
    {
     "data": {
      "text/html": [
       "\n",
       "<div id=\"altair-viz-1499e3035b91458681e946e4a4fa3fa7\"></div>\n",
       "<script type=\"text/javascript\">\n",
       "  (function(spec, embedOpt){\n",
       "    let outputDiv = document.currentScript.previousElementSibling;\n",
       "    if (outputDiv.id !== \"altair-viz-1499e3035b91458681e946e4a4fa3fa7\") {\n",
       "      outputDiv = document.getElementById(\"altair-viz-1499e3035b91458681e946e4a4fa3fa7\");\n",
       "    }\n",
       "    const paths = {\n",
       "      \"vega\": \"https://cdn.jsdelivr.net/npm//vega@5?noext\",\n",
       "      \"vega-lib\": \"https://cdn.jsdelivr.net/npm//vega-lib?noext\",\n",
       "      \"vega-lite\": \"https://cdn.jsdelivr.net/npm//vega-lite@4.17.0?noext\",\n",
       "      \"vega-embed\": \"https://cdn.jsdelivr.net/npm//vega-embed@6?noext\",\n",
       "    };\n",
       "\n",
       "    function loadScript(lib) {\n",
       "      return new Promise(function(resolve, reject) {\n",
       "        var s = document.createElement('script');\n",
       "        s.src = paths[lib];\n",
       "        s.async = true;\n",
       "        s.onload = () => resolve(paths[lib]);\n",
       "        s.onerror = () => reject(`Error loading script: ${paths[lib]}`);\n",
       "        document.getElementsByTagName(\"head\")[0].appendChild(s);\n",
       "      });\n",
       "    }\n",
       "\n",
       "    function showError(err) {\n",
       "      outputDiv.innerHTML = `<div class=\"error\" style=\"color:red;\">${err}</div>`;\n",
       "      throw err;\n",
       "    }\n",
       "\n",
       "    function displayChart(vegaEmbed) {\n",
       "      vegaEmbed(outputDiv, spec, embedOpt)\n",
       "        .catch(err => showError(`Javascript Error: ${err.message}<br>This usually means there's a typo in your chart specification. See the javascript console for the full traceback.`));\n",
       "    }\n",
       "\n",
       "    if(typeof define === \"function\" && define.amd) {\n",
       "      requirejs.config({paths});\n",
       "      require([\"vega-embed\"], displayChart, err => showError(`Error loading script: ${err.message}`));\n",
       "    } else if (typeof vegaEmbed === \"function\") {\n",
       "      displayChart(vegaEmbed);\n",
       "    } else {\n",
       "      loadScript(\"vega\")\n",
       "        .then(() => loadScript(\"vega-lite\"))\n",
       "        .then(() => loadScript(\"vega-embed\"))\n",
       "        .catch(showError)\n",
       "        .then(() => displayChart(vegaEmbed));\n",
       "    }\n",
       "  })({\"config\": {\"view\": {\"continuousWidth\": 400, \"continuousHeight\": 300}}, \"layer\": [{\"mark\": {\"type\": \"circle\", \"size\": 100}, \"encoding\": {\"color\": {\"field\": \"Measurements\", \"scale\": {\"domain\": [\"Listening Window\"], \"range\": [\"#dc842a\"]}, \"sort\": null, \"type\": \"nominal\"}, \"opacity\": {\"condition\": {\"value\": 1, \"selection\": \"selector001\"}, \"value\": 0}, \"tooltip\": [{\"field\": \"Measurements\", \"type\": \"nominal\"}, {\"field\": \"Freq\", \"type\": \"quantitative\"}, {\"field\": \"dB\", \"type\": \"quantitative\"}], \"x\": {\"field\": \"Freq\", \"scale\": {\"domain\": [20, 20000], \"type\": \"log\"}, \"type\": \"quantitative\"}, \"y\": {\"field\": \"dB\", \"scale\": {\"domain\": [-5, 5], \"zero\": false}, \"type\": \"quantitative\"}}, \"selection\": {\"selector002\": {\"type\": \"multi\", \"fields\": [\"Measurements\"], \"bind\": \"legend\"}, \"selector003\": {\"type\": \"interval\", \"bind\": \"scales\"}, \"selector001\": {\"type\": \"single\", \"nearest\": true, \"on\": \"mouseover\", \"fields\": [\"Freq\"], \"empty\": \"none\"}}}, {\"mark\": \"line\", \"encoding\": {\"color\": {\"field\": \"Measurements\", \"scale\": {\"domain\": [\"Listening Window\"], \"range\": [\"#dc842a\"]}, \"sort\": null, \"type\": \"nominal\"}, \"opacity\": {\"condition\": {\"value\": 1, \"selection\": \"selector002\"}, \"value\": 0.2}, \"x\": {\"axis\": {\"format\": \"~s\"}, \"field\": \"Freq\", \"scale\": {\"base\": 10, \"domain\": [20, 20000], \"nice\": false, \"type\": \"log\"}, \"title\": \"Freqency (Hz)\", \"type\": \"quantitative\"}, \"y\": {\"field\": \"dB\", \"scale\": {\"domain\": [-5, 5], \"zero\": false}, \"title\": \"Sound Pressure (dB)\", \"type\": \"quantitative\"}}, \"height\": 360, \"width\": 600}, {\"data\": {\"name\": \"data-ee1195e6a7478af39e7e5ae7e7f489ea\"}, \"mark\": \"line\", \"encoding\": {\"x\": {\"field\": \"Freq\", \"type\": \"quantitative\"}, \"y\": {\"field\": \"Target\", \"type\": \"quantitative\"}}}], \"data\": {\"name\": \"data-7798f1855f1cc393a296b18530541e06\"}, \"$schema\": \"https://vega.github.io/schema/vega-lite/v4.17.0.json\", \"datasets\": {\"data-7798f1855f1cc393a296b18530541e06\": [{\"Freq\": 20.5078, \"Measurements\": \"Listening Window\", \"dB\": -31.04961180756164}, {\"Freq\": 21.9727, \"Measurements\": \"Listening Window\", \"dB\": -38.80561655759354}, {\"Freq\": 23.4375, \"Measurements\": \"Listening Window\", \"dB\": -33.495438712000905}, {\"Freq\": 24.9023, \"Measurements\": \"Listening Window\", \"dB\": -31.23776414876516}, {\"Freq\": 26.3672, \"Measurements\": \"Listening Window\", \"dB\": -29.139487617648783}, {\"Freq\": 27.832, \"Measurements\": \"Listening Window\", \"dB\": -27.608699574343447}, {\"Freq\": 29.2969, \"Measurements\": \"Listening Window\", \"dB\": -29.264003725382594}, {\"Freq\": 30.7617, \"Measurements\": \"Listening Window\", \"dB\": -25.615468455821826}, {\"Freq\": 32.2266, \"Measurements\": \"Listening Window\", \"dB\": -24.41715747187071}, {\"Freq\": 33.6914, \"Measurements\": \"Listening Window\", \"dB\": -22.88537352797556}, {\"Freq\": 35.1562, \"Measurements\": \"Listening Window\", \"dB\": -21.532536570987432}, {\"Freq\": 36.6211, \"Measurements\": \"Listening Window\", \"dB\": -20.282223688489424}, {\"Freq\": 38.0859, \"Measurements\": \"Listening Window\", \"dB\": -18.670919428416255}, {\"Freq\": 39.5508, \"Measurements\": \"Listening Window\", \"dB\": -17.141290112677652}, {\"Freq\": 41.0156, \"Measurements\": \"Listening Window\", \"dB\": -15.98341333441924}, {\"Freq\": 42.4805, \"Measurements\": \"Listening Window\", \"dB\": -14.841279439189961}, {\"Freq\": 43.9453, \"Measurements\": \"Listening Window\", \"dB\": -13.431779746927418}, {\"Freq\": 45.4102, \"Measurements\": \"Listening Window\", \"dB\": -12.449174173480557}, {\"Freq\": 46.875, \"Measurements\": \"Listening Window\", \"dB\": -11.244535730143127}, {\"Freq\": 48.3398, \"Measurements\": \"Listening Window\", \"dB\": -10.255424650012046}, {\"Freq\": 51.2695, \"Measurements\": \"Listening Window\", \"dB\": -8.488209560831038}, {\"Freq\": 52.7344, \"Measurements\": \"Listening Window\", \"dB\": -7.55924697807643}, {\"Freq\": 54.1992, \"Measurements\": \"Listening Window\", \"dB\": -6.800305563436737}, {\"Freq\": 55.6641, \"Measurements\": \"Listening Window\", \"dB\": -6.201347249130933}, {\"Freq\": 58.5938, \"Measurements\": \"Listening Window\", \"dB\": -4.791884272657029}, {\"Freq\": 60.0586, \"Measurements\": \"Listening Window\", \"dB\": -4.176457126595068}, {\"Freq\": 62.9883, \"Measurements\": \"Listening Window\", \"dB\": -3.225192495182256}, {\"Freq\": 64.4531, \"Measurements\": \"Listening Window\", \"dB\": -2.7533346651491115}, {\"Freq\": 67.3828, \"Measurements\": \"Listening Window\", \"dB\": -1.8933258748508308}, {\"Freq\": 68.8477, \"Measurements\": \"Listening Window\", \"dB\": -1.4971096585547201}, {\"Freq\": 71.7773, \"Measurements\": \"Listening Window\", \"dB\": -0.7387624242644932}, {\"Freq\": 74.707, \"Measurements\": \"Listening Window\", \"dB\": -0.14375739900700069}, {\"Freq\": 77.6367, \"Measurements\": \"Listening Window\", \"dB\": 0.49183531948145287}, {\"Freq\": 79.1016, \"Measurements\": \"Listening Window\", \"dB\": 0.8022878000738132}, {\"Freq\": 82.0312, \"Measurements\": \"Listening Window\", \"dB\": 1.3417062862885984}, {\"Freq\": 84.9609, \"Measurements\": \"Listening Window\", \"dB\": 1.6404138864713502}, {\"Freq\": 87.8906, \"Measurements\": \"Listening Window\", \"dB\": 1.9425155600522857}, {\"Freq\": 90.8203, \"Measurements\": \"Listening Window\", \"dB\": 2.6273235114453684}, {\"Freq\": 95.2148, \"Measurements\": \"Listening Window\", \"dB\": 2.9588850329466965}, {\"Freq\": 98.1445, \"Measurements\": \"Listening Window\", \"dB\": 3.1643065348153527}, {\"Freq\": 101.074, \"Measurements\": \"Listening Window\", \"dB\": 3.277022917194458}, {\"Freq\": 105.469, \"Measurements\": \"Listening Window\", \"dB\": 3.626629994459904}, {\"Freq\": 108.398, \"Measurements\": \"Listening Window\", \"dB\": 3.8715940104882662}, {\"Freq\": 112.793, \"Measurements\": \"Listening Window\", \"dB\": 4.161609822696633}, {\"Freq\": 117.188, \"Measurements\": \"Listening Window\", \"dB\": 4.2674277207031395}, {\"Freq\": 120.117, \"Measurements\": \"Listening Window\", \"dB\": 4.452517414497976}, {\"Freq\": 124.512, \"Measurements\": \"Listening Window\", \"dB\": 4.405347894546267}, {\"Freq\": 128.906, \"Measurements\": \"Listening Window\", \"dB\": 4.2190249160696425}, {\"Freq\": 133.301, \"Measurements\": \"Listening Window\", \"dB\": 4.201550171995976}, {\"Freq\": 139.16, \"Measurements\": \"Listening Window\", \"dB\": 4.206197565127084}, {\"Freq\": 143.555, \"Measurements\": \"Listening Window\", \"dB\": 4.189519920518904}, {\"Freq\": 147.949, \"Measurements\": \"Listening Window\", \"dB\": 4.112582991200455}, {\"Freq\": 153.809, \"Measurements\": \"Listening Window\", \"dB\": 4.011139378509881}, {\"Freq\": 159.668, \"Measurements\": \"Listening Window\", \"dB\": 3.809483572714683}, {\"Freq\": 165.527, \"Measurements\": \"Listening Window\", \"dB\": 3.7271447779161946}, {\"Freq\": 171.387, \"Measurements\": \"Listening Window\", \"dB\": 3.657535316261658}, {\"Freq\": 177.246, \"Measurements\": \"Listening Window\", \"dB\": 3.792126002558547}, {\"Freq\": 183.105, \"Measurements\": \"Listening Window\", \"dB\": 3.3935410581574246}, {\"Freq\": 188.965, \"Measurements\": \"Listening Window\", \"dB\": 3.254054292816548}, {\"Freq\": 196.289, \"Measurements\": \"Listening Window\", \"dB\": 3.182416796045487}, {\"Freq\": 203.613, \"Measurements\": \"Listening Window\", \"dB\": 3.056969021791076}, {\"Freq\": 210.938, \"Measurements\": \"Listening Window\", \"dB\": 2.862931066433376}, {\"Freq\": 218.262, \"Measurements\": \"Listening Window\", \"dB\": 2.495457861618334}, {\"Freq\": 225.586, \"Measurements\": \"Listening Window\", \"dB\": 2.423901583575784}, {\"Freq\": 232.91, \"Measurements\": \"Listening Window\", \"dB\": 2.4280896030297043}, {\"Freq\": 241.699, \"Measurements\": \"Listening Window\", \"dB\": 2.1618669402973154}, {\"Freq\": 250.488, \"Measurements\": \"Listening Window\", \"dB\": 2.054781162037642}, {\"Freq\": 259.277, \"Measurements\": \"Listening Window\", \"dB\": 1.8345556572071473}, {\"Freq\": 268.066, \"Measurements\": \"Listening Window\", \"dB\": 1.5884029076430721}, {\"Freq\": 276.855, \"Measurements\": \"Listening Window\", \"dB\": 1.3409409308975029}, {\"Freq\": 287.109, \"Measurements\": \"Listening Window\", \"dB\": 0.9906432636561533}, {\"Freq\": 297.363, \"Measurements\": \"Listening Window\", \"dB\": 1.338276077143746}, {\"Freq\": 307.617, \"Measurements\": \"Listening Window\", \"dB\": 1.6733278377174656}, {\"Freq\": 319.336, \"Measurements\": \"Listening Window\", \"dB\": 1.6020214565808857}, {\"Freq\": 329.59, \"Measurements\": \"Listening Window\", \"dB\": 1.1962762186958855}, {\"Freq\": 341.309, \"Measurements\": \"Listening Window\", \"dB\": 1.144560587028863}, {\"Freq\": 353.027, \"Measurements\": \"Listening Window\", \"dB\": 1.0131880569263814}, {\"Freq\": 366.211, \"Measurements\": \"Listening Window\", \"dB\": 1.0390936930308783}, {\"Freq\": 379.395, \"Measurements\": \"Listening Window\", \"dB\": 1.0959619158387284}, {\"Freq\": 392.578, \"Measurements\": \"Listening Window\", \"dB\": 1.140209812577865}, {\"Freq\": 405.762, \"Measurements\": \"Listening Window\", \"dB\": 1.279802867782962}, {\"Freq\": 420.41, \"Measurements\": \"Listening Window\", \"dB\": 1.3615643550013914}, {\"Freq\": 435.059, \"Measurements\": \"Listening Window\", \"dB\": 0.7670856280461322}, {\"Freq\": 451.172, \"Measurements\": \"Listening Window\", \"dB\": 1.1894181343213432}, {\"Freq\": 465.82, \"Measurements\": \"Listening Window\", \"dB\": 0.9733545509434265}, {\"Freq\": 483.398, \"Measurements\": \"Listening Window\", \"dB\": 0.8265587942502464}, {\"Freq\": 499.512, \"Measurements\": \"Listening Window\", \"dB\": 0.5174366462893403}, {\"Freq\": 517.09, \"Measurements\": \"Listening Window\", \"dB\": 0.3978687607471585}, {\"Freq\": 536.133, \"Measurements\": \"Listening Window\", \"dB\": 0.9104015587298733}, {\"Freq\": 555.176, \"Measurements\": \"Listening Window\", \"dB\": 1.4015601808586524}, {\"Freq\": 574.219, \"Measurements\": \"Listening Window\", \"dB\": 1.7049098858976919}, {\"Freq\": 594.727, \"Measurements\": \"Listening Window\", \"dB\": 1.2035670177964874}, {\"Freq\": 615.234, \"Measurements\": \"Listening Window\", \"dB\": 1.3868460982948534}, {\"Freq\": 637.207, \"Measurements\": \"Listening Window\", \"dB\": 1.366560559823057}, {\"Freq\": 659.18, \"Measurements\": \"Listening Window\", \"dB\": 1.0404523060104651}, {\"Freq\": 682.617, \"Measurements\": \"Listening Window\", \"dB\": 0.9633060865425023}, {\"Freq\": 707.52, \"Measurements\": \"Listening Window\", \"dB\": 1.319765671623216}, {\"Freq\": 732.422, \"Measurements\": \"Listening Window\", \"dB\": 1.5519114207361753}, {\"Freq\": 757.324, \"Measurements\": \"Listening Window\", \"dB\": 1.3288423479687168}, {\"Freq\": 785.156, \"Measurements\": \"Listening Window\", \"dB\": -0.1088518412295656}, {\"Freq\": 811.523, \"Measurements\": \"Listening Window\", \"dB\": -0.7842289393105375}, {\"Freq\": 840.82, \"Measurements\": \"Listening Window\", \"dB\": -0.5031144086122339}, {\"Freq\": 870.117, \"Measurements\": \"Listening Window\", \"dB\": 3.1724853504382935}, {\"Freq\": 900.879, \"Measurements\": \"Listening Window\", \"dB\": 4.84092353687717}, {\"Freq\": 933.105, \"Measurements\": \"Listening Window\", \"dB\": 5.4372385502911555}, {\"Freq\": 965.332, \"Measurements\": \"Listening Window\", \"dB\": 4.878373446689224}, {\"Freq\": 1000.49, \"Measurements\": \"Listening Window\", \"dB\": 3.898332090855334}, {\"Freq\": 1035.64, \"Measurements\": \"Listening Window\", \"dB\": 2.445768520391269}, {\"Freq\": 1072.27, \"Measurements\": \"Listening Window\", \"dB\": 1.6513395548325605}, {\"Freq\": 1108.89, \"Measurements\": \"Listening Window\", \"dB\": 1.9993890505895564}, {\"Freq\": 1148.44, \"Measurements\": \"Listening Window\", \"dB\": 1.5742280229071213}, {\"Freq\": 1189.45, \"Measurements\": \"Listening Window\", \"dB\": 1.424109983233052}, {\"Freq\": 1230.47, \"Measurements\": \"Listening Window\", \"dB\": 1.4539198019569284}, {\"Freq\": 1274.41, \"Measurements\": \"Listening Window\", \"dB\": 1.8753053982735963}, {\"Freq\": 1319.82, \"Measurements\": \"Listening Window\", \"dB\": 2.2147692370875944}, {\"Freq\": 1366.7, \"Measurements\": \"Listening Window\", \"dB\": 2.09526005041306}, {\"Freq\": 1413.57, \"Measurements\": \"Listening Window\", \"dB\": 1.9326100108519597}, {\"Freq\": 1463.38, \"Measurements\": \"Listening Window\", \"dB\": 2.5749798209090073}, {\"Freq\": 1516.11, \"Measurements\": \"Listening Window\", \"dB\": 2.8277171406089536}, {\"Freq\": 1568.85, \"Measurements\": \"Listening Window\", \"dB\": 2.0715918135911977}, {\"Freq\": 1624.51, \"Measurements\": \"Listening Window\", \"dB\": 2.414955084947522}, {\"Freq\": 1681.64, \"Measurements\": \"Listening Window\", \"dB\": 2.7268641174271977}, {\"Freq\": 1741.7, \"Measurements\": \"Listening Window\", \"dB\": 3.5663528693225715}, {\"Freq\": 1803.22, \"Measurements\": \"Listening Window\", \"dB\": 3.500640674490029}, {\"Freq\": 1866.21, \"Measurements\": \"Listening Window\", \"dB\": 3.1102249996464053}, {\"Freq\": 1932.13, \"Measurements\": \"Listening Window\", \"dB\": 2.5186048239687864}, {\"Freq\": 1999.51, \"Measurements\": \"Listening Window\", \"dB\": 2.334052597254498}, {\"Freq\": 2069.82, \"Measurements\": \"Listening Window\", \"dB\": 3.28593516344408}, {\"Freq\": 2143.07, \"Measurements\": \"Listening Window\", \"dB\": 3.4964938362948743}, {\"Freq\": 2219.24, \"Measurements\": \"Listening Window\", \"dB\": 2.852847699466224}, {\"Freq\": 2296.88, \"Measurements\": \"Listening Window\", \"dB\": 2.2755546671563707}, {\"Freq\": 2378.91, \"Measurements\": \"Listening Window\", \"dB\": 2.3682463458450513}, {\"Freq\": 2462.4, \"Measurements\": \"Listening Window\", \"dB\": 3.554418552501616}, {\"Freq\": 2548.83, \"Measurements\": \"Listening Window\", \"dB\": 3.9969692784543156}, {\"Freq\": 2639.65, \"Measurements\": \"Listening Window\", \"dB\": 3.027617482017945}, {\"Freq\": 2731.93, \"Measurements\": \"Listening Window\", \"dB\": 2.1293595683298037}, {\"Freq\": 2828.61, \"Measurements\": \"Listening Window\", \"dB\": 2.4423803857839204}, {\"Freq\": 2928.22, \"Measurements\": \"Listening Window\", \"dB\": 3.144270021217963}, {\"Freq\": 3030.76, \"Measurements\": \"Listening Window\", \"dB\": 3.1354909745513027}, {\"Freq\": 3137.7, \"Measurements\": \"Listening Window\", \"dB\": 2.6445378865586378}, {\"Freq\": 3249.02, \"Measurements\": \"Listening Window\", \"dB\": 1.9718444718916714}, {\"Freq\": 3363.28, \"Measurements\": \"Listening Window\", \"dB\": 1.927788029319231}, {\"Freq\": 3481.93, \"Measurements\": \"Listening Window\", \"dB\": 2.3721435513341618}, {\"Freq\": 3604.98, \"Measurements\": \"Listening Window\", \"dB\": 2.272017840663267}, {\"Freq\": 3732.42, \"Measurements\": \"Listening Window\", \"dB\": 2.6241845433202116}, {\"Freq\": 3864.26, \"Measurements\": \"Listening Window\", \"dB\": 2.02177762623667}, {\"Freq\": 4000.49, \"Measurements\": \"Listening Window\", \"dB\": 1.3386936433429923}, {\"Freq\": 4141.11, \"Measurements\": \"Listening Window\", \"dB\": 1.993992276623672}, {\"Freq\": 4287.6, \"Measurements\": \"Listening Window\", \"dB\": 2.0832910460206477}, {\"Freq\": 4438.48, \"Measurements\": \"Listening Window\", \"dB\": 2.3472040392645823}, {\"Freq\": 4595.21, \"Measurements\": \"Listening Window\", \"dB\": 1.621045983818604}, {\"Freq\": 4756.35, \"Measurements\": \"Listening Window\", \"dB\": 2.0876851873109104}, {\"Freq\": 4924.8, \"Measurements\": \"Listening Window\", \"dB\": 2.4581971928123494}, {\"Freq\": 5097.66, \"Measurements\": \"Listening Window\", \"dB\": 1.3077097118866732}, {\"Freq\": 5277.83, \"Measurements\": \"Listening Window\", \"dB\": 1.1627127473476406}, {\"Freq\": 5463.87, \"Measurements\": \"Listening Window\", \"dB\": 1.5041432546505717}, {\"Freq\": 5657.23, \"Measurements\": \"Listening Window\", \"dB\": 1.231521249168324}, {\"Freq\": 5856.45, \"Measurements\": \"Listening Window\", \"dB\": 0.6790730852221003}, {\"Freq\": 6062.99, \"Measurements\": \"Listening Window\", \"dB\": 1.283792593148135}, {\"Freq\": 6276.86, \"Measurements\": \"Listening Window\", \"dB\": 0.718073672236855}, {\"Freq\": 6498.05, \"Measurements\": \"Listening Window\", \"dB\": 0.7479909454590654}, {\"Freq\": 6726.56, \"Measurements\": \"Listening Window\", \"dB\": 0.8942705654829695}, {\"Freq\": 6963.87, \"Measurements\": \"Listening Window\", \"dB\": 0.5401248656483375}, {\"Freq\": 7209.96, \"Measurements\": \"Listening Window\", \"dB\": 0.68854947267927}, {\"Freq\": 7464.84, \"Measurements\": \"Listening Window\", \"dB\": 0.5858413865132093}, {\"Freq\": 7727.05, \"Measurements\": \"Listening Window\", \"dB\": 0.5284242304232833}, {\"Freq\": 7999.51, \"Measurements\": \"Listening Window\", \"dB\": 0.5511062237898017}, {\"Freq\": 8282.23, \"Measurements\": \"Listening Window\", \"dB\": 0.5552389188181337}, {\"Freq\": 8573.73, \"Measurements\": \"Listening Window\", \"dB\": 0.6559947454868933}, {\"Freq\": 8876.95, \"Measurements\": \"Listening Window\", \"dB\": 0.2556847421478068}, {\"Freq\": 9188.96, \"Measurements\": \"Listening Window\", \"dB\": 0.2607255260640642}, {\"Freq\": 9514.16, \"Measurements\": \"Listening Window\", \"dB\": 0.3009516896899669}, {\"Freq\": 9849.61, \"Measurements\": \"Listening Window\", \"dB\": 0.4056748959004892}, {\"Freq\": 10196.8, \"Measurements\": \"Listening Window\", \"dB\": 0.5394626983357256}, {\"Freq\": 10555.7, \"Measurements\": \"Listening Window\", \"dB\": 0.6189101296630497}, {\"Freq\": 10927.7, \"Measurements\": \"Listening Window\", \"dB\": 0.7168457562841155}, {\"Freq\": 11313.0, \"Measurements\": \"Listening Window\", \"dB\": 0.6534815298345933}, {\"Freq\": 11712.9, \"Measurements\": \"Listening Window\", \"dB\": 0.6280285437921975}, {\"Freq\": 12126.0, \"Measurements\": \"Listening Window\", \"dB\": 0.506536016584576}, {\"Freq\": 12553.7, \"Measurements\": \"Listening Window\", \"dB\": 0.24906886674513373}, {\"Freq\": 12996.1, \"Measurements\": \"Listening Window\", \"dB\": 0.05304368082362032}, {\"Freq\": 13454.6, \"Measurements\": \"Listening Window\", \"dB\": -0.09996034828228062}, {\"Freq\": 13929.2, \"Measurements\": \"Listening Window\", \"dB\": -0.184905000427122}, {\"Freq\": 14419.9, \"Measurements\": \"Listening Window\", \"dB\": 0.14279431269072518}, {\"Freq\": 14928.2, \"Measurements\": \"Listening Window\", \"dB\": 0.46706835938505264}, {\"Freq\": 15455.6, \"Measurements\": \"Listening Window\", \"dB\": 0.35544916416897365}, {\"Freq\": 16000.5, \"Measurements\": \"Listening Window\", \"dB\": -0.1635438404077405}, {\"Freq\": 16564.5, \"Measurements\": \"Listening Window\", \"dB\": -0.9023878483706937}, {\"Freq\": 17148.9, \"Measurements\": \"Listening Window\", \"dB\": -1.8557048216023873}, {\"Freq\": 17752.4, \"Measurements\": \"Listening Window\", \"dB\": -2.9511367226603795}, {\"Freq\": 18379.4, \"Measurements\": \"Listening Window\", \"dB\": -4.184499389104829}, {\"Freq\": 19026.9, \"Measurements\": \"Listening Window\", \"dB\": -5.184865392271334}, {\"Freq\": 19697.8, \"Measurements\": \"Listening Window\", \"dB\": -5.9671846477428545}, {\"Freq\": 19999.5, \"Measurements\": \"Listening Window\", \"dB\": -6.405685900076591}], \"data-ee1195e6a7478af39e7e5ae7e7f489ea\": [{\"Freq\": 20.5078, \"Target\": 4.950388192438361}, {\"Freq\": 21.9727, \"Target\": 4.890240953131645}, {\"Freq\": 23.4375, \"Target\": 4.8339808248019125}, {\"Freq\": 24.9023, \"Target\": 4.7811324587614585}, {\"Freq\": 26.3672, \"Target\": 4.731302305060687}, {\"Freq\": 27.832, \"Target\": 4.6841702549645206}, {\"Freq\": 29.2969, \"Target\": 4.639453278372329}, {\"Freq\": 30.7617, \"Target\": 4.596921419351233}, {\"Freq\": 32.2266, \"Target\": 4.556365755658781}, {\"Freq\": 33.6914, \"Target\": 4.517615826546379}, {\"Freq\": 35.1562, \"Target\": 4.480515291546883}, {\"Freq\": 36.6211, \"Target\": 4.444927070959842}, {\"Freq\": 38.0859, \"Target\": 4.410737173271325}, {\"Freq\": 39.5508, \"Target\": 4.37783553197356}, {\"Freq\": 41.0156, \"Target\": 4.3461327527283515}, {\"Freq\": 42.4805, \"Target\": 4.315540500036494}, {\"Freq\": 43.9453, \"Target\": 4.285987497149893}, {\"Freq\": 45.4102, \"Target\": 4.257401673814162}, {\"Freq\": 46.875, \"Target\": 4.229725385091903}, {\"Freq\": 48.3398, \"Target\": 4.202900785962282}, {\"Freq\": 51.2695, \"Target\": 4.151605950197183}, {\"Freq\": 52.7344, \"Target\": 4.127046865350678}, {\"Freq\": 54.1992, \"Target\": 4.103162351125661}, {\"Freq\": 55.6641, \"Target\": 4.079913249151566}, {\"Freq\": 58.5938, \"Target\": 4.03519783866232}, {\"Freq\": 60.0586, \"Target\": 4.013672550602855}, {\"Freq\": 62.9883, \"Target\": 3.9721523288069847}, {\"Freq\": 64.4531, \"Target\": 3.9521116684913977}, {\"Freq\": 67.3828, \"Target\": 3.9133603868363736}, {\"Freq\": 68.8477, \"Target\": 3.8946115006962003}, {\"Freq\": 71.7773, \"Target\": 3.8582841492983917}, {\"Freq\": 74.707, \"Target\": 3.823409079063083}, {\"Freq\": 77.6367, \"Target\": 3.7898757012833073}, {\"Freq\": 79.1016, \"Target\": 3.7735800922635505}, {\"Freq\": 82.0312, \"Target\": 3.7418773130183425}, {\"Freq\": 84.9609, \"Target\": 3.7112860863935495}, {\"Freq\": 87.8906, \"Target\": 3.6817320574398806}, {\"Freq\": 90.8203, \"Target\": 3.6531471939730906}, {\"Freq\": 95.2148, \"Target\": 3.61195447324598}, {\"Freq\": 98.1445, \"Target\": 3.58553547011595}, {\"Freq\": 101.074, \"Target\": 3.5598953387338312}, {\"Freq\": 105.469, \"Target\": 3.522789772534729}, {\"Freq\": 108.398, \"Target\": 3.498910128282077}, {\"Freq\": 112.793, \"Target\": 3.464262485400056}, {\"Freq\": 117.188, \"Target\": 3.430939423365004}, {\"Freq\": 120.117, \"Target\": 3.409418562403623}, {\"Freq\": 124.512, \"Target\": 3.3780912761112347}, {\"Freq\": 128.906, \"Target\": 3.34785758132611}, {\"Freq\": 133.301, \"Target\": 3.3186308412129364}, {\"Freq\": 139.16, \"Target\": 3.2811325730133305}, {\"Freq\": 143.555, \"Target\": 3.2540262805332034}, {\"Freq\": 147.949, \"Target\": 3.2277433653839296}, {\"Freq\": 153.809, \"Target\": 3.1938809035029934}, {\"Freq\": 159.668, \"Target\": 3.1612902178165143}, {\"Freq\": 165.527, \"Target\": 3.1298741561817067}, {\"Freq\": 171.387, \"Target\": 3.0995458984686337}, {\"Freq\": 177.246, \"Target\": 3.0702422970035457}, {\"Freq\": 183.105, \"Target\": 3.0418917694874352}, {\"Freq\": 188.965, \"Target\": 3.0144296546775635}, {\"Freq\": 196.289, \"Target\": 2.981280030405941}, {\"Freq\": 203.613, \"Target\": 2.9493449196272152}, {\"Freq\": 210.938, \"Target\": 2.91853433282472}, {\"Freq\": 218.262, \"Target\": 2.88877961163314}, {\"Freq\": 225.586, \"Target\": 2.860007045690047}, {\"Freq\": 232.91, \"Target\": 2.8321538627750087}, {\"Freq\": 241.699, \"Target\": 2.799863104011095}, {\"Freq\": 250.488, \"Target\": 2.76872582937024}, {\"Freq\": 259.277, \"Target\": 2.73866246417127}, {\"Freq\": 268.066, \"Target\": 2.7096013942638066}, {\"Freq\": 276.855, \"Target\": 2.681477938391353}, {\"Freq\": 287.109, \"Target\": 2.6497738771432324}, {\"Freq\": 297.363, \"Target\": 2.619182482996983}, {\"Freq\": 307.617, \"Target\": 2.5896282976900338}, {\"Freq\": 319.336, \"Target\": 2.5570347781065053}, {\"Freq\": 329.59, \"Target\": 2.5294823808683233}, {\"Freq\": 341.309, \"Target\": 2.4990242892161447}, {\"Freq\": 353.027, \"Target\": 2.4695970072491846}, {\"Freq\": 366.211, \"Target\": 2.437633949298643}, {\"Freq\": 379.395, \"Target\": 2.406801489622275}, {\"Freq\": 392.578, \"Target\": 2.3770245906959317}, {\"Freq\": 405.762, \"Target\": 2.3482291391525933}, {\"Freq\": 420.41, \"Target\": 2.3173134824699986}, {\"Freq\": 435.059, \"Target\": 2.2874547573539274}, {\"Freq\": 451.172, \"Target\": 2.2557516059800378}, {\"Freq\": 465.82, \"Target\": 2.2278984230649996}, {\"Freq\": 483.398, \"Target\": 2.195607664301086}, {\"Freq\": 499.512, \"Target\": 2.1670216489908967}, {\"Freq\": 517.09, \"Target\": 2.1368716785543995}, {\"Freq\": 536.133, \"Target\": 2.105344328544696}, {\"Freq\": 555.176, \"Target\": 2.074917490738379}, {\"Freq\": 574.219, \"Target\": 2.0455169192718827}, {\"Freq\": 594.727, \"Target\": 2.014925577476511}, {\"Freq\": 615.234, \"Target\": 1.9853728579800247}, {\"Freq\": 637.207, \"Target\": 1.9547812893327432}, {\"Freq\": 659.18, \"Target\": 1.9252269411583143}, {\"Freq\": 682.617, \"Target\": 1.8947701265849162}, {\"Freq\": 707.52, \"Target\": 1.8635333916211962}, {\"Freq\": 732.422, \"Target\": 1.8333785095886341}, {\"Freq\": 757.324, \"Target\": 1.8042319326000538}, {\"Freq\": 785.156, \"Target\": 1.7727691509859227}, {\"Freq\": 811.523, \"Target\": 1.7439747736644904}, {\"Freq\": 840.82, \"Target\": 1.7130580427599824}, {\"Freq\": 870.117, \"Target\": 1.6832003195273728}, {\"Freq\": 900.879, \"Target\": 1.6529126558545286}, {\"Freq\": 933.105, \"Target\": 1.6222732268673425}, {\"Freq\": 965.332, \"Target\": 1.5926733083970603}, {\"Freq\": 1000.49, \"Target\": 1.5614879036492724}, {\"Freq\": 1035.64, \"Target\": 1.5313864077987063}, {\"Freq\": 1072.27, \"Target\": 1.5010856368255716}, {\"Freq\": 1108.89, \"Target\": 1.471810648552598}, {\"Freq\": 1148.44, \"Target\": 1.4412599614031762}, {\"Freq\": 1189.45, \"Target\": 1.4106730693898868}, {\"Freq\": 1230.47, \"Target\": 1.3811160013203363}, {\"Freq\": 1274.41, \"Target\": 1.3505285858064084}, {\"Freq\": 1319.82, \"Target\": 1.3200066208364163}, {\"Freq\": 1366.7, \"Target\": 1.2895790896774457}, {\"Freq\": 1413.57, \"Target\": 1.2601840378792275}, {\"Freq\": 1463.38, \"Target\": 1.229994759590916}, {\"Freq\": 1516.11, \"Target\": 1.1991354439855115}, {\"Freq\": 1568.85, \"Target\": 1.1693257164168998}, {\"Freq\": 1624.51, \"Target\": 1.1389333574551372}, {\"Freq\": 1681.64, \"Target\": 1.1088026030499805}, {\"Freq\": 1741.7, \"Target\": 1.0782108079769017}, {\"Freq\": 1803.22, \"Target\": 1.0479501339826172}, {\"Freq\": 1866.21, \"Target\": 1.0180177871573335}, {\"Freq\": 1932.13, \"Target\": 0.9877561741541783}, {\"Freq\": 1999.51, \"Target\": 0.9578731263867795}, {\"Freq\": 2069.82, \"Target\": 0.9277456667383959}, {\"Freq\": 2143.07, \"Target\": 0.8974279575694624}, {\"Freq\": 2219.24, \"Target\": 0.8669815065458479}, {\"Freq\": 2296.88, \"Target\": 0.8370045216931672}, {\"Freq\": 2378.91, \"Target\": 0.8064139651521813}, {\"Freq\": 2462.4, \"Target\": 0.7763435287530811}, {\"Freq\": 2548.83, \"Target\": 0.746269725868153}, {\"Freq\": 2639.65, \"Target\": 0.7157478785750158}, {\"Freq\": 2731.93, \"Target\": 0.6857925994473675}, {\"Freq\": 2828.61, \"Target\": 0.6554754374642684}, {\"Freq\": 2928.22, \"Target\": 0.6253045569055331}, {\"Freq\": 3030.76, \"Target\": 0.5952998520272672}, {\"Freq\": 3137.7, \"Target\": 0.5650702767068907}, {\"Freq\": 3249.02, \"Target\": 0.5346779177451282}, {\"Freq\": 3363.28, \"Target\": 0.5045471633399643}, {\"Freq\": 3481.93, \"Target\": 0.47432332838326374}, {\"Freq\": 3604.98, \"Target\": 0.4440476800240347}, {\"Freq\": 3732.42, \"Target\": 0.41376234744732443}, {\"Freq\": 3864.26, \"Target\": 0.3835007344441692}, {\"Freq\": 4000.49, \"Target\": 0.35329729659935794}, {\"Freq\": 4141.11, \"Target\": 0.3231807183937505}, {\"Freq\": 4287.6, \"Target\": 0.29287561959831976}, {\"Freq\": 4438.48, \"Target\": 0.2627260668358389}, {\"Freq\": 4595.21, \"Target\": 0.2324739593777707}, {\"Freq\": 4756.35, \"Target\": 0.20242790927909482}, {\"Freq\": 4924.8, \"Target\": 0.17208808904307205}, {\"Freq\": 5097.66, \"Target\": 0.14201428615814393}, {\"Freq\": 5277.83, \"Target\": 0.11173520973321871}, {\"Freq\": 5463.87, \"Target\": 0.08153556424345965}, {\"Freq\": 5657.23, \"Target\": 0.051218456793222344}, {\"Freq\": 5856.45, \"Target\": 0.021047628653704464}, {\"Freq\": 6062.99, \"Target\": -0.00916697466760752}, {\"Freq\": 6276.86, \"Target\": -0.03938795743888335}, {\"Freq\": 6498.05, \"Target\": -0.06957886353196585}, {\"Freq\": 6726.56, \"Target\": -0.09970827637004476}, {\"Freq\": 6963.87, \"Target\": -0.12993336315504678}, {\"Freq\": 7209.96, \"Target\": -0.16020775968597434}, {\"Freq\": 7464.84, \"Target\": -0.19049309226268463}, {\"Freq\": 7727.05, \"Target\": -0.22058887743762057}, {\"Freq\": 7999.51, \"Target\": -0.25079796279077016}, {\"Freq\": 8282.23, \"Target\": -0.28107577387921623}, {\"Freq\": 8573.73, \"Target\": -0.31123036684518013}, {\"Freq\": 8876.95, \"Target\": -0.34152839082984343}, {\"Freq\": 9188.96, \"Target\": -0.37164298118383954}, {\"Freq\": 9514.16, \"Target\": -0.40196131648272626}, {\"Freq\": 9849.61, \"Target\": -0.43216823573423824}, {\"Freq\": 10196.8, \"Target\": -0.4623676925645057}, {\"Freq\": 10555.7, \"Target\": -0.49252353343550226}, {\"Freq\": 10927.7, \"Target\": -0.5227166844758386}, {\"Freq\": 11313.0, \"Target\": -0.5529244856026239}, {\"Freq\": 11712.9, \"Target\": -0.5832078110562975}, {\"Freq\": 12126.0, \"Target\": -0.613423852208804}, {\"Freq\": 12553.7, \"Target\": -0.6436420083063439}, {\"Freq\": 12996.1, \"Target\": -0.6738343032419749}, {\"Freq\": 13454.6, \"Target\": -0.7040596141616575}, {\"Freq\": 13929.2, \"Target\": -0.7342801814757394}, {\"Freq\": 14419.9, \"Target\": -0.7644619902950609}, {\"Freq\": 14928.2, \"Target\": -0.7946621092686073}, {\"Freq\": 15455.6, \"Target\": -0.824928927123814}, {\"Freq\": 16000.5, \"Target\": -0.8551340411706008}, {\"Freq\": 16564.5, \"Target\": -0.8853333187113321}, {\"Freq\": 17148.9, \"Target\": -0.9155590113565495}, {\"Freq\": 17752.4, \"Target\": -0.9457101740625404}, {\"Freq\": 18379.4, \"Target\": -0.9759686218423198}, {\"Freq\": 19026.9, \"Target\": -1.006151698417014}, {\"Freq\": 19697.8, \"Target\": -1.0363608334331573}, {\"Freq\": 19999.5, \"Target\": -1.0496118075616394}]}}, {\"mode\": \"vega-lite\"});\n",
       "</script>"
      ],
      "text/plain": [
       "alt.LayerChart(...)"
      ]
     },
     "execution_count": 7,
     "metadata": {},
     "output_type": "execute_result"
    }
   ],
   "source": [
    "df_lw_target = pd.DataFrame({\"Freq\": freq[1], \"Target\": lw_target})\n",
    "graph_freq(graph_melt(spin[{\"Freq\", \"Listening Window\"}]), params) + alt.Chart(\n",
    "    df_lw_target\n",
    ").mark_line().encode(x=\"Freq:Q\", y=\"Target:Q\")"
   ]
  },
  {
   "cell_type": "code",
   "execution_count": 8,
   "id": "862fc033-06cf-4e7f-a67f-5e95864c7f25",
   "metadata": {},
   "outputs": [],
   "source": [
    "first_freq = 0\n",
    "for i, f in enumerate(freq[1]):\n",
    "    if f >= 100:  # Hz\n",
    "        first_freq = i\n",
    "        break\n",
    "last_freq = -1\n",
    "for i, f in enumerate(reversed(freq[1])):\n",
    "    if f <= 16000:  # Hz\n",
    "        last_freq = -i + 1\n",
    "        break\n",
    "\n",
    "target = spin[\"Listening Window\"].values - lw_target\n",
    "\n",
    "kernel_size = 10\n",
    "kernel = np.ones(kernel_size) / kernel_size\n",
    "target_smoothed = np.convolve(target, kernel, mode=\"same\")\n",
    "\n",
    "df_target = pd.DataFrame(\n",
    "    {\n",
    "        \"Freq\": freq[1][first_freq:last_freq],\n",
    "        \"data\": target[first_freq:last_freq],\n",
    "        \"smoothed\": target_smoothed[first_freq:last_freq],\n",
    "    }\n",
    ")"
   ]
  },
  {
   "cell_type": "code",
   "execution_count": 9,
   "id": "ebf8b837-b888-4cd5-9907-1c8afa21b9a1",
   "metadata": {},
   "outputs": [],
   "source": [
    "graph_target = (\n",
    "    alt.Chart(graph_melt(df_target))\n",
    "    .mark_line(size=3, point=True)\n",
    "    .encode(\n",
    "        x=alt.X(\"Freq:Q\", scale=alt.Scale(type=\"log\", nice=False, domain=[100, 16000])),\n",
    "        y=alt.Y(\"dB:Q\", scale=alt.Scale(zero=False, nice=False, domain=[-5, 5]), title=\"dB\"),\n",
    "        color=alt.Color(\"Measurements\"),\n",
    "    )\n",
    "    .properties(width=1024)\n",
    ")"
   ]
  },
  {
   "cell_type": "code",
   "execution_count": 10,
   "id": "04dacc75-035e-4620-91d6-a37ddc3de588",
   "metadata": {},
   "outputs": [],
   "source": [
    "starget = target_smoothed[first_freq:last_freq]\n",
    "n = len(starget)\n",
    "\n",
    "\n",
    "def areas(data, begin, end):\n",
    "    stored = np.zeros((n, n))\n",
    "    for i in range(begin, end):\n",
    "        stored[i][i + 1 :] = [np.sum(data[i:j]) for j in range(i + 1, end)]\n",
    "    return stored\n",
    "\n",
    "\n",
    "stored = areas(starget, 0, n)"
   ]
  },
  {
   "cell_type": "code",
   "execution_count": 11,
   "id": "e2e619cb-bd63-47ec-8266-108338e4b57f",
   "metadata": {},
   "outputs": [],
   "source": [
    "df = pd.DataFrame(\n",
    "    {\n",
    "        \"value\": starget,\n",
    "        \"sign\": np.diff(np.r_[False, starget < 0]).cumsum(),\n",
    "    }\n",
    ")"
   ]
  },
  {
   "cell_type": "code",
   "execution_count": 12,
   "id": "5d00d731-9c5a-453b-a72b-c432f4f447dc",
   "metadata": {},
   "outputs": [],
   "source": [
    "areas_init = df.groupby(\"sign\").apply(lambda x: np.trapz(x.value))"
   ]
  },
  {
   "cell_type": "code",
   "execution_count": 13,
   "id": "88f702ec-f992-416a-97fd-0b6a35cd0e90",
   "metadata": {},
   "outputs": [
    {
     "data": {
      "text/plain": [
       "sign\n",
       "1     -0.262574\n",
       "2     10.922347\n",
       "3    -37.765722\n",
       "4    110.424899\n",
       "5      0.000000\n",
       "dtype: float64"
      ]
     },
     "execution_count": 13,
     "metadata": {},
     "output_type": "execute_result"
    }
   ],
   "source": [
    "areas_init"
   ]
  },
  {
   "cell_type": "code",
   "execution_count": 14,
   "id": "b01e0db3-ffea-43bc-a408-d8774e38f42e",
   "metadata": {},
   "outputs": [
    {
     "name": "stdout",
     "output_type": "stream",
     "text": [
      "160.14159288741143 (0, 2, 21, 61) [-0.5251475824404834, 11.051773460081003, -37.79927140954132, 110.76540043534864]\n"
     ]
    }
   ],
   "source": [
    "# recursive on size of array?\n",
    "def partition4(starget_len):\n",
    "    best_c = -1\n",
    "    best = 0\n",
    "    best_v = None\n",
    "    for i in range(0, starget_len - 4):\n",
    "        for j in range(i + 1, starget_len - 3):\n",
    "            for k in range(j + 1, starget_len - 2):\n",
    "                cur_v = [\n",
    "                    stored[0][i],\n",
    "                    stored[i][j],\n",
    "                    stored[j][k],\n",
    "                    stored[k][starget_len - 1],\n",
    "                ]\n",
    "                cur = np.sum(np.abs(cur_v))\n",
    "                if cur > best:\n",
    "                    best = cur\n",
    "                    best_c = (i, j, k)\n",
    "                    best_v = cur_v\n",
    "    return best, best_c, best_v\n",
    "\n",
    "\n",
    "def partition4f(starget_len):\n",
    "    best_c = -1\n",
    "    best = 0\n",
    "    best_v = None\n",
    "    for i in range(0, starget_len - 4):\n",
    "        for i2 in range(i, starget_len - 4):\n",
    "            for j in range(i2 + 1, starget_len - 3):\n",
    "                for k in range(j + 1, starget_len - 2):\n",
    "                    cur_v = [\n",
    "                        stored[i][i2],\n",
    "                        stored[i2][j],\n",
    "                        stored[j][k],\n",
    "                        stored[k][starget_len - 1],\n",
    "                    ]\n",
    "                    cur = np.sum(np.abs(cur_v))\n",
    "                    if cur > best:\n",
    "                        best = cur\n",
    "                        best_c = (i, i2, j, k)\n",
    "                        best_v = cur_v\n",
    "    return best, best_c, best_v\n",
    "\n",
    "\n",
    "def partition5(starget_len):\n",
    "    best_c = -1\n",
    "    best = 0\n",
    "    best_v = None\n",
    "    for i in range(0, starget_len - 5):\n",
    "        for j in range(i + 1, starget_len - 4):\n",
    "            for k in range(j + 1, starget_len - 3):\n",
    "                for l in range(k + 1, starget_len - 2):\n",
    "                    cur_v = [\n",
    "                        stored[0][i],\n",
    "                        stored[i][j],\n",
    "                        stored[j][k],\n",
    "                        stored[k][l],\n",
    "                        stored[l][starget_len - 1],\n",
    "                    ]\n",
    "                    cur = np.sum(np.abs(cur_v))\n",
    "                    if cur > best:\n",
    "                        best = cur\n",
    "                        best_c = (i, j, k)\n",
    "                        best_v = cur_v\n",
    "    return best, best_c, best_v\n",
    "\n",
    "\n",
    "best, best_c, best_v = partition4f(len(starget))\n",
    "\n",
    "print(best, best_c, best_v)"
   ]
  },
  {
   "cell_type": "code",
   "execution_count": 15,
   "id": "60e822d8-6474-48b5-a784-da511b877891",
   "metadata": {},
   "outputs": [],
   "source": [
    "df_zones = pd.DataFrame(\n",
    "    {\n",
    "        \"x\": np.repeat([freq[1][first_freq + i] for i in best_c], 3),\n",
    "        \"y\": np.tile([-5, 5, -5], len(best_c)),\n",
    "    }\n",
    ")"
   ]
  },
  {
   "cell_type": "code",
   "execution_count": 16,
   "id": "f8216f14-674f-43a9-8baf-73fb596d343b",
   "metadata": {},
   "outputs": [
    {
     "data": {
      "text/html": [
       "\n",
       "<div id=\"altair-viz-46632b9e24734721b8ab9316518e4707\"></div>\n",
       "<script type=\"text/javascript\">\n",
       "  (function(spec, embedOpt){\n",
       "    let outputDiv = document.currentScript.previousElementSibling;\n",
       "    if (outputDiv.id !== \"altair-viz-46632b9e24734721b8ab9316518e4707\") {\n",
       "      outputDiv = document.getElementById(\"altair-viz-46632b9e24734721b8ab9316518e4707\");\n",
       "    }\n",
       "    const paths = {\n",
       "      \"vega\": \"https://cdn.jsdelivr.net/npm//vega@5?noext\",\n",
       "      \"vega-lib\": \"https://cdn.jsdelivr.net/npm//vega-lib?noext\",\n",
       "      \"vega-lite\": \"https://cdn.jsdelivr.net/npm//vega-lite@4.17.0?noext\",\n",
       "      \"vega-embed\": \"https://cdn.jsdelivr.net/npm//vega-embed@6?noext\",\n",
       "    };\n",
       "\n",
       "    function loadScript(lib) {\n",
       "      return new Promise(function(resolve, reject) {\n",
       "        var s = document.createElement('script');\n",
       "        s.src = paths[lib];\n",
       "        s.async = true;\n",
       "        s.onload = () => resolve(paths[lib]);\n",
       "        s.onerror = () => reject(`Error loading script: ${paths[lib]}`);\n",
       "        document.getElementsByTagName(\"head\")[0].appendChild(s);\n",
       "      });\n",
       "    }\n",
       "\n",
       "    function showError(err) {\n",
       "      outputDiv.innerHTML = `<div class=\"error\" style=\"color:red;\">${err}</div>`;\n",
       "      throw err;\n",
       "    }\n",
       "\n",
       "    function displayChart(vegaEmbed) {\n",
       "      vegaEmbed(outputDiv, spec, embedOpt)\n",
       "        .catch(err => showError(`Javascript Error: ${err.message}<br>This usually means there's a typo in your chart specification. See the javascript console for the full traceback.`));\n",
       "    }\n",
       "\n",
       "    if(typeof define === \"function\" && define.amd) {\n",
       "      requirejs.config({paths});\n",
       "      require([\"vega-embed\"], displayChart, err => showError(`Error loading script: ${err.message}`));\n",
       "    } else if (typeof vegaEmbed === \"function\") {\n",
       "      displayChart(vegaEmbed);\n",
       "    } else {\n",
       "      loadScript(\"vega\")\n",
       "        .then(() => loadScript(\"vega-lite\"))\n",
       "        .then(() => loadScript(\"vega-embed\"))\n",
       "        .catch(showError)\n",
       "        .then(() => displayChart(vegaEmbed));\n",
       "    }\n",
       "  })({\"config\": {\"view\": {\"continuousWidth\": 400, \"continuousHeight\": 300}}, \"layer\": [{\"data\": {\"name\": \"data-fec3c4e52813c282f1fadc913b44137d\"}, \"mark\": {\"type\": \"line\", \"point\": true, \"size\": 3}, \"encoding\": {\"color\": {\"field\": \"Measurements\", \"type\": \"nominal\"}, \"x\": {\"field\": \"Freq\", \"scale\": {\"domain\": [100, 16000], \"nice\": false, \"type\": \"log\"}, \"type\": \"quantitative\"}, \"y\": {\"field\": \"dB\", \"scale\": {\"domain\": [-5, 5], \"nice\": false, \"zero\": false}, \"title\": \"dB\", \"type\": \"quantitative\"}}, \"width\": 1024}, {\"data\": {\"name\": \"data-651233338e5388699c1cb4ffda56624e\"}, \"mark\": \"line\", \"encoding\": {\"color\": {\"value\": \"green\"}, \"x\": {\"field\": \"x\", \"type\": \"quantitative\"}, \"y\": {\"field\": \"y\", \"type\": \"quantitative\"}}}], \"$schema\": \"https://vega.github.io/schema/vega-lite/v4.17.0.json\", \"datasets\": {\"data-fec3c4e52813c282f1fadc913b44137d\": [{\"Freq\": 101.074, \"Measurements\": \"data\", \"dB\": -0.2828724215393734}, {\"Freq\": 105.469, \"Measurements\": \"data\", \"dB\": 0.10384022192517506}, {\"Freq\": 108.398, \"Measurements\": \"data\", \"dB\": 0.3726838822061893}, {\"Freq\": 112.793, \"Measurements\": \"data\", \"dB\": 0.697347337296577}, {\"Freq\": 117.188, \"Measurements\": \"data\", \"dB\": 0.8364882973381356}, {\"Freq\": 120.117, \"Measurements\": \"data\", \"dB\": 1.043098852094353}, {\"Freq\": 124.512, \"Measurements\": \"data\", \"dB\": 1.0272566184350325}, {\"Freq\": 128.906, \"Measurements\": \"data\", \"dB\": 0.8711673347435323}, {\"Freq\": 133.301, \"Measurements\": \"data\", \"dB\": 0.8829193307830394}, {\"Freq\": 139.16, \"Measurements\": \"data\", \"dB\": 0.9250649921137537}, {\"Freq\": 143.555, \"Measurements\": \"data\", \"dB\": 0.935493639985701}, {\"Freq\": 147.949, \"Measurements\": \"data\", \"dB\": 0.8848396258165252}, {\"Freq\": 153.809, \"Measurements\": \"data\", \"dB\": 0.8172584750068879}, {\"Freq\": 159.668, \"Measurements\": \"data\", \"dB\": 0.6481933548981686}, {\"Freq\": 165.527, \"Measurements\": \"data\", \"dB\": 0.5972706217344879}, {\"Freq\": 171.387, \"Measurements\": \"data\", \"dB\": 0.5579894177930242}, {\"Freq\": 177.246, \"Measurements\": \"data\", \"dB\": 0.7218837055550011}, {\"Freq\": 183.105, \"Measurements\": \"data\", \"dB\": 0.35164928866998935}, {\"Freq\": 188.965, \"Measurements\": \"data\", \"dB\": 0.23962463813898438}, {\"Freq\": 196.289, \"Measurements\": \"data\", \"dB\": 0.2011367656395464}, {\"Freq\": 203.613, \"Measurements\": \"data\", \"dB\": 0.10762410216386087}, {\"Freq\": 210.938, \"Measurements\": \"data\", \"dB\": -0.055603266391344164}, {\"Freq\": 218.262, \"Measurements\": \"data\", \"dB\": -0.39332175001480607}, {\"Freq\": 225.586, \"Measurements\": \"data\", \"dB\": -0.4361054621142628}, {\"Freq\": 232.91, \"Measurements\": \"data\", \"dB\": -0.40406425974530435}, {\"Freq\": 241.699, \"Measurements\": \"data\", \"dB\": -0.6379961637137797}, {\"Freq\": 250.488, \"Measurements\": \"data\", \"dB\": -0.7139446673325978}, {\"Freq\": 259.277, \"Measurements\": \"data\", \"dB\": -0.9041068069641227}, {\"Freq\": 268.066, \"Measurements\": \"data\", \"dB\": -1.1211984866207345}, {\"Freq\": 276.855, \"Measurements\": \"data\", \"dB\": -1.3405370074938503}, {\"Freq\": 287.109, \"Measurements\": \"data\", \"dB\": -1.6591306134870791}, {\"Freq\": 297.363, \"Measurements\": \"data\", \"dB\": -1.2809064058532371}, {\"Freq\": 307.617, \"Measurements\": \"data\", \"dB\": -0.9163004599725681}, {\"Freq\": 319.336, \"Measurements\": \"data\", \"dB\": -0.9550133215256196}, {\"Freq\": 329.59, \"Measurements\": \"data\", \"dB\": -1.3332061621724378}, {\"Freq\": 341.309, \"Measurements\": \"data\", \"dB\": -1.3544637021872816}, {\"Freq\": 353.027, \"Measurements\": \"data\", \"dB\": -1.4564089503228033}, {\"Freq\": 366.211, \"Measurements\": \"data\", \"dB\": -1.398540256267765}, {\"Freq\": 379.395, \"Measurements\": \"data\", \"dB\": -1.3108395737835465}, {\"Freq\": 392.578, \"Measurements\": \"data\", \"dB\": -1.2368147781180667}, {\"Freq\": 405.762, \"Measurements\": \"data\", \"dB\": -1.0684262713696313}, {\"Freq\": 420.41, \"Measurements\": \"data\", \"dB\": -0.9557491274686072}, {\"Freq\": 435.059, \"Measurements\": \"data\", \"dB\": -1.5203691293077952}, {\"Freq\": 451.172, \"Measurements\": \"data\", \"dB\": -1.0663334716586945}, {\"Freq\": 465.82, \"Measurements\": \"data\", \"dB\": -1.2545438721215731}, {\"Freq\": 483.398, \"Measurements\": \"data\", \"dB\": -1.3690488700508396}, {\"Freq\": 499.512, \"Measurements\": \"data\", \"dB\": -1.6495850027015564}, {\"Freq\": 517.09, \"Measurements\": \"data\", \"dB\": -1.739002917807241}, {\"Freq\": 536.133, \"Measurements\": \"data\", \"dB\": -1.1949427698148227}, {\"Freq\": 555.176, \"Measurements\": \"data\", \"dB\": -0.6733573098797265}, {\"Freq\": 574.219, \"Measurements\": \"data\", \"dB\": -0.34060703337419085}, {\"Freq\": 594.727, \"Measurements\": \"data\", \"dB\": -0.8113585596800235}, {\"Freq\": 615.234, \"Measurements\": \"data\", \"dB\": -0.5985267596851713}, {\"Freq\": 637.207, \"Measurements\": \"data\", \"dB\": -0.5882207295096862}, {\"Freq\": 659.18, \"Measurements\": \"data\", \"dB\": -0.8847746351478492}, {\"Freq\": 682.617, \"Measurements\": \"data\", \"dB\": -0.9314640400424139}, {\"Freq\": 707.52, \"Measurements\": \"data\", \"dB\": -0.5437677199979802}, {\"Freq\": 732.422, \"Measurements\": \"data\", \"dB\": -0.28146708885245886}, {\"Freq\": 757.324, \"Measurements\": \"data\", \"dB\": -0.47538958463133696}, {\"Freq\": 785.156, \"Measurements\": \"data\", \"dB\": -1.8816209922154883}, {\"Freq\": 811.523, \"Measurements\": \"data\", \"dB\": -2.528203712975028}, {\"Freq\": 840.82, \"Measurements\": \"data\", \"dB\": -2.2161724513722163}, {\"Freq\": 870.117, \"Measurements\": \"data\", \"dB\": 1.4892850309109207}, {\"Freq\": 900.879, \"Measurements\": \"data\", \"dB\": 3.1880108810226417}, {\"Freq\": 933.105, \"Measurements\": \"data\", \"dB\": 3.814965323423813}, {\"Freq\": 965.332, \"Measurements\": \"data\", \"dB\": 3.285700138292164}, {\"Freq\": 1000.49, \"Measurements\": \"data\", \"dB\": 2.3368441872060615}, {\"Freq\": 1035.64, \"Measurements\": \"data\", \"dB\": 0.9143821125925626}, {\"Freq\": 1072.27, \"Measurements\": \"data\", \"dB\": 0.15025391800698884}, {\"Freq\": 1108.89, \"Measurements\": \"data\", \"dB\": 0.5275784020369585}, {\"Freq\": 1148.44, \"Measurements\": \"data\", \"dB\": 0.13296806150394502}, {\"Freq\": 1189.45, \"Measurements\": \"data\", \"dB\": 0.013436913843165144}, {\"Freq\": 1230.47, \"Measurements\": \"data\", \"dB\": 0.07280380063659209}, {\"Freq\": 1274.41, \"Measurements\": \"data\", \"dB\": 0.5247768124671879}, {\"Freq\": 1319.82, \"Measurements\": \"data\", \"dB\": 0.8947626162511781}, {\"Freq\": 1366.7, \"Measurements\": \"data\", \"dB\": 0.8056809607356143}, {\"Freq\": 1413.57, \"Measurements\": \"data\", \"dB\": 0.6724259729727322}, {\"Freq\": 1463.38, \"Measurements\": \"data\", \"dB\": 1.3449850613180914}, {\"Freq\": 1516.11, \"Measurements\": \"data\", \"dB\": 1.628581696623442}, {\"Freq\": 1568.85, \"Measurements\": \"data\", \"dB\": 0.902266097174298}, {\"Freq\": 1624.51, \"Measurements\": \"data\", \"dB\": 1.2760217274923846}, {\"Freq\": 1681.64, \"Measurements\": \"data\", \"dB\": 1.6180615143772172}, {\"Freq\": 1741.7, \"Measurements\": \"data\", \"dB\": 2.4881420613456697}, {\"Freq\": 1803.22, \"Measurements\": \"data\", \"dB\": 2.4526905405074118}, {\"Freq\": 1866.21, \"Measurements\": \"data\", \"dB\": 2.092207212489072}, {\"Freq\": 1932.13, \"Measurements\": \"data\", \"dB\": 1.530848649814608}, {\"Freq\": 1999.51, \"Measurements\": \"data\", \"dB\": 1.3761794708677186}, {\"Freq\": 2069.82, \"Measurements\": \"data\", \"dB\": 2.358189496705684}, {\"Freq\": 2143.07, \"Measurements\": \"data\", \"dB\": 2.599065878725412}, {\"Freq\": 2219.24, \"Measurements\": \"data\", \"dB\": 1.9858661929203762}, {\"Freq\": 2296.88, \"Measurements\": \"data\", \"dB\": 1.4385501454632035}, {\"Freq\": 2378.91, \"Measurements\": \"data\", \"dB\": 1.56183238069287}, {\"Freq\": 2462.4, \"Measurements\": \"data\", \"dB\": 2.778075023748535}, {\"Freq\": 2548.83, \"Measurements\": \"data\", \"dB\": 3.2506995525861626}, {\"Freq\": 2639.65, \"Measurements\": \"data\", \"dB\": 2.311869603442929}, {\"Freq\": 2731.93, \"Measurements\": \"data\", \"dB\": 1.4435669688824362}, {\"Freq\": 2828.61, \"Measurements\": \"data\", \"dB\": 1.786904948319652}, {\"Freq\": 2928.22, \"Measurements\": \"data\", \"dB\": 2.51896546431243}, {\"Freq\": 3030.76, \"Measurements\": \"data\", \"dB\": 2.5401911225240354}, {\"Freq\": 3137.7, \"Measurements\": \"data\", \"dB\": 2.079467609851747}, {\"Freq\": 3249.02, \"Measurements\": \"data\", \"dB\": 1.4371665541465433}, {\"Freq\": 3363.28, \"Measurements\": \"data\", \"dB\": 1.4232408659792668}, {\"Freq\": 3481.93, \"Measurements\": \"data\", \"dB\": 1.897820222950898}, {\"Freq\": 3604.98, \"Measurements\": \"data\", \"dB\": 1.8279701606392322}, {\"Freq\": 3732.42, \"Measurements\": \"data\", \"dB\": 2.210422195872887}, {\"Freq\": 3864.26, \"Measurements\": \"data\", \"dB\": 1.6382768917925006}, {\"Freq\": 4000.49, \"Measurements\": \"data\", \"dB\": 0.9853963467436344}, {\"Freq\": 4141.11, \"Measurements\": \"data\", \"dB\": 1.6708115582299214}, {\"Freq\": 4287.6, \"Measurements\": \"data\", \"dB\": 1.790415426422328}, {\"Freq\": 4438.48, \"Measurements\": \"data\", \"dB\": 2.0844779724287434}, {\"Freq\": 4595.21, \"Measurements\": \"data\", \"dB\": 1.3885720244408333}, {\"Freq\": 4756.35, \"Measurements\": \"data\", \"dB\": 1.8852572780318155}, {\"Freq\": 4924.8, \"Measurements\": \"data\", \"dB\": 2.2861091037692773}, {\"Freq\": 5097.66, \"Measurements\": \"data\", \"dB\": 1.1656954257285292}, {\"Freq\": 5277.83, \"Measurements\": \"data\", \"dB\": 1.050977537614422}, {\"Freq\": 5463.87, \"Measurements\": \"data\", \"dB\": 1.422607690407112}, {\"Freq\": 5657.23, \"Measurements\": \"data\", \"dB\": 1.1803027923751017}, {\"Freq\": 5856.45, \"Measurements\": \"data\", \"dB\": 0.6580254565683958}, {\"Freq\": 6062.99, \"Measurements\": \"data\", \"dB\": 1.2929595678157426}, {\"Freq\": 6276.86, \"Measurements\": \"data\", \"dB\": 0.7574616296757384}, {\"Freq\": 6498.05, \"Measurements\": \"data\", \"dB\": 0.8175698089910313}, {\"Freq\": 6726.56, \"Measurements\": \"data\", \"dB\": 0.9939788418530142}, {\"Freq\": 6963.87, \"Measurements\": \"data\", \"dB\": 0.6700582288033843}, {\"Freq\": 7209.96, \"Measurements\": \"data\", \"dB\": 0.8487572323652444}, {\"Freq\": 7464.84, \"Measurements\": \"data\", \"dB\": 0.7763344787758939}, {\"Freq\": 7727.05, \"Measurements\": \"data\", \"dB\": 0.7490131078609039}, {\"Freq\": 7999.51, \"Measurements\": \"data\", \"dB\": 0.8019041865805718}, {\"Freq\": 8282.23, \"Measurements\": \"data\", \"dB\": 0.8363146926973499}, {\"Freq\": 8573.73, \"Measurements\": \"data\", \"dB\": 0.9672251123320734}, {\"Freq\": 8876.95, \"Measurements\": \"data\", \"dB\": 0.5972131329776502}, {\"Freq\": 9188.96, \"Measurements\": \"data\", \"dB\": 0.6323685072479037}, {\"Freq\": 9514.16, \"Measurements\": \"data\", \"dB\": 0.7029130061726931}, {\"Freq\": 9849.61, \"Measurements\": \"data\", \"dB\": 0.8378431316347275}, {\"Freq\": 10196.8, \"Measurements\": \"data\", \"dB\": 1.0018303909002313}, {\"Freq\": 10555.7, \"Measurements\": \"data\", \"dB\": 1.111433663098552}, {\"Freq\": 10927.7, \"Measurements\": \"data\", \"dB\": 1.2395624407599541}, {\"Freq\": 11313.0, \"Measurements\": \"data\", \"dB\": 1.2064060154372171}, {\"Freq\": 11712.9, \"Measurements\": \"data\", \"dB\": 1.211236354848495}, {\"Freq\": 12126.0, \"Measurements\": \"data\", \"dB\": 1.11995986879338}, {\"Freq\": 12553.7, \"Measurements\": \"data\", \"dB\": 0.8927108750514776}, {\"Freq\": 12996.1, \"Measurements\": \"data\", \"dB\": 0.7268779840655952}, {\"Freq\": 13454.6, \"Measurements\": \"data\", \"dB\": 0.6040992658793769}, {\"Freq\": 13929.2, \"Measurements\": \"data\", \"dB\": 0.5493751810486174}, {\"Freq\": 14419.9, \"Measurements\": \"data\", \"dB\": 0.9072563029857861}, {\"Freq\": 14928.2, \"Measurements\": \"data\", \"dB\": 1.26173046865366}, {\"Freq\": 15455.6, \"Measurements\": \"data\", \"dB\": 1.1803780912927877}, {\"Freq\": 16000.5, \"Measurements\": \"data\", \"dB\": 0.6915902007628603}, {\"Freq\": 101.074, \"Measurements\": \"smoothed\", \"dB\": -0.4182723438210693}, {\"Freq\": 105.469, \"Measurements\": \"smoothed\", \"dB\": -0.10687523861941417}, {\"Freq\": 108.398, \"Measurements\": \"smoothed\", \"dB\": 0.16977207296284857}, {\"Freq\": 112.793, \"Measurements\": \"smoothed\", \"dB\": 0.359471174689974}, {\"Freq\": 117.188, \"Measurements\": \"smoothed\", \"dB\": 0.5130700517982063}, {\"Freq\": 120.117, \"Measurements\": \"smoothed\", \"dB\": 0.6476994445396413}, {\"Freq\": 124.512, \"Measurements\": \"smoothed\", \"dB\": 0.7695360506921489}, {\"Freq\": 128.906, \"Measurements\": \"smoothed\", \"dB\": 0.8476359910812838}, {\"Freq\": 133.301, \"Measurements\": \"smoothed\", \"dB\": 0.8920934503613536}, {\"Freq\": 139.16, \"Measurements\": \"smoothed\", \"dB\": 0.8871780521215128}, {\"Freq\": 143.555, \"Measurements\": \"smoothed\", \"dB\": 0.8632562845611482}, {\"Freq\": 147.949, \"Measurements\": \"smoothed\", \"dB\": 0.8147453411310154}, {\"Freq\": 153.809, \"Measurements\": \"smoothed\", \"dB\": 0.7842080498430122}, {\"Freq\": 159.668, \"Measurements\": \"smoothed\", \"dB\": 0.7322562452356579}, {\"Freq\": 165.527, \"Measurements\": \"smoothed\", \"dB\": 0.6679267759712524}, {\"Freq\": 171.387, \"Measurements\": \"smoothed\", \"dB\": 0.5955339533238317}, {\"Freq\": 177.246, \"Measurements\": \"smoothed\", \"dB\": 0.5127469995416478}, {\"Freq\": 183.105, \"Measurements\": \"smoothed\", \"dB\": 0.4187027103208607}, {\"Freq\": 188.965, \"Measurements\": \"smoothed\", \"dB\": 0.2976446878186913}, {\"Freq\": 196.289, \"Measurements\": \"smoothed\", \"dB\": 0.18921480611744812}, {\"Freq\": 203.613, \"Measurements\": \"smoothed\", \"dB\": 0.08908131796946887}, {\"Freq\": 210.938, \"Measurements\": \"smoothed\", \"dB\": -0.030517240181211547}, {\"Freq\": 218.262, \"Measurements\": \"smoothed\", \"dB\": -0.1741000774699714}, {\"Freq\": 225.586, \"Measurements\": \"smoothed\", \"dB\": -0.2996756870333826}, {\"Freq\": 232.91, \"Measurements\": \"smoothed\", \"dB\": -0.4357579995093545}, {\"Freq\": 241.699, \"Measurements\": \"smoothed\", \"dB\": -0.5899253768226942}, {\"Freq\": 250.488, \"Measurements\": \"smoothed\", \"dB\": -0.7666008483877882}, {\"Freq\": 259.277, \"Measurements\": \"smoothed\", \"dB\": -0.8891311623339775}, {\"Freq\": 268.066, \"Measurements\": \"smoothed\", \"dB\": -0.9414290333297537}, {\"Freq\": 276.855, \"Measurements\": \"smoothed\", \"dB\": -0.9933198192708894}, {\"Freq\": 287.109, \"Measurements\": \"smoothed\", \"dB\": -1.0862340095136027}, {\"Freq\": 297.363, \"Measurements\": \"smoothed\", \"dB\": -1.1578807633609527}, {\"Freq\": 307.617, \"Measurements\": \"smoothed\", \"dB\": -1.2321271916599732}, {\"Freq\": 319.336, \"Measurements\": \"smoothed\", \"dB\": -1.2815705365903376}, {\"Freq\": 329.59, \"Measurements\": \"smoothed\", \"dB\": -1.3005346453066189}, {\"Freq\": 341.309, \"Measurements\": \"smoothed\", \"dB\": -1.2901624223690404}, {\"Freq\": 353.027, \"Measurements\": \"smoothed\", \"dB\": -1.231091988157296}, {\"Freq\": 366.211, \"Measurements\": \"smoothed\", \"dB\": -1.1985762603188328}, {\"Freq\": 379.395, \"Measurements\": \"smoothed\", \"dB\": -1.2589831272523557}, {\"Freq\": 392.578, \"Measurements\": \"smoothed\", \"dB\": -1.270115142265663}, {\"Freq\": 405.762, \"Measurements\": \"smoothed\", \"dB\": -1.2622489132605765}, {\"Freq\": 420.41, \"Measurements\": \"smoothed\", \"dB\": -1.2637074300469322}, {\"Freq\": 435.059, \"Measurements\": \"smoothed\", \"dB\": -1.2830250352848076}, {\"Freq\": 451.172, \"Measurements\": \"smoothed\", \"dB\": -1.3170713014387554}, {\"Freq\": 465.82, \"Measurements\": \"smoothed\", \"dB\": -1.3054816210418827}, {\"Freq\": 483.398, \"Measurements\": \"smoothed\", \"dB\": -1.249135874218049}, {\"Freq\": 499.512, \"Measurements\": \"smoothed\", \"dB\": -1.176353950418505}, {\"Freq\": 517.09, \"Measurements\": \"smoothed\", \"dB\": -1.1619148936396466}, {\"Freq\": 536.133, \"Measurements\": \"smoothed\", \"dB\": -1.069730656677384}, {\"Freq\": 555.176, \"Measurements\": \"smoothed\", \"dB\": -1.021919382462483}, {\"Freq\": 574.219, \"Measurements\": \"smoothed\", \"dB\": -0.9849424587651108}, {\"Freq\": 594.727, \"Measurements\": \"smoothed\", \"dB\": -0.9411839757642682}, {\"Freq\": 615.234, \"Measurements\": \"smoothed\", \"dB\": -0.8306022474939105}, {\"Freq\": 637.207, \"Measurements\": \"smoothed\", \"dB\": -0.6848486645984324}, {\"Freq\": 659.18, \"Measurements\": \"smoothed\", \"dB\": -0.6128933460800838}, {\"Freq\": 682.617, \"Measurements\": \"smoothed\", \"dB\": -0.7337197143136599}, {\"Freq\": 707.52, \"Measurements\": \"smoothed\", \"dB\": -0.9524793822737436}, {\"Freq\": 732.422, \"Measurements\": \"smoothed\", \"dB\": -1.092960771442963}, {\"Freq\": 757.324, \"Measurements\": \"smoothed\", \"dB\": -0.8841795923833538}, {\"Freq\": 785.156, \"Measurements\": \"smoothed\", \"dB\": -0.506556431330121}, {\"Freq\": 811.523, \"Measurements\": \"smoothed\", \"dB\": -0.03658243547295453}, {\"Freq\": 840.82, \"Measurements\": \"smoothed\", \"dB\": 0.3851339823605032}, {\"Freq\": 870.117, \"Measurements\": \"smoothed\", \"dB\": 0.6731951730809075}, {\"Freq\": 900.879, \"Measurements\": \"smoothed\", \"dB\": 0.7927800932254097}, {\"Freq\": 933.105, \"Measurements\": \"smoothed\", \"dB\": 0.8553444434892421}, {\"Freq\": 965.332, \"Measurements\": \"smoothed\", \"dB\": 1.0962643829144867}, {\"Freq\": 1000.49, \"Measurements\": \"smoothed\", \"dB\": 1.362381560362384}, {\"Freq\": 1035.64, \"Measurements\": \"smoothed\", \"dB\": 1.5853424968839223}, {\"Freq\": 1072.27, \"Measurements\": \"smoothed\", \"dB\": 1.4436943738564894}, {\"Freq\": 1108.89, \"Measurements\": \"smoothed\", \"dB\": 1.1773709670009438}, {\"Freq\": 1148.44, \"Measurements\": \"smoothed\", \"dB\": 0.8853506962836805}, {\"Freq\": 1189.45, \"Measurements\": \"smoothed\", \"dB\": 0.6373487785280254}, {\"Freq\": 1230.47, \"Measurements\": \"smoothed\", \"dB\": 0.47090695710469244}, {\"Freq\": 1274.41, \"Measurements\": \"smoothed\", \"dB\": 0.5139672519772454}, {\"Freq\": 1319.82, \"Measurements\": \"smoothed\", \"dB\": 0.6618000298388907}, {\"Freq\": 1366.7, \"Measurements\": \"smoothed\", \"dB\": 0.6992687993526246}, {\"Freq\": 1413.57, \"Measurements\": \"smoothed\", \"dB\": 0.8135741659514686}, {\"Freq\": 1463.38, \"Measurements\": \"smoothed\", \"dB\": 0.9740366260048738}, {\"Freq\": 1516.11, \"Measurements\": \"smoothed\", \"dB\": 1.2155704520757815}, {\"Freq\": 1568.85, \"Measurements\": \"smoothed\", \"dB\": 1.408361824879804}, {\"Freq\": 1624.51, \"Measurements\": \"smoothed\", \"dB\": 1.5281062845035933}, {\"Freq\": 1681.64, \"Measurements\": \"smoothed\", \"dB\": 1.600623053411493}, {\"Freq\": 1741.7, \"Measurements\": \"smoothed\", \"dB\": 1.6709984032009915}, {\"Freq\": 1803.22, \"Measurements\": \"smoothed\", \"dB\": 1.7723188467397508}, {\"Freq\": 1866.21, \"Measurements\": \"smoothed\", \"dB\": 1.8693672649499478}, {\"Freq\": 1932.13, \"Measurements\": \"smoothed\", \"dB\": 1.9777272745245555}, {\"Freq\": 1999.51, \"Measurements\": \"smoothed\", \"dB\": 1.9939801163216375}, {\"Freq\": 2069.82, \"Measurements\": \"smoothed\", \"dB\": 1.9883572029532028}, {\"Freq\": 2143.07, \"Measurements\": \"smoothed\", \"dB\": 2.017350499193489}, {\"Freq\": 2219.24, \"Measurements\": \"smoothed\", \"dB\": 2.0971514004013643}, {\"Freq\": 2296.88, \"Measurements\": \"smoothed\", \"dB\": 2.11911763949675}, {\"Freq\": 2378.91, \"Measurements\": \"smoothed\", \"dB\": 2.1103894714035327}, {\"Freq\": 2462.4, \"Measurements\": \"smoothed\", \"dB\": 2.1514620191487266}, {\"Freq\": 2548.83, \"Measurements\": \"smoothed\", \"dB\": 2.167539615909401}, {\"Freq\": 2639.65, \"Measurements\": \"smoothed\", \"dB\": 2.161652140289263}, {\"Freq\": 2731.93, \"Measurements\": \"smoothed\", \"dB\": 2.1710122819824003}, {\"Freq\": 2828.61, \"Measurements\": \"smoothed\", \"dB\": 2.1708739228507343}, {\"Freq\": 2928.22, \"Measurements\": \"smoothed\", \"dB\": 2.157014771379374}, {\"Freq\": 3030.76, \"Measurements\": \"smoothed\", \"dB\": 2.06898929129961}, {\"Freq\": 3137.7, \"Measurements\": \"smoothed\", \"dB\": 1.9267163521049173}, {\"Freq\": 3249.02, \"Measurements\": \"smoothed\", \"dB\": 1.916571611347913}, {\"Freq\": 3363.28, \"Measurements\": \"smoothed\", \"dB\": 1.9360426036389193}, {\"Freq\": 3481.93, \"Measurements\": \"smoothed\", \"dB\": 1.8558917434813176}, {\"Freq\": 3604.98, \"Measurements\": \"smoothed\", \"dB\": 1.7710763528730666}, {\"Freq\": 3732.42, \"Measurements\": \"smoothed\", \"dB\": 1.696098783262896}, {\"Freq\": 3864.26, \"Measurements\": \"smoothed\", \"dB\": 1.6965998195205958}, {\"Freq\": 4000.49, \"Measurements\": \"smoothed\", \"dB\": 1.6917403665500246}, {\"Freq\": 4141.11, \"Measurements\": \"smoothed\", \"dB\": 1.7379420077552796}, {\"Freq\": 4287.6, \"Measurements\": \"smoothed\", \"dB\": 1.7767708958371176}, {\"Freq\": 4438.48, \"Measurements\": \"smoothed\", \"dB\": 1.7105434223460472}, {\"Freq\": 4595.21, \"Measurements\": \"smoothed\", \"dB\": 1.5945989565202008}, {\"Freq\": 4756.35, \"Measurements\": \"smoothed\", \"dB\": 1.573032036381662}, {\"Freq\": 4924.8, \"Measurements\": \"smoothed\", \"dB\": 1.5925226809448085}, {\"Freq\": 5097.66, \"Measurements\": \"smoothed\", \"dB\": 1.4912440707786556}, {\"Freq\": 5277.83, \"Measurements\": \"smoothed\", \"dB\": 1.4414984849179973}, {\"Freq\": 5463.87, \"Measurements\": \"smoothed\", \"dB\": 1.3087968506426968}, {\"Freq\": 5657.23, \"Measurements\": \"smoothed\", \"dB\": 1.2516966290977165}, {\"Freq\": 5856.45, \"Measurements\": \"smoothed\", \"dB\": 1.1625687854798366}, {\"Freq\": 6062.99, \"Measurements\": \"smoothed\", \"dB\": 1.0009636979832472}, {\"Freq\": 6276.86, \"Measurements\": \"smoothed\", \"dB\": 0.9692698786469188}, {\"Freq\": 6498.05, \"Measurements\": \"smoothed\", \"dB\": 0.9418055727630659}, {\"Freq\": 6726.56, \"Measurements\": \"smoothed\", \"dB\": 0.8744461145084451}, {\"Freq\": 6963.87, \"Measurements\": \"smoothed\", \"dB\": 0.8366062539289922}, {\"Freq\": 7209.96, \"Measurements\": \"smoothed\", \"dB\": 0.8544351775418876}, {\"Freq\": 7464.84, \"Measurements\": \"smoothed\", \"dB\": 0.8218617319935206}, {\"Freq\": 7727.05, \"Measurements\": \"smoothed\", \"dB\": 0.8058368823237116}, {\"Freq\": 7999.51, \"Measurements\": \"smoothed\", \"dB\": 0.787316752149399}, {\"Freq\": 8282.23, \"Measurements\": \"smoothed\", \"dB\": 0.7582101685813669}, {\"Freq\": 8573.73, \"Measurements\": \"smoothed\", \"dB\": 0.7749886588645013}, {\"Freq\": 8876.95, \"Measurements\": \"smoothed\", \"dB\": 0.790295974718}, {\"Freq\": 9188.96, \"Measurements\": \"smoothed\", \"dB\": 0.8238058931502658}, {\"Freq\": 9514.16, \"Measurements\": \"smoothed\", \"dB\": 0.8728608264401707}, {\"Freq\": 9849.61, \"Measurements\": \"smoothed\", \"dB\": 0.9133110093258353}, {\"Freq\": 10196.8, \"Measurements\": \"smoothed\", \"dB\": 0.9508031755409497}, {\"Freq\": 10555.7, \"Measurements\": \"smoothed\", \"dB\": 0.9660766511870804}, {\"Freq\": 10927.7, \"Measurements\": \"smoothed\", \"dB\": 0.9956264253944632}, {\"Freq\": 11313.0, \"Measurements\": \"smoothed\", \"dB\": 1.0050773730762323}, {\"Freq\": 11712.9, \"Measurements\": \"smoothed\", \"dB\": 0.9951959990469006}, {\"Freq\": 12126.0, \"Measurements\": \"smoothed\", \"dB\": 0.9663492039882896}, {\"Freq\": 12553.7, \"Measurements\": \"smoothed\", \"dB\": 0.9568917951968451}, {\"Freq\": 12996.1, \"Measurements\": \"smoothed\", \"dB\": 0.9719214757523559}, {\"Freq\": 13454.6, \"Measurements\": \"smoothed\", \"dB\": 0.9660030408056393}, {\"Freq\": 13929.2, \"Measurements\": \"smoothed\", \"dB\": 0.9145214593382036}, {\"Freq\": 14419.9, \"Measurements\": \"smoothed\", \"dB\": 0.791692370887418}, {\"Freq\": 14928.2, \"Measurements\": \"smoothed\", \"dB\": 0.5856818029834961}, {\"Freq\": 15455.6, \"Measurements\": \"smoothed\", \"dB\": 0.2958680606185645}, {\"Freq\": 16000.5, \"Measurements\": \"smoothed\", \"dB\": -0.09767281451424595}], \"data-651233338e5388699c1cb4ffda56624e\": [{\"x\": 101.074, \"y\": -5}, {\"x\": 101.074, \"y\": 5}, {\"x\": 101.074, \"y\": -5}, {\"x\": 108.398, \"y\": -5}, {\"x\": 108.398, \"y\": 5}, {\"x\": 108.398, \"y\": -5}, {\"x\": 210.938, \"y\": -5}, {\"x\": 210.938, \"y\": 5}, {\"x\": 210.938, \"y\": -5}, {\"x\": 840.82, \"y\": -5}, {\"x\": 840.82, \"y\": 5}, {\"x\": 840.82, \"y\": -5}]}}, {\"mode\": \"vega-lite\"});\n",
       "</script>"
      ],
      "text/plain": [
       "alt.LayerChart(...)"
      ]
     },
     "execution_count": 16,
     "metadata": {},
     "output_type": "execute_result"
    }
   ],
   "source": [
    "graph_target + alt.Chart(df_zones).mark_line().encode(\n",
    "    x=alt.X(\"x:Q\"), y=alt.Y(\"y:Q\"), color=alt.value(\"green\")\n",
    ")"
   ]
  },
  {
   "cell_type": "code",
   "execution_count": null,
   "id": "dfcad121-0d6f-4480-bada-e3344d4bd728",
   "metadata": {},
   "outputs": [],
   "source": []
  }
 ],
 "metadata": {
  "kernelspec": {
   "display_name": "Python 3 (ipykernel)",
   "language": "python",
   "name": "python3"
  },
  "language_info": {
   "codemirror_mode": {
    "name": "ipython",
    "version": 3
   },
   "file_extension": ".py",
   "mimetype": "text/x-python",
   "name": "python",
   "nbconvert_exporter": "python",
   "pygments_lexer": "ipython3",
   "version": "3.9.7"
  }
 },
 "nbformat": 4,
 "nbformat_minor": 5
}
