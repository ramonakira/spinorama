{
 "cells": [
  {
   "cell_type": "code",
   "execution_count": 1,
   "id": "fb5fb2cb-3a22-4876-8bf9-2fe94cafab04",
   "metadata": {},
   "outputs": [],
   "source": [
    "import numpy as np\n",
    "import pandas as pd\n",
    "import plotly as plt"
   ]
  },
  {
   "cell_type": "code",
   "execution_count": 2,
   "id": "aae4624c-e6ce-4177-9eab-7b67f2d731c2",
   "metadata": {},
   "outputs": [],
   "source": [
    "from src.spinorama.load_webplotdigitizer import parse_graph_freq_webplotdigitizer"
   ]
  },
  {
   "cell_type": "code",
   "execution_count": 73,
   "id": "2a447cb8-9419-404f-8719-25e9b41e5f5a",
   "metadata": {},
   "outputs": [],
   "source": [
    "status, (name, df) = parse_graph_freq_webplotdigitizer(\n",
    "    \"../datas/measurements/Perlisten r4s/vendor/extracted/wpd_project/wpd.json\"\n",
    ")"
   ]
  },
  {
   "cell_type": "code",
   "execution_count": 74,
   "id": "ac2f124f-65e7-4639-be8c-cb0a7c6d04dc",
   "metadata": {},
   "outputs": [
    {
     "data": {
      "text/plain": [
       "True"
      ]
     },
     "execution_count": 74,
     "metadata": {},
     "output_type": "execute_result"
    }
   ],
   "source": [
    "status"
   ]
  },
  {
   "cell_type": "code",
   "execution_count": 75,
   "id": "413f2481-b91f-462c-9dfa-756d7353ef85",
   "metadata": {},
   "outputs": [
    {
     "data": {
      "text/html": [
       "<div>\n",
       "<style scoped>\n",
       "    .dataframe tbody tr th:only-of-type {\n",
       "        vertical-align: middle;\n",
       "    }\n",
       "\n",
       "    .dataframe tbody tr th {\n",
       "        vertical-align: top;\n",
       "    }\n",
       "\n",
       "    .dataframe thead th {\n",
       "        text-align: right;\n",
       "    }\n",
       "</style>\n",
       "<table border=\"1\" class=\"dataframe\">\n",
       "  <thead>\n",
       "    <tr style=\"text-align: right;\">\n",
       "      <th></th>\n",
       "      <th>Freq</th>\n",
       "      <th>dB</th>\n",
       "      <th>Measurements</th>\n",
       "    </tr>\n",
       "  </thead>\n",
       "  <tbody>\n",
       "    <tr>\n",
       "      <th>0</th>\n",
       "      <td>114.231730</td>\n",
       "      <td>87.176447</td>\n",
       "      <td>On Axis</td>\n",
       "    </tr>\n",
       "    <tr>\n",
       "      <th>1</th>\n",
       "      <td>115.024341</td>\n",
       "      <td>87.191406</td>\n",
       "      <td>On Axis</td>\n",
       "    </tr>\n",
       "    <tr>\n",
       "      <th>2</th>\n",
       "      <td>115.822453</td>\n",
       "      <td>87.204747</td>\n",
       "      <td>On Axis</td>\n",
       "    </tr>\n",
       "    <tr>\n",
       "      <th>3</th>\n",
       "      <td>116.626102</td>\n",
       "      <td>87.204747</td>\n",
       "      <td>On Axis</td>\n",
       "    </tr>\n",
       "    <tr>\n",
       "      <th>4</th>\n",
       "      <td>117.435328</td>\n",
       "      <td>87.204747</td>\n",
       "      <td>On Axis</td>\n",
       "    </tr>\n",
       "    <tr>\n",
       "      <th>...</th>\n",
       "      <td>...</td>\n",
       "      <td>...</td>\n",
       "      <td>...</td>\n",
       "    </tr>\n",
       "    <tr>\n",
       "      <th>2891</th>\n",
       "      <td>19320.349599</td>\n",
       "      <td>74.906737</td>\n",
       "      <td>Sound Power</td>\n",
       "    </tr>\n",
       "    <tr>\n",
       "      <th>2892</th>\n",
       "      <td>19454.406385</td>\n",
       "      <td>74.655151</td>\n",
       "      <td>Sound Power</td>\n",
       "    </tr>\n",
       "    <tr>\n",
       "      <th>2893</th>\n",
       "      <td>19589.393341</td>\n",
       "      <td>74.536791</td>\n",
       "      <td>Sound Power</td>\n",
       "    </tr>\n",
       "    <tr>\n",
       "      <th>2894</th>\n",
       "      <td>19725.316923</td>\n",
       "      <td>74.562212</td>\n",
       "      <td>Sound Power</td>\n",
       "    </tr>\n",
       "    <tr>\n",
       "      <th>2895</th>\n",
       "      <td>19862.183627</td>\n",
       "      <td>74.560013</td>\n",
       "      <td>Sound Power</td>\n",
       "    </tr>\n",
       "  </tbody>\n",
       "</table>\n",
       "<p>2896 rows × 3 columns</p>\n",
       "</div>"
      ],
      "text/plain": [
       "              Freq         dB Measurements\n",
       "0       114.231730  87.176447      On Axis\n",
       "1       115.024341  87.191406      On Axis\n",
       "2       115.822453  87.204747      On Axis\n",
       "3       116.626102  87.204747      On Axis\n",
       "4       117.435328  87.204747      On Axis\n",
       "...            ...        ...          ...\n",
       "2891  19320.349599  74.906737  Sound Power\n",
       "2892  19454.406385  74.655151  Sound Power\n",
       "2893  19589.393341  74.536791  Sound Power\n",
       "2894  19725.316923  74.562212  Sound Power\n",
       "2895  19862.183627  74.560013  Sound Power\n",
       "\n",
       "[2896 rows x 3 columns]"
      ]
     },
     "execution_count": 75,
     "metadata": {},
     "output_type": "execute_result"
    }
   ],
   "source": [
    "df"
   ]
  },
  {
   "cell_type": "code",
   "execution_count": 76,
   "id": "06e00b67-66ba-4619-8ae9-28be8d3d217a",
   "metadata": {},
   "outputs": [
    {
     "data": {
      "text/html": [
       "<div>\n",
       "<style scoped>\n",
       "    .dataframe tbody tr th:only-of-type {\n",
       "        vertical-align: middle;\n",
       "    }\n",
       "\n",
       "    .dataframe tbody tr th {\n",
       "        vertical-align: top;\n",
       "    }\n",
       "\n",
       "    .dataframe thead th {\n",
       "        text-align: right;\n",
       "    }\n",
       "</style>\n",
       "<table border=\"1\" class=\"dataframe\">\n",
       "  <thead>\n",
       "    <tr style=\"text-align: right;\">\n",
       "      <th></th>\n",
       "      <th>Freq</th>\n",
       "      <th>dB</th>\n",
       "    </tr>\n",
       "    <tr>\n",
       "      <th>Measurements</th>\n",
       "      <th></th>\n",
       "      <th></th>\n",
       "    </tr>\n",
       "  </thead>\n",
       "  <tbody>\n",
       "    <tr>\n",
       "      <th>Early Reflections</th>\n",
       "      <td>20.000000</td>\n",
       "      <td>61.315424</td>\n",
       "    </tr>\n",
       "    <tr>\n",
       "      <th>Listening Window</th>\n",
       "      <td>118.250168</td>\n",
       "      <td>83.159802</td>\n",
       "    </tr>\n",
       "    <tr>\n",
       "      <th>On Axis</th>\n",
       "      <td>114.231730</td>\n",
       "      <td>83.638976</td>\n",
       "    </tr>\n",
       "    <tr>\n",
       "      <th>Sound Power</th>\n",
       "      <td>130.269819</td>\n",
       "      <td>74.448185</td>\n",
       "    </tr>\n",
       "  </tbody>\n",
       "</table>\n",
       "</div>"
      ],
      "text/plain": [
       "                         Freq         dB\n",
       "Measurements                            \n",
       "Early Reflections   20.000000  61.315424\n",
       "Listening Window   118.250168  83.159802\n",
       "On Axis            114.231730  83.638976\n",
       "Sound Power        130.269819  74.448185"
      ]
     },
     "execution_count": 76,
     "metadata": {},
     "output_type": "execute_result"
    }
   ],
   "source": [
    "mins = df.groupby(\"Measurements\").min()\n",
    "mins"
   ]
  },
  {
   "cell_type": "code",
   "execution_count": 77,
   "id": "d871c72f-f6d1-4d26-9fca-fe123b9d20d2",
   "metadata": {},
   "outputs": [
    {
     "data": {
      "text/plain": [
       "'Early Reflections'"
      ]
     },
     "execution_count": 77,
     "metadata": {},
     "output_type": "execute_result"
    }
   ],
   "source": [
    "min_measurement = mins.Freq.idxmin()\n",
    "min_measurement"
   ]
  },
  {
   "cell_type": "code",
   "execution_count": 78,
   "id": "f079615b-0589-4793-909f-f3ce53c96c07",
   "metadata": {},
   "outputs": [],
   "source": [
    "for measurement in mins.index:\n",
    "    if measurement == min_measurement:\n",
    "        continue\n",
    "    query = 'Measurements == \"{}\"'.format(measurement)\n",
    "    min_measurement_freq = mins.query(query).Freq.values[0]\n",
    "    copy = df.loc[(df[\"Measurements\"] == min_measurement) & (df.Freq < min_measurement_freq)][\n",
    "        [\"Freq\", \"dB\"]\n",
    "    ]\n",
    "    df = pd.concat(\n",
    "        [df, pd.DataFrame({\"Freq\": copy.Freq, \"dB\": copy.dB, \"Measurements\": measurement})]\n",
    "    )"
   ]
  },
  {
   "cell_type": "code",
   "execution_count": 79,
   "id": "410ea625-b42c-4f2f-a005-688ace9e32e4",
   "metadata": {},
   "outputs": [
    {
     "data": {
      "text/html": [
       "<div>\n",
       "<style scoped>\n",
       "    .dataframe tbody tr th:only-of-type {\n",
       "        vertical-align: middle;\n",
       "    }\n",
       "\n",
       "    .dataframe tbody tr th {\n",
       "        vertical-align: top;\n",
       "    }\n",
       "\n",
       "    .dataframe thead th {\n",
       "        text-align: right;\n",
       "    }\n",
       "</style>\n",
       "<table border=\"1\" class=\"dataframe\">\n",
       "  <thead>\n",
       "    <tr style=\"text-align: right;\">\n",
       "      <th></th>\n",
       "      <th>Freq</th>\n",
       "      <th>dB</th>\n",
       "      <th>Measurements</th>\n",
       "    </tr>\n",
       "  </thead>\n",
       "  <tbody>\n",
       "    <tr>\n",
       "      <th>0</th>\n",
       "      <td>114.231730</td>\n",
       "      <td>87.176447</td>\n",
       "      <td>On Axis</td>\n",
       "    </tr>\n",
       "    <tr>\n",
       "      <th>1</th>\n",
       "      <td>115.024341</td>\n",
       "      <td>87.191406</td>\n",
       "      <td>On Axis</td>\n",
       "    </tr>\n",
       "    <tr>\n",
       "      <th>2</th>\n",
       "      <td>115.822453</td>\n",
       "      <td>87.204747</td>\n",
       "      <td>On Axis</td>\n",
       "    </tr>\n",
       "    <tr>\n",
       "      <th>3</th>\n",
       "      <td>116.626102</td>\n",
       "      <td>87.204747</td>\n",
       "      <td>On Axis</td>\n",
       "    </tr>\n",
       "    <tr>\n",
       "      <th>4</th>\n",
       "      <td>117.435328</td>\n",
       "      <td>87.204747</td>\n",
       "      <td>On Axis</td>\n",
       "    </tr>\n",
       "    <tr>\n",
       "      <th>...</th>\n",
       "      <td>...</td>\n",
       "      <td>...</td>\n",
       "      <td>...</td>\n",
       "    </tr>\n",
       "    <tr>\n",
       "      <th>1562</th>\n",
       "      <td>124.975761</td>\n",
       "      <td>87.199673</td>\n",
       "      <td>Sound Power</td>\n",
       "    </tr>\n",
       "    <tr>\n",
       "      <th>1563</th>\n",
       "      <td>125.842922</td>\n",
       "      <td>87.219795</td>\n",
       "      <td>Sound Power</td>\n",
       "    </tr>\n",
       "    <tr>\n",
       "      <th>1564</th>\n",
       "      <td>126.716100</td>\n",
       "      <td>87.239902</td>\n",
       "      <td>Sound Power</td>\n",
       "    </tr>\n",
       "    <tr>\n",
       "      <th>1565</th>\n",
       "      <td>127.595336</td>\n",
       "      <td>87.259799</td>\n",
       "      <td>Sound Power</td>\n",
       "    </tr>\n",
       "    <tr>\n",
       "      <th>1566</th>\n",
       "      <td>129.372153</td>\n",
       "      <td>87.078796</td>\n",
       "      <td>Sound Power</td>\n",
       "    </tr>\n",
       "  </tbody>\n",
       "</table>\n",
       "<p>3674 rows × 3 columns</p>\n",
       "</div>"
      ],
      "text/plain": [
       "            Freq         dB Measurements\n",
       "0     114.231730  87.176447      On Axis\n",
       "1     115.024341  87.191406      On Axis\n",
       "2     115.822453  87.204747      On Axis\n",
       "3     116.626102  87.204747      On Axis\n",
       "4     117.435328  87.204747      On Axis\n",
       "...          ...        ...          ...\n",
       "1562  124.975761  87.199673  Sound Power\n",
       "1563  125.842922  87.219795  Sound Power\n",
       "1564  126.716100  87.239902  Sound Power\n",
       "1565  127.595336  87.259799  Sound Power\n",
       "1566  129.372153  87.078796  Sound Power\n",
       "\n",
       "[3674 rows x 3 columns]"
      ]
     },
     "execution_count": 79,
     "metadata": {},
     "output_type": "execute_result"
    }
   ],
   "source": [
    "df"
   ]
  },
  {
   "cell_type": "code",
   "execution_count": 80,
   "id": "5fe61981-a2b2-4c43-a496-88251ed9ca13",
   "metadata": {},
   "outputs": [
    {
     "data": {
      "text/html": [
       "<div>\n",
       "<style scoped>\n",
       "    .dataframe tbody tr th:only-of-type {\n",
       "        vertical-align: middle;\n",
       "    }\n",
       "\n",
       "    .dataframe tbody tr th {\n",
       "        vertical-align: top;\n",
       "    }\n",
       "\n",
       "    .dataframe thead th {\n",
       "        text-align: right;\n",
       "    }\n",
       "</style>\n",
       "<table border=\"1\" class=\"dataframe\">\n",
       "  <thead>\n",
       "    <tr style=\"text-align: right;\">\n",
       "      <th></th>\n",
       "      <th>Freq</th>\n",
       "      <th>dB</th>\n",
       "    </tr>\n",
       "    <tr>\n",
       "      <th>Measurements</th>\n",
       "      <th></th>\n",
       "      <th></th>\n",
       "    </tr>\n",
       "  </thead>\n",
       "  <tbody>\n",
       "    <tr>\n",
       "      <th>Early Reflections</th>\n",
       "      <td>20.0</td>\n",
       "      <td>61.315424</td>\n",
       "    </tr>\n",
       "    <tr>\n",
       "      <th>Listening Window</th>\n",
       "      <td>20.0</td>\n",
       "      <td>61.315424</td>\n",
       "    </tr>\n",
       "    <tr>\n",
       "      <th>On Axis</th>\n",
       "      <td>20.0</td>\n",
       "      <td>61.315424</td>\n",
       "    </tr>\n",
       "    <tr>\n",
       "      <th>Sound Power</th>\n",
       "      <td>20.0</td>\n",
       "      <td>61.315424</td>\n",
       "    </tr>\n",
       "  </tbody>\n",
       "</table>\n",
       "</div>"
      ],
      "text/plain": [
       "                   Freq         dB\n",
       "Measurements                      \n",
       "Early Reflections  20.0  61.315424\n",
       "Listening Window   20.0  61.315424\n",
       "On Axis            20.0  61.315424\n",
       "Sound Power        20.0  61.315424"
      ]
     },
     "execution_count": 80,
     "metadata": {},
     "output_type": "execute_result"
    }
   ],
   "source": [
    "df.groupby(\"Measurements\").min()"
   ]
  },
  {
   "cell_type": "code",
   "execution_count": null,
   "id": "6fc0e8c9-3699-4e3c-b227-db5c23f0e7e0",
   "metadata": {},
   "outputs": [],
   "source": []
  }
 ],
 "metadata": {
  "kernelspec": {
   "display_name": "Python 3 (ipykernel)",
   "language": "python",
   "name": "python3"
  },
  "language_info": {
   "codemirror_mode": {
    "name": "ipython",
    "version": 3
   },
   "file_extension": ".py",
   "mimetype": "text/x-python",
   "name": "python",
   "nbconvert_exporter": "python",
   "pygments_lexer": "ipython3",
   "version": "3.10.14"
  }
 },
 "nbformat": 4,
 "nbformat_minor": 5
}
