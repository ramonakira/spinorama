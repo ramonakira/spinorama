{
 "cells": [
  {
   "cell_type": "markdown",
   "id": "sunrise-there",
   "metadata": {},
   "source": [
    "# Model 3 classical loudspeakers\n",
    "\n",
    "Usefull for debugging \n",
    "\n",
    "References: \n",
    "- Mäkivirta, Aki & Liski, Juho & Välimäki, Vesa. (2018). Modeling and Delay-Equalizing Loudspeaker Responses. Journal of the Audio Engineering Society. 66. 922-934. 10.17743/jaes.2018.0053. \n",
    "- Linkwitz, Siegfried H. (February 1976). \"AES E-Library: Browse Entire Database\". JAES Volume 24 Issue 1. The Audio Engineering Society: 2–8. "
   ]
  },
  {
   "cell_type": "code",
   "execution_count": null,
   "id": "diverse-mounting",
   "metadata": {},
   "outputs": [],
   "source": [
    "import math\n",
    "import numpy as np\n",
    "import pandas as pd\n",
    "import altair as alt"
   ]
  },
  {
   "cell_type": "code",
   "execution_count": null,
   "id": "commercial-patent",
   "metadata": {},
   "outputs": [],
   "source": [
    "freq = np.logspace(1 + math.log10(2), 4 + math.log10(2), 200)"
   ]
  },
  {
   "cell_type": "code",
   "execution_count": null,
   "id": "typical-correction",
   "metadata": {},
   "outputs": [],
   "source": [
    "import sys, os, os.path\n",
    "\n",
    "sys.path.append(os.path.expanduser(\"../src\"))\n",
    "\n",
    "from src.spinorama.filter_iir import Biquad\n",
    "from src.spinorama.filter_peq import peq_build"
   ]
  },
  {
   "cell_type": "code",
   "execution_count": null,
   "id": "buried-passenger",
   "metadata": {},
   "outputs": [],
   "source": [
    "ls = Biquad(1, 20, 48000, 10, 10)\n",
    "hs = Biquad(0, 20000, 48000, 10, 5)\n",
    "filter_one_way = [(-1, ls), (-1, hs)]"
   ]
  },
  {
   "cell_type": "code",
   "execution_count": null,
   "id": "divided-department",
   "metadata": {},
   "outputs": [],
   "source": [
    "one_way = peq_build(freq, filter_one_way)"
   ]
  },
  {
   "cell_type": "code",
   "execution_count": null,
   "id": "continuous-mother",
   "metadata": {},
   "outputs": [],
   "source": [
    "alt.Chart(pd.DataFrame({\"freq\": freq, \"dB\": one_way})).mark_line().encode(\n",
    "    x=alt.X(\"freq:Q\", scale=alt.Scale(type=\"log\", domain=[20, 20000], nice=False)),\n",
    "    y=alt.Y(\"dB:Q\", scale=alt.Scale(domain=[-40, 10])),\n",
    ")"
   ]
  },
  {
   "cell_type": "code",
   "execution_count": null,
   "id": "historic-sierra",
   "metadata": {},
   "outputs": [],
   "source": [
    "ls1 = Biquad(1, 80, 48000, 0.5, 10)\n",
    "hs1 = Biquad(0, 5000, 48000, 0.5, 10)\n",
    "ls2 = Biquad(1, 1000, 48000, 0.5, 10)\n",
    "filter_woofer = [(1, ls1), (1, hs1)]\n",
    "filter_tweeter = [(1, ls2)]"
   ]
  },
  {
   "cell_type": "code",
   "execution_count": null,
   "id": "shared-infection",
   "metadata": {},
   "outputs": [],
   "source": [
    "woofer_two_way = peq_build(freq, filter_woofer)\n",
    "tweeter_two_way = peq_build(freq, filter_tweeter)"
   ]
  },
  {
   "cell_type": "code",
   "execution_count": null,
   "id": "needed-feeding",
   "metadata": {},
   "outputs": [],
   "source": [
    "alt.Chart(\n",
    "    pd.DataFrame({\"freq\": freq, \"woofer\": woofer_two_way, \"tweeter\": tweeter_two_way})\n",
    ").transform_fold([\"woofer\", \"tweeter\"]).transform_filter(\"datum.value>-40\").mark_line().encode(\n",
    "    x=alt.X(\"freq:Q\", scale=alt.Scale(type=\"log\", domain=[20, 20000], nice=False)),\n",
    "    y=alt.Y(\"value:Q\", title=\"dB\", scale=alt.Scale(domain=[-40, 10])),\n",
    "    color=\"key:N\",\n",
    ")"
   ]
  },
  {
   "cell_type": "code",
   "execution_count": null,
   "id": "still-hours",
   "metadata": {},
   "outputs": [],
   "source": [
    "from src.spinorama.filter_peq import (\n",
    "    peq_butterworth_lowpass,\n",
    "    peq_butterworth_highpass,\n",
    "    peq_linkwitzriley_lowpass,\n",
    "    peq_linkwitzriley_highpass,\n",
    ")"
   ]
  },
  {
   "cell_type": "code",
   "execution_count": null,
   "id": "normal-waters",
   "metadata": {},
   "outputs": [],
   "source": [
    "bw2_lp = peq_build(freq, peq_butterworth_lowpass(2, 2000, 48000))\n",
    "bw2_hp = peq_build(freq, peq_butterworth_highpass(2, 2000, 48000))\n",
    "lr4_lp = peq_build(freq, peq_linkwitzriley_lowpass(4, 2000, 48000))\n",
    "lr4_hp = peq_build(freq, peq_linkwitzriley_highpass(4, 2000, 48000))"
   ]
  },
  {
   "cell_type": "code",
   "execution_count": null,
   "id": "derived-capacity",
   "metadata": {},
   "outputs": [],
   "source": [
    "alt.Chart(\n",
    "    pd.DataFrame(\n",
    "        {\n",
    "            \"freq\": freq,\n",
    "            \"LR4 lp\": lr4_lp,\n",
    "            \"LR4 hp\": lr4_hp,\n",
    "            \"BW2 lp\": bw2_lp + 10,\n",
    "            \"BW2 hp\": bw2_hp + 10,\n",
    "        }\n",
    "    )\n",
    ").transform_fold([\"LR4 lp\", \"LR4 hp\", \"BW2 lp\", \"BW2 hp\"]).transform_filter(\n",
    "    \"datum.value>-40\"\n",
    ").mark_line().encode(\n",
    "    x=alt.X(\"freq:Q\", scale=alt.Scale(type=\"log\", domain=[20, 20000], nice=False)),\n",
    "    y=alt.Y(\"value:Q\", scale=alt.Scale(domain=[-40, 10], nice=False)),\n",
    "    color=\"key:N\",\n",
    ")"
   ]
  },
  {
   "cell_type": "code",
   "execution_count": null,
   "id": "according-guide",
   "metadata": {},
   "outputs": [],
   "source": [
    "import scipy.signal as sig"
   ]
  },
  {
   "cell_type": "code",
   "execution_count": null,
   "id": "martial-subdivision",
   "metadata": {},
   "outputs": [],
   "source": [
    "sig.besselap(4)"
   ]
  },
  {
   "cell_type": "code",
   "execution_count": null,
   "id": "coordinated-alexander",
   "metadata": {},
   "outputs": [],
   "source": [
    "z, p, k = sig.buttap(8)\n",
    "np.real(p)"
   ]
  },
  {
   "cell_type": "code",
   "execution_count": null,
   "id": "renewable-criterion",
   "metadata": {},
   "outputs": [],
   "source": [
    "1 / math.sqrt(2)"
   ]
  },
  {
   "cell_type": "code",
   "execution_count": null,
   "id": "nasty-visiting",
   "metadata": {},
   "outputs": [],
   "source": [
    "sos_lp = sig.butter(4, 0.125, btype=\"lp\", output=\"sos\")\n",
    "sos_hp = sig.butter(4, 0.125, btype=\"hp\", output=\"sos\")"
   ]
  },
  {
   "cell_type": "code",
   "execution_count": null,
   "id": "optional-bulletin",
   "metadata": {},
   "outputs": [],
   "source": [
    "n = 201\n",
    "t = np.linspace(0, 1, n)\n",
    "np.random.seed(20210413)\n",
    "x = 1 + (t < 0.5) - 0.25 * t**2 + 0.05 * np.random.randn(n)"
   ]
  },
  {
   "cell_type": "code",
   "execution_count": null,
   "id": "brief-diagnosis",
   "metadata": {},
   "outputs": [],
   "source": [
    "y = sig.sosfiltfilt(sos_lp, x)\n",
    "w_lp, h_lp = sig.sosfreqz(sos_lp, worN=n, fs=48000)\n",
    "dB_lp = 20 * np.log10(np.maximum(np.abs(h_lp), 1e-15))\n",
    "w_hp, h_hp = sig.sosfreqz(sos_hp, worN=n, fs=48000)\n",
    "dB_hp = 20 * np.log10(np.maximum(np.abs(h_hp), 1e-15))\n",
    "dB_sum = 20 * np.log10(np.maximum(np.abs(h_lp + h_hp), 1e-15))"
   ]
  },
  {
   "cell_type": "code",
   "execution_count": null,
   "id": "structural-stopping",
   "metadata": {},
   "outputs": [],
   "source": [
    "w_db = (\n",
    "    alt.Chart(\n",
    "        pd.DataFrame(\n",
    "            {\"freq\": w_lp / math.pi, \"dB_lp\": dB_lp, \"dB_hp\": dB_hp, \"dB_sum\": dB_sum}\n",
    "        ).melt(\"freq\", var_name=\"buttw\", value_name=\"dB\")\n",
    "    )\n",
    "    .transform_filter(\"datum.dB>-9\")\n",
    "    .mark_line()\n",
    "    .encode(\n",
    "        x=alt.X(\n",
    "            \"freq:Q\",\n",
    "            scale=alt.Scale(type=\"log\", base=10, domain=[1, 20000], nice=False),\n",
    "        ),\n",
    "        y=alt.Y(\"dB:Q\", scale=alt.Scale(domain=[-9, 6], zero=False, nice=False)),\n",
    "        color=alt.Color(\"buttw\"),\n",
    "    )\n",
    ")"
   ]
  },
  {
   "cell_type": "code",
   "execution_count": null,
   "id": "committed-alias",
   "metadata": {},
   "outputs": [],
   "source": [
    "w_phase = (\n",
    "    alt.Chart(\n",
    "        pd.DataFrame(\n",
    "            {\n",
    "                \"freq\": w_lp / math.pi,\n",
    "                \"phase_lp\": np.angle(h_lp) * 180 / math.pi,\n",
    "                \"phase_hp\": np.angle(h_hp) * 180 / math.pi,\n",
    "                \"phase_sum\": np.angle(h_lp + h_hp) * 180 / math.pi,\n",
    "            }\n",
    "        ).melt(\"freq\", var_name=\"buttw\", value_name=\"phase\")\n",
    "    )\n",
    "    .mark_line()\n",
    "    .encode(\n",
    "        x=alt.X(\n",
    "            \"freq:Q\",\n",
    "            scale=alt.Scale(type=\"log\", base=10, domain=[1, 20000], nice=False),\n",
    "        ),\n",
    "        y=alt.Y(\n",
    "            \"phase:Q\",\n",
    "            axis=alt.Axis(title=\"Phase (deg)\"),\n",
    "            scale=alt.Scale(domain=[-180, 180], nice=False),\n",
    "        ),\n",
    "        color=alt.Color(\"buttw\"),\n",
    "    )\n",
    ")"
   ]
  },
  {
   "cell_type": "code",
   "execution_count": null,
   "id": "institutional-farming",
   "metadata": {},
   "outputs": [],
   "source": [
    "x_y = (\n",
    "    alt.Chart(pd.DataFrame({\"t\": t, \"x\": x, \"y\": y}).melt(\"t\", var_name=\"signal\", value_name=\"dB\"))\n",
    "    .mark_line()\n",
    "    .encode(\n",
    "        x=alt.X(\"t:Q\"),\n",
    "        y=alt.Y(\"dB:Q\"),\n",
    "        color=alt.Color(\"signal\"),\n",
    "    )\n",
    ")"
   ]
  },
  {
   "cell_type": "code",
   "execution_count": null,
   "id": "dress-subcommittee",
   "metadata": {},
   "outputs": [],
   "source": [
    "(x_y | w_db | w_phase).resolve_scale(y=\"independent\").properties(title=\"Butterworth\")"
   ]
  },
  {
   "cell_type": "code",
   "execution_count": null,
   "id": "grave-elizabeth",
   "metadata": {},
   "outputs": [],
   "source": [
    "w_lp"
   ]
  },
  {
   "cell_type": "code",
   "execution_count": null,
   "id": "roman-darkness",
   "metadata": {},
   "outputs": [],
   "source": []
  }
 ],
 "metadata": {
  "kernelspec": {
   "display_name": "Python 3 (ipykernel)",
   "language": "python",
   "name": "python3"
  },
  "language_info": {
   "codemirror_mode": {
    "name": "ipython",
    "version": 3
   },
   "file_extension": ".py",
   "mimetype": "text/x-python",
   "name": "python",
   "nbconvert_exporter": "python",
   "pygments_lexer": "ipython3",
   "version": "3.9.7"
  }
 },
 "nbformat": 4,
 "nbformat_minor": 5
}
