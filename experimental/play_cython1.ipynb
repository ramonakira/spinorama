{
 "cells": [
  {
   "cell_type": "markdown",
   "id": "84b374cc-97d2-4a6e-be40-d8eb9004560a",
   "metadata": {},
   "source": [
    "Experiments with cython (perf x100)"
   ]
  },
  {
   "cell_type": "code",
   "execution_count": 4,
   "id": "e59c1538-1033-45e1-a0a0-cd9660ff7b76",
   "metadata": {
    "tags": []
   },
   "outputs": [],
   "source": [
    "import math\n",
    "import time\n",
    "import bisect\n",
    "\n",
    "import pandas as pd\n",
    "import numpy as np\n",
    "import plotly as plt\n",
    "import ray\n",
    "\n",
    "pd.options.plotting.backend = \"plotly\"\n",
    "\n",
    "import sys, os, os.path\n",
    "\n",
    "sys.path.append(os.path.expanduser(\"../src\"))\n",
    "\n",
    "from generate_common import custom_ray_init, cache_load\n",
    "from src.spinorama.filter_iir import Biquad\n",
    "from src.spinorama.filter_peq import peq_print, peq_format_apo, peq_build\n",
    "import scipy.optimize as opt"
   ]
  },
  {
   "cell_type": "code",
   "execution_count": null,
   "id": "eb77fd16-ef8c-4bf3-91e3-c22c0928bc38",
   "metadata": {
    "tags": []
   },
   "outputs": [],
   "source": [
    "custom_ray_init({\"--log-level\": \"INFO\"})"
   ]
  },
  {
   "cell_type": "code",
   "execution_count": null,
   "id": "64c83b5f-5252-46d4-9e6d-0156db41cd56",
   "metadata": {
    "tags": []
   },
   "outputs": [],
   "source": [
    "# speaker_name = \"Genelec 8341A\"\n",
    "# speaker_origin = \"ASR\"\n",
    "# speaker_version = \"asr-vertical\"\n",
    "# speaker_name = \"BIC America FH6-LCR Center\"\n",
    "# speaker_origin = \"ASR\"\n",
    "# speaker_version = \"asr-vertical\"\n",
    "# speaker_name = \"Arendal Sound 1961 Center\"\n",
    "speaker_name = \"KEF R8 Meta\"\n",
    "# speaker_name = \"JBL AC25\"\n",
    "speaker_origin = \"ASR\"\n",
    "speaker_version = \"asr\"\n",
    "df_speaker = cache_load({\"speaker_name\": speaker_name, \"origin\": speaker_origin}, False)\n",
    "ray.shutdown()"
   ]
  },
  {
   "cell_type": "code",
   "execution_count": null,
   "id": "41f5fa95-fcf4-4cc4-a676-1591dabc5d3b",
   "metadata": {
    "tags": []
   },
   "outputs": [],
   "source": [
    "spl_h = df_speaker[speaker_name][speaker_origin][speaker_version][\"SPL Horizontal_unmelted\"]\n",
    "spl_v = df_speaker[speaker_name][speaker_origin][speaker_version][\"SPL Vertical_unmelted\"]\n",
    "\n",
    "from src.spinorama.compute_cea2034 import compute_cea2034, estimated_inroom_hv\n",
    "\n",
    "%timeit compute_cea2034(spl_h, spl_v)\n",
    "%timeit estimated_inroom_hv(spl_h, spl_v)\n",
    "\n",
    "python_spin = compute_cea2034(spl_h, spl_v)\n",
    "python_pir = estimated_inroom_hv(spl_h, spl_v)\n",
    "\n",
    "freq = spl_h.Freq\n",
    "spl_h = spl_h.drop(\"Freq\", axis=1)\n",
    "spl_v = spl_v.drop(\"Freq\", axis=1)\n",
    "spl = np.concatenate((spl_h.T.to_numpy(), spl_v.T.to_numpy()), axis=0)"
   ]
  },
  {
   "cell_type": "code",
   "execution_count": null,
   "id": "88e348ef",
   "metadata": {
    "tags": []
   },
   "outputs": [],
   "source": [
    "%load_ext Cython"
   ]
  },
  {
   "cell_type": "code",
   "execution_count": null,
   "id": "cf78767d",
   "metadata": {
    "tags": []
   },
   "outputs": [],
   "source": [
    "def compute_area_q(alpha_d: float, beta_d: float) -> float:\n",
    "    \"\"\"Compute the area of the sphere between 4 lines at alpha and beta angles\"\"\"\n",
    "    alpha = alpha_d * 2 * math.pi / 360\n",
    "    beta = beta_d * 2 * math.pi / 360\n",
    "    gamma = math.acos(math.cos(alpha) * math.cos(beta))\n",
    "    A = math.atan(math.sin(beta) / math.tan(alpha))\n",
    "    B = math.atan(math.sin(alpha) / math.tan(beta))\n",
    "    C = math.acos(-math.cos(A) * math.cos(B) + math.sin(A) * math.sin(B) * math.cos(gamma))\n",
    "    S = 4 * C - 2 * math.pi\n",
    "    # print('gamma {} A {} B {} C {} S {}'.format(\n",
    "    #    gamma*360/2/math.pi, A*360/2/math.pi, B*360/2/math.pi, C*360/2/math.pi, S))\n",
    "    return S\n",
    "\n",
    "\n",
    "def compute_weigths() -> list[float]:\n",
    "    \"\"\"Compute the weigths from the CEA2034 standards\"\"\"\n",
    "    angles = [i * 10 + 5 for i in range(0, 9)] + [90]\n",
    "    weigth_angles = [compute_area_q(i, i) for i in angles]\n",
    "    # weigths are the delta between 2 consecutive areas\n",
    "    weigths = [weigth_angles[0]] + [\n",
    "        weigth_angles[i] - weigth_angles[i - 1] for i in range(1, len(weigth_angles))\n",
    "    ]\n",
    "    weigths[9] *= 2.0\n",
    "    return weigths\n",
    "\n",
    "\n",
    "std_weigths = compute_weigths()\n",
    "\n",
    "sp_weigths = {\n",
    "    \"On Axis\": std_weigths[0],\n",
    "    \"180°\": std_weigths[0],\n",
    "    \"-180°\": std_weigths[0],\n",
    "    #\n",
    "    \"10°\": std_weigths[1],\n",
    "    \"170°\": std_weigths[1],\n",
    "    \"-170°\": std_weigths[1],\n",
    "    \"-10°\": std_weigths[1],\n",
    "    #\n",
    "    \"20°\": std_weigths[2],\n",
    "    \"160°\": std_weigths[2],\n",
    "    \"-160°\": std_weigths[2],\n",
    "    \"-20°\": std_weigths[2],\n",
    "    #\n",
    "    \"30°\": std_weigths[3],\n",
    "    \"150°\": std_weigths[3],\n",
    "    \"-150°\": std_weigths[3],\n",
    "    \"-30°\": std_weigths[3],\n",
    "    #\n",
    "    \"40°\": std_weigths[4],\n",
    "    \"140°\": std_weigths[4],\n",
    "    \"-140°\": std_weigths[4],\n",
    "    \"-40°\": std_weigths[4],\n",
    "    #\n",
    "    \"50°\": std_weigths[5],\n",
    "    \"130°\": std_weigths[5],\n",
    "    \"-130°\": std_weigths[5],\n",
    "    \"-50°\": std_weigths[5],\n",
    "    #\n",
    "    \"60°\": std_weigths[6],\n",
    "    \"120°\": std_weigths[6],\n",
    "    \"-120°\": std_weigths[6],\n",
    "    \"-60°\": std_weigths[6],\n",
    "    #\n",
    "    \"70°\": std_weigths[7],\n",
    "    \"110°\": std_weigths[7],\n",
    "    \"-110°\": std_weigths[7],\n",
    "    \"-70°\": std_weigths[7],\n",
    "    #\n",
    "    \"80°\": std_weigths[8],\n",
    "    \"100°\": std_weigths[8],\n",
    "    \"-100°\": std_weigths[8],\n",
    "    \"-80°\": std_weigths[8],\n",
    "    #\n",
    "    \"90°\": std_weigths[9],\n",
    "    \"-90°\": std_weigths[9],\n",
    "}\n",
    "\n",
    "\n",
    "def octave(N: int) -> list[tuple[float, float, float]]:\n",
    "    \"\"\"compute 1/N octave band\n",
    "\n",
    "    N: >=2 when N increases, bands are narrower\n",
    "    \"\"\"\n",
    "    # why 1290 and not 1000?\n",
    "    reference = 1290.0\n",
    "    p = pow(2, 1 / N)\n",
    "    p_band = pow(2, 1 / (2 * N))\n",
    "    o_iter = int((N * 10 + 1) / 2)\n",
    "    center = (\n",
    "        [reference / p**i for i in range(o_iter, 0, -1)]\n",
    "        + [reference]\n",
    "        + [reference * p**i for i in range(1, o_iter + 1, 1)]\n",
    "    )\n",
    "    return [(c / p_band, c, c * p_band) for c in center]\n",
    "\n",
    "\n",
    "intervals = [\n",
    "    (np.searchsorted(freq, omin, side=\"right\"), np.searchsorted(freq, omax, side=\"left\"))\n",
    "    for omin, ocenter, omax in octave(2)\n",
    "    if 100 <= ocenter <= 12000\n",
    "]"
   ]
  },
  {
   "cell_type": "code",
   "execution_count": null,
   "id": "8e457368",
   "metadata": {
    "tags": []
   },
   "outputs": [],
   "source": [
    "spl_keys = [f\"H{k}\" for k in spl_h] + [f\"V{k}\" for k in spl_v]\n",
    "weigths = [sp_weigths[k] for k in spl_h] + [sp_weigths[k] for k in spl_v]\n",
    "\n",
    "\n",
    "def build_index(spl_key, h_key, v_key):\n",
    "    idx = [spl_key.index(f\"H{k}\") for k in h_key] + [spl_key.index(f\"V{k}\") for k in v_key]\n",
    "    return idx\n",
    "\n",
    "\n",
    "idx_lw = build_index(\n",
    "    spl_keys, [\"10°\", \"20°\", \"30°\", \"-10°\", \"-20°\", \"-30°\"], [\"On Axis\", \"10°\", \"-10°\"]\n",
    ")\n",
    "idx_er = build_index(\n",
    "    spl_keys,\n",
    "    [\n",
    "        \"On Axis\",\n",
    "        \"10°\",\n",
    "        \"20°\",\n",
    "        \"30°\",\n",
    "        \"40°\",\n",
    "        \"50°\",\n",
    "        \"60°\",\n",
    "        \"70°\",\n",
    "        \"80°\",\n",
    "        \"90°\",\n",
    "        \"100°\",\n",
    "        \"110°\",\n",
    "        \"120°\",\n",
    "        \"130°\",\n",
    "        \"140°\",\n",
    "        \"150°\",\n",
    "        \"160°\",\n",
    "        \"170°\",\n",
    "        \"-10°\",\n",
    "        \"-20°\",\n",
    "        \"-30°\",\n",
    "        \"-40°\",\n",
    "        \"-50°\",\n",
    "        \"-60°\",\n",
    "        \"-70°\",\n",
    "        \"-80°\",\n",
    "        \"-90°\",\n",
    "        \"100°\",\n",
    "        \"110°\",\n",
    "        \"120°\",\n",
    "        \"130°\",\n",
    "        \"140°\",\n",
    "        \"150°\",\n",
    "        \"160°\",\n",
    "        \"170°\",\n",
    "        \"180°\",\n",
    "    ],\n",
    "    [\"On Axis\", \"-20°\", \"-30°\", \"-40°\", \"40°\", \"50°\", \"60°\"],\n",
    ")\n",
    "idx_floor_bounce = build_index(spl_keys, [], [\"-20°\", \"-30°\", \"-40°\"])\n",
    "idx_ceiling_bounce = build_index(spl_keys, [], [\"40°\", \"50°\", \"60°\"])\n",
    "idx_front_wall_bounce = build_index(\n",
    "    spl_keys, [\"On Axis\", \"-10°\", \"-20°\", \"-30°\", \"10°\", \"20°\", \"30°\"], []\n",
    ")\n",
    "idx_side_wall_bounce = build_index(\n",
    "    spl_keys, [\"-40°\", \"-50°\", \"-60°\", \"-70°\", \"-80°\", \"40°\", \"50°\", \"60°\", \"70°\", \"80°\"], []\n",
    ")\n",
    "idx_rear_wall_bounce = build_index(\n",
    "    spl_keys,\n",
    "    [\n",
    "        \"-170°\",\n",
    "        \"-160°\",\n",
    "        \"-150°\",\n",
    "        \"-140°\",\n",
    "        \"-130°\",\n",
    "        \"-120°\",\n",
    "        \"-110°\",\n",
    "        \"-100°\",\n",
    "        \"-90°\",\n",
    "        \"90°\",\n",
    "        \"100°\",\n",
    "        \"110°\",\n",
    "        \"120°\",\n",
    "        \"130°\",\n",
    "        \"140°\",\n",
    "        \"150°\",\n",
    "        \"160°\",\n",
    "        \"170°\",\n",
    "        \"180°\",\n",
    "    ],\n",
    "    [],\n",
    ")\n",
    "idx_tvr = build_index(spl_keys, [], [\"On Axis\", \"-20°\", \"-30°\", \"-40°\", \"40°\", \"50°\", \"60°\"])\n",
    "idx_fr = build_index(spl_keys, [], [\"On Axis\", \"-20°\", \"-30°\", \"-40°\"])\n",
    "idx_cr = build_index(spl_keys, [], [\"On Axis\", \"40°\", \"50°\", \"60°\"])\n",
    "idx_front = build_index(spl_keys, [\"On Axis\", \"10°\", \"20°\", \"30°\", \"-10°\", \"-20°\", \"-30°\"], [])\n",
    "idx_side = build_index(\n",
    "    spl_keys, [\"40°\", \"50°\", \"60°\", \"70°\", \"80°\", \"-40°\", \"-50°\", \"-60°\", \"-70°\", \"-80°\"], []\n",
    ")\n",
    "idx_rear = build_index(\n",
    "    spl_keys,\n",
    "    [\n",
    "        \"90°\",\n",
    "        \"100°\",\n",
    "        \"110°\",\n",
    "        \"120°\",\n",
    "        \"130°\",\n",
    "        \"140°\",\n",
    "        \"150°\",\n",
    "        \"160°\",\n",
    "        \"170°\",\n",
    "        \"-90°\",\n",
    "        \"-100°\",\n",
    "        \"-110°\",\n",
    "        \"-120°\",\n",
    "        \"-130°\",\n",
    "        \"-140°\",\n",
    "        \"-150°\",\n",
    "        \"-160°\",\n",
    "        \"-170°\",\n",
    "        \"180°\",\n",
    "    ],\n",
    "    [],\n",
    ")\n",
    "idx_thr = build_index(\n",
    "    spl_keys,\n",
    "    [\n",
    "        \"On Axis\",\n",
    "        \"10°\",\n",
    "        \"20°\",\n",
    "        \"30°\",\n",
    "        \"40°\",\n",
    "        \"50°\",\n",
    "        \"60°\",\n",
    "        \"70°\",\n",
    "        \"80°\",\n",
    "        \"90°\",\n",
    "        \"100°\",\n",
    "        \"110°\",\n",
    "        \"120°\",\n",
    "        \"130°\",\n",
    "        \"140°\",\n",
    "        \"150°\",\n",
    "        \"160°\",\n",
    "        \"170°\",\n",
    "        \"-10°\",\n",
    "        \"-20°\",\n",
    "        \"-30°\",\n",
    "        \"-40°\",\n",
    "        \"-50°\",\n",
    "        \"-60°\",\n",
    "        \"-70°\",\n",
    "        \"-80°\",\n",
    "        \"-90°\",\n",
    "        \"-100°\",\n",
    "        \"-110°\",\n",
    "        \"-120°\",\n",
    "        \"-130°\",\n",
    "        \"-140°\",\n",
    "        \"-150°\",\n",
    "        \"-160°\",\n",
    "        \"-170°\",\n",
    "        \"180°\",\n",
    "    ],\n",
    "    [],\n",
    ")\n",
    "idx_sp = build_index(\n",
    "    spl_keys,\n",
    "    [\n",
    "        \"On Axis\",\n",
    "        \"10°\",\n",
    "        \"20°\",\n",
    "        \"30°\",\n",
    "        \"40°\",\n",
    "        \"50°\",\n",
    "        \"60°\",\n",
    "        \"70°\",\n",
    "        \"80°\",\n",
    "        \"90°\",\n",
    "        \"100°\",\n",
    "        \"110°\",\n",
    "        \"120°\",\n",
    "        \"130°\",\n",
    "        \"140°\",\n",
    "        \"150°\",\n",
    "        \"160°\",\n",
    "        \"170°\",\n",
    "        \"-10°\",\n",
    "        \"-20°\",\n",
    "        \"-30°\",\n",
    "        \"-40°\",\n",
    "        \"-50°\",\n",
    "        \"-60°\",\n",
    "        \"-70°\",\n",
    "        \"-80°\",\n",
    "        \"-90°\",\n",
    "        \"-100°\",\n",
    "        \"-110°\",\n",
    "        \"-120°\",\n",
    "        \"-130°\",\n",
    "        \"-140°\",\n",
    "        \"-150°\",\n",
    "        \"-160°\",\n",
    "        \"-170°\",\n",
    "        \"180°\",\n",
    "    ],\n",
    "    [\n",
    "        \"10°\",\n",
    "        \"20°\",\n",
    "        \"30°\",\n",
    "        \"40°\",\n",
    "        \"50°\",\n",
    "        \"60°\",\n",
    "        \"70°\",\n",
    "        \"80°\",\n",
    "        \"90°\",\n",
    "        \"100°\",\n",
    "        \"110°\",\n",
    "        \"120°\",\n",
    "        \"130°\",\n",
    "        \"140°\",\n",
    "        \"150°\",\n",
    "        \"160°\",\n",
    "        \"170°\",\n",
    "        \"-10°\",\n",
    "        \"-20°\",\n",
    "        \"-30°\",\n",
    "        \"-40°\",\n",
    "        \"-50°\",\n",
    "        \"-60°\",\n",
    "        \"-70°\",\n",
    "        \"-80°\",\n",
    "        \"-90°\",\n",
    "        \"-100°\",\n",
    "        \"-110°\",\n",
    "        \"-120°\",\n",
    "        \"-130°\",\n",
    "        \"-140°\",\n",
    "        \"-150°\",\n",
    "        \"-160°\",\n",
    "        \"-170°\",\n",
    "    ],\n",
    ")\n",
    "idx_cea2034 = [\n",
    "    idx_lw,  # 0\n",
    "    idx_er,  # 1\n",
    "    idx_floor_bounce,  # 2\n",
    "    idx_ceiling_bounce,  # 3\n",
    "    idx_front_wall_bounce,  # 4\n",
    "    idx_side_wall_bounce,  # 5\n",
    "    idx_rear_wall_bounce,  # 6\n",
    "    idx_tvr,  # 7\n",
    "    idx_fr,  # 8\n",
    "    idx_cr,  # 9\n",
    "    idx_front,  # 10\n",
    "    idx_side,  # 11\n",
    "    idx_rear,  # 12\n",
    "    idx_thr,  # 13\n",
    "    idx_sp,  # 14\n",
    "]"
   ]
  },
  {
   "cell_type": "code",
   "execution_count": null,
   "id": "ce7647d7",
   "metadata": {
    "tags": []
   },
   "outputs": [],
   "source": [
    "%%cython\n",
    "import math\n",
    "cimport numpy as np\n",
    "import numpy as np\n",
    "from more_itertools import consecutive_groups\n",
    "from scipy.stats import linregress\n",
    "\n",
    "np.import_array()\n",
    "\n",
    "cdef double[:] spl2pressure(const double[:] spl):\n",
    "    return np.power(10, np.divide(np.subtract(spl,105.0),20))\n",
    "\n",
    "cdef double[:] pressure2spl(const double[:] pressure):\n",
    "    return np.add(np.multiply(np.log10(pressure), 20), 105)\n",
    "\n",
    "cpdef double[:,:] spl2pressure2(const double[:,:] spl):\n",
    "    cdef p2 = np.zeros_like(spl)\n",
    "    cdef Py_ssize_t i\n",
    "    for i in range(spl.shape[0]):\n",
    "        # spl 2 pressure and then square it\n",
    "        p2[i] = np.square(spl2pressure(spl[i]))\n",
    "    return p2\n",
    "\n",
    "\n",
    "cdef double[:] apply_rms(const double[:,:] p2, idx):\n",
    "    cdef Py_ssize_t len_idx = len(idx)\n",
    "    cdef double[:] rms = np.zeros(p2.shape[1])\n",
    "    cdef Py_ssize_t i\n",
    "    for i in range(len_idx):\n",
    "        rms = np.add(rms, p2[idx[i]])\n",
    "    return pressure2spl(np.sqrt(np.divide(rms, len_idx)))\n",
    "\n",
    "\n",
    "cdef double[:] apply_weigthed_rms(const double[:,:] p2, idx, const double[:] weigths):\n",
    "    cdef Py_ssize_t len_idx = len(idx)\n",
    "    cdef double[:] rms = np.zeros(p2.shape[1])\n",
    "    cdef double sum_weigths = 0.0\n",
    "    cdef Py_ssize_t i\n",
    "    for i in range(len_idx):\n",
    "        rms = np.add(rms, np.multiply(p2[idx[i]],weigths[idx[i]]))\n",
    "        sum_weigths += weigths[idx[i]]\n",
    "    return pressure2spl(np.sqrt(np.divide(rms, sum_weigths)))\n",
    "\n",
    "cpdef c_cea2034(const double[:,:] spl, idx, const double[:] weigths):\n",
    "    cdef Py_ssize_t len_spl = len(spl[0])\n",
    "    cdef pressure2 = spl2pressure2(spl)\n",
    "    cdef cea2034 = np.zeros([len(idx)+1, len_spl])\n",
    "    cdef Py_ssize_t idx_lw = 0\n",
    "    cdef Py_ssize_t idx_er = 1\n",
    "    cdef Py_ssize_t idx_sp = len(idx)-1\n",
    "    cdef Py_ssize_t idx_pir = idx_sp+1\n",
    "    cdef Py_ssize_t i \n",
    "    # compute all curves from cea2034\n",
    "    for i in range(idx_sp):\n",
    "        cea2034[i] = apply_rms(pressure2, idx[i])\n",
    "    # ER is computed differently\n",
    "    cdef double[:] er = np.zeros([len_spl])\n",
    "    for i in range(2, 7):\n",
    "        er = np.add(er, np.square(spl2pressure(cea2034[i])))\n",
    "    cea2034[idx_er] = pressure2spl(np.sqrt(np.divide(er, 5)))\n",
    "    # SP is weighted rms\n",
    "    cea2034[idx_sp] = apply_weigthed_rms(pressure2, idx[idx_sp], weigths)\n",
    "    # EIR\n",
    "    cea2034[idx_pir] = pressure2spl(\n",
    "        np.multiply(0.12, spl2pressure(cea2034[idx_lw]))+\n",
    "        np.multiply(0.44, spl2pressure(cea2034[idx_er]))+\n",
    "        np.multiply(0.44, spl2pressure(cea2034[idx_sp]))\n",
    "    )\n",
    "    return cea2034\n",
    "\n",
    "cpdef c_cea2034_pressure(const double[:,:] pressure2, idx, const double[:] weigths):\n",
    "    cdef Py_ssize_t len_spl = len(pressure2[0])\n",
    "    cdef cea2034 = np.zeros([len(idx)+1, len_spl])\n",
    "    cdef Py_ssize_t idx_lw = 0\n",
    "    cdef Py_ssize_t idx_er = 1\n",
    "    cdef Py_ssize_t idx_sp = len(idx)-1\n",
    "    cdef Py_ssize_t idx_pir = idx_sp+1\n",
    "    cdef Py_ssize_t i \n",
    "    # compute all curves from cea2034\n",
    "    for i in range(idx_sp):\n",
    "        cea2034[i] = apply_rms(pressure2, idx[i])\n",
    "    # ER is computed differently\n",
    "    cdef double[:] er = np.zeros([len_spl])\n",
    "    for i in range(2, 7):\n",
    "        er = np.add(er, np.square(spl2pressure(cea2034[i])))\n",
    "    cea2034[idx_er] = pressure2spl(np.sqrt(np.divide(er, 5)))\n",
    "    # SP is weighted rms\n",
    "    cea2034[idx_sp] = apply_weigthed_rms(pressure2, idx[idx_sp], weigths)\n",
    "    # EIR\n",
    "    cea2034[idx_pir] = pressure2spl(\n",
    "        np.multiply(0.12, spl2pressure(cea2034[idx_lw]))+\n",
    "        np.multiply(0.44, spl2pressure(cea2034[idx_er]))+\n",
    "        np.multiply(0.44, spl2pressure(cea2034[idx_sp]))\n",
    "    )\n",
    "    return cea2034\n",
    "\n",
    "cdef double LFX_DEFAULT = math.log10(300)\n",
    "\n",
    "cdef double mad(const double[:] spl, Py_ssize_t imin, Py_ssize_t imax):\n",
    "    return np.mean(np.abs(np.subtract(spl[imin:imax], np.mean(spl[imin:imax]))))\n",
    "\n",
    "cpdef double c_nbd(const double[:] freq, interval, const double[:] spl):\n",
    "    return np.nanmean([mad(spl, imin,imax) for imin, imax in interval])\n",
    "\n",
    "cdef first(l):\n",
    "    return l[0]\n",
    "\n",
    "cpdef double c_lfx(const double[:] freq, const double[:] lw, const double[:] sp):\n",
    "    cdef lw_min = np.searchsorted(freq, 300, side='right')\n",
    "    cdef lw_max = np.searchsorted(freq, 10000, side='left')\n",
    "    cdef double lw_ref = np.mean(lw[lw_min:lw_max])-6\n",
    "    cdef lfx_range = [(i, f) for i, f in enumerate(freq[:lw_min]) if sp[i]<=lw_ref]\n",
    "    if len(lfx_range) == 0:\n",
    "        return math.log10(freq[0])\n",
    "    \n",
    "    lfx_grouped = consecutive_groups(lfx_range, first)\n",
    "    lfx_list = list(next(lfx_grouped))\n",
    "    if len(lfx_list) <= 1:\n",
    "        return LFX_DEFAULT\n",
    "    return math.log10(lfx_list[-1][1])\n",
    "\n",
    "cpdef double c_sm(const double[:] freq, const double[:] spl):\n",
    "    cdef f_min = np.searchsorted(freq, 100, side='right')\n",
    "    cdef f_max = np.searchsorted(freq, 16000, side='left')\n",
    "    cdef log_freq = np.log(freq[f_min:f_max])\n",
    "    _, _, r_value, _, _ = linregress(log_freq, spl[f_min:f_max])\n",
    "    return r_value*r_value\n",
    "\n",
    "cpdef c_score(\n",
    "    const double[:] freq, \n",
    "    intervals, \n",
    "    const double[:] on, \n",
    "    const double[:] lw, \n",
    "    const double[:] sp, \n",
    "    const double[:] pir\n",
    "):\n",
    "    cdef nbd_on = c_nbd(freq, intervals, on)\n",
    "    cdef nbd_pir = c_nbd(freq, intervals, pir)\n",
    "    cdef sm_pir = c_sm(freq, pir)\n",
    "    cdef lf_x = c_lfx(freq, lw, sp)\n",
    "    cdef score = 12.69 - 2.49 * nbd_on - 2.99 * nbd_pir - 4.31 * lf_x + 2.32 * sm_pir\n",
    "    return {'nbd_on': nbd_on, 'nbd_pir': nbd_pir, 'lfx': lf_x, 'sm_pir': sm_pir, 'pref_score': score}\n",
    "\n",
    "cpdef c_score_peq(\n",
    "    const double[:] freq, \n",
    "    idx, \n",
    "    intervals, \n",
    "    const double[:] weigths, \n",
    "    const double[:, :] spl_h, \n",
    "    const double[:, :] spl_v, \n",
    "    const double[:] peq\n",
    "):\n",
    "    cdef spl_h_peq = np.zeros_like(spl_h)\n",
    "    cdef spl_v_peq = np.zeros_like(spl_v)\n",
    "    for i in range(spl_h.shape[0]):\n",
    "        spl_h_peq[i] = np.add(spl_h[i], peq)\n",
    "        spl_v_peq[i] = np.add(spl_v[i], peq)\n",
    "    cdef spl = np.concatenate((spl_h_peq, spl_v_peq), axis=0)\n",
    "    cdef pressure = spl2pressure2(spl)\n",
    "    cdef spin = c_cea2034_pressure(pressure, idx, weigths)\n",
    "    return spin, c_score(freq, intervals, spl_h_peq[17], spin[0], spin[-2], spin[-1])\n",
    "\n",
    "cpdef c_score_peq_approx(\n",
    "    const double[:] freq, \n",
    "    idx, \n",
    "    intervals,\n",
    "    const double [:,:] spin,\n",
    "    const double [:] on,\n",
    "    const double[:] peq\n",
    "):\n",
    "    return c_score(\n",
    "        freq, \n",
    "        intervals, \n",
    "        np.add(on,peq), \n",
    "        np.add(spin[0], peq), \n",
    "        np.add(spin[-2], peq),\n",
    "        np.add(spin[-1], peq)\n",
    "    )"
   ]
  },
  {
   "cell_type": "code",
   "execution_count": null,
   "id": "3ce702ce",
   "metadata": {
    "tags": []
   },
   "outputs": [],
   "source": [
    "# computing pressure is 1ms over 2.4\n",
    "# that's not worth splitting since that doesn't help for\n",
    "\n",
    "%timeit c_cea2034(spl, idx_cea2034, np.array(weigths))\n",
    "\n",
    "spin = c_cea2034(spl, idx_cea2034, np.array(weigths))"
   ]
  },
  {
   "cell_type": "code",
   "execution_count": null,
   "id": "101ac482",
   "metadata": {
    "tags": []
   },
   "outputs": [],
   "source": [
    "fig = pd.DataFrame(\n",
    "    {\n",
    "        \"Freq\": freq,\n",
    "        \"on\": spl_h[\"On Axis\"],\n",
    "        \"lw\": spin[0],\n",
    "        \"er\": spin[1],\n",
    "        \"sp\": spin[-2],\n",
    "        \"pir\": spin[-1],\n",
    "        \"erdi\": spin[0] - spin[1] - 50,\n",
    "        \"spdi\": spin[0] - spin[-2] - 50,\n",
    "    }\n",
    ").plot.line(x=\"Freq\", y=[\"lw\", \"er\", \"on\", \"sp\", \"pir\", \"erdi\", \"spdi\"])\n",
    "fig.update_xaxes(type=\"log\")\n",
    "fig.show()"
   ]
  },
  {
   "cell_type": "code",
   "execution_count": null,
   "id": "c56787af",
   "metadata": {
    "tags": []
   },
   "outputs": [],
   "source": [
    "# checking that C computations give the same results as python ones.\n",
    "\n",
    "lw_diff = spin[0] - python_spin[\"Listening Window\"]\n",
    "er_diff = spin[1] - python_spin[\"Early Reflections\"]\n",
    "sp_diff = spin[-2] - python_spin[\"Sound Power\"]\n",
    "pir_diff = spin[-1] - python_pir[\"Estimated In-Room Response\"]\n",
    "df_diff = pd.DataFrame(\n",
    "    {\n",
    "        \"Freq\": freq,\n",
    "        \"lw\": lw_diff,\n",
    "        \"er\": er_diff,\n",
    "        \"sp\": sp_diff,\n",
    "        \"pir\": pir_diff,\n",
    "    }\n",
    ")\n",
    "diff = df_diff.plot.line(x=\"Freq\", y=[\"lw\", \"er\", \"sp\", \"pir\"])\n",
    "diff.update_xaxes(type=\"log\")\n",
    "diff.update_yaxes(range=[-1, 1])\n",
    "diff.show()"
   ]
  },
  {
   "cell_type": "code",
   "execution_count": null,
   "id": "0b11896f",
   "metadata": {
    "tags": []
   },
   "outputs": [],
   "source": [
    "%timeit c_score(freq.values, intervals, spl_h['On Axis'].values, spin[0], spin[-2], spin[-1])"
   ]
  },
  {
   "cell_type": "code",
   "execution_count": null,
   "id": "bb31da78",
   "metadata": {
    "tags": []
   },
   "outputs": [],
   "source": [
    "c_score(freq.values, intervals, spl_h[\"On Axis\"].values, spin[0], spin[-2], spin[-1])"
   ]
  },
  {
   "cell_type": "code",
   "execution_count": null,
   "id": "dee10b00",
   "metadata": {
    "tags": []
   },
   "outputs": [],
   "source": [
    "from src.spinorama.load_rew_eq import parse_eq_iir_rews\n",
    "from src.spinorama.filter_peq import peq_build\n",
    "\n",
    "peq = parse_eq_iir_rews(f\"../datas/eq/{speaker_name}/iir.txt\", 48000)\n",
    "peq_spl = peq_build(freq, peq)"
   ]
  },
  {
   "cell_type": "code",
   "execution_count": null,
   "id": "3fbe7707",
   "metadata": {
    "tags": []
   },
   "outputs": [],
   "source": [
    "%timeit c_score_peq(freq.values, idx_cea2034, intervals, np.array(weigths), spl_h.T.to_numpy(), spl_v.T.to_numpy(), peq_spl)"
   ]
  },
  {
   "cell_type": "code",
   "execution_count": null,
   "id": "58640179",
   "metadata": {
    "tags": []
   },
   "outputs": [],
   "source": [
    "%timeit c_score_peq_approx(freq.values, idx_cea2034, intervals, spin, spl_h['On Axis'].to_numpy(), peq_spl)"
   ]
  },
  {
   "cell_type": "code",
   "execution_count": null,
   "id": "e3f10c41",
   "metadata": {
    "tags": []
   },
   "outputs": [],
   "source": [
    "spin_peq, score_peq = c_score_peq(\n",
    "    freq.values,\n",
    "    idx_cea2034,\n",
    "    intervals,\n",
    "    np.array(weigths),\n",
    "    spl_h.T.to_numpy(),\n",
    "    spl_v.T.to_numpy(),\n",
    "    peq_spl,\n",
    ")\n",
    "score_peq_a = c_score_peq_approx(\n",
    "    freq.values, idx_cea2034, intervals, spin, spl_h[\"On Axis\"].to_numpy(), peq_spl\n",
    ")"
   ]
  },
  {
   "cell_type": "code",
   "execution_count": null,
   "id": "618e5a0d",
   "metadata": {
    "tags": []
   },
   "outputs": [],
   "source": [
    "score_peq, score_peq_a"
   ]
  },
  {
   "cell_type": "code",
   "execution_count": null,
   "id": "ecb20c81",
   "metadata": {
    "tags": []
   },
   "outputs": [],
   "source": [
    "fig = pd.DataFrame(\n",
    "    {\n",
    "        \"Freq\": freq,\n",
    "        \"on\": spl_h[\"On Axis\"] + peq_spl,\n",
    "        \"lw\": spin_peq[0],\n",
    "        \"er\": spin_peq[1],\n",
    "        \"sp\": spin_peq[-2],\n",
    "        \"pir\": spin_peq[-1],\n",
    "        \"erdi\": spin_peq[0] - spin_peq[1] - 50,\n",
    "        \"spdi\": spin_peq[0] - spin_peq[-2] - 50,\n",
    "    }\n",
    ").plot.line(x=\"Freq\", y=[\"on\", \"lw\", \"er\", \"sp\", \"pir\", \"erdi\", \"spdi\"])\n",
    "fig.update_xaxes(type=\"log\")\n",
    "fig.update_layout(\n",
    "    title=\"Spinorama: score {:1.2f} for {}\".format(score_peq[\"pref_score\"], speaker_name),\n",
    "    legend={\n",
    "        \"orientation\": \"v\",\n",
    "        \"title\": None,\n",
    "    },\n",
    ")\n",
    "fig.show()"
   ]
  },
  {
   "cell_type": "code",
   "execution_count": null,
   "id": "554d8617",
   "metadata": {
    "tags": []
   },
   "outputs": [],
   "source": [
    "def compute_many_scores_peq(freq, idx_cea2034, intervals, weigths, spl_h, spl_v):\n",
    "    a_freq = freq.to_numpy()\n",
    "    a_weigths = np.array(weigths)\n",
    "    spl = np.concatenate((spl_h.T.to_numpy(), spl_v.T.to_numpy()), axis=0)\n",
    "    spin = c_cea2034(spl, idx_cea2034, a_weigths)\n",
    "    on = spl_h[\"On Axis\"].to_numpy()\n",
    "\n",
    "    peq_freqs = np.logspace(1 + math.log10(8), 4 + math.log10(1.6), 100)\n",
    "    peq_qs = [0.1, 0.5, 1, 1.5, 2, 2.5, 3]\n",
    "    peq_gains = [-3, 3, -2, 2, -1, 1]\n",
    "\n",
    "    results_scores = []\n",
    "    results_peqs = []\n",
    "    for p_freq in peq_freqs:\n",
    "        for p_q in peq_qs:\n",
    "            for p_gain in peq_gains:\n",
    "                peq = [(1.0, Biquad(3, p_freq, 44100, p_q, p_gain))]\n",
    "                peq_spl = peq_build(freq, peq)\n",
    "                score_peq = c_score_peq_approx(a_freq, idx_cea2034, intervals, spin, on, peq_spl)\n",
    "                results_scores.append(score_peq.get(\"pref_score\", -1000))\n",
    "                results_peqs.append(peq)\n",
    "\n",
    "    pos = np.argmax(results_scores)\n",
    "    peq_print(results_peqs[pos])\n",
    "    return results_scores[pos]"
   ]
  },
  {
   "cell_type": "code",
   "execution_count": null,
   "id": "90303bd8",
   "metadata": {
    "tags": []
   },
   "outputs": [],
   "source": [
    "# 6s for 400*7*6 score computed\n",
    "%time compute_many_scores_peq(freq, idx_cea2034, intervals, weigths, spl_h, spl_v)"
   ]
  },
  {
   "cell_type": "code",
   "execution_count": null,
   "id": "ef380e08",
   "metadata": {
    "tags": []
   },
   "outputs": [],
   "source": [
    "a_freq = freq.to_numpy()\n",
    "a_weigths = np.array(weigths)\n",
    "on = spl_h[\"On Axis\"].to_numpy()\n",
    "lw = spin[0]\n",
    "pir = spin[-1]\n",
    "freq_A = bisect.bisect(a_freq, 100)\n",
    "freq_B = bisect.bisect(a_freq, 16000)\n",
    "target = lw[freq_A:freq_B] - np.linspace(0, 0.5, len(lw[freq_A:freq_B]))\n",
    "target_full = [lw[freq_A]] * freq_A + target.tolist()\n",
    "target_extended = target_full + [lw[freq_B]] * (len(freq) - freq_B)\n",
    "\n",
    "\n",
    "def x2peq(x):\n",
    "    l = len(x) // 4\n",
    "    peq = []\n",
    "    for i in range(l):\n",
    "        peq.append((1.0, Biquad(int(x[i * 4]), x[i * 4 + 1], 48000, x[i * 4 + 2], x[i * 4 + 3])))\n",
    "    return peq\n",
    "\n",
    "\n",
    "def x2spl(x):\n",
    "    return peq_build(freq, x2peq(x))\n",
    "\n",
    "\n",
    "def opt_peq_score(x) -> float:\n",
    "    peq_spl = x2spl(x)\n",
    "    score = c_score_peq_approx(a_freq, idx_cea2034, intervals, spin, on, peq_spl)\n",
    "    flatness = np.linalg.norm(target + peq_spl[freq_A:freq_B])\n",
    "    pref_score = score[\"pref_score\"]\n",
    "    score = -pref_score + flatness / 20\n",
    "    return score"
   ]
  },
  {
   "cell_type": "code",
   "execution_count": null,
   "id": "3956fa46",
   "metadata": {
    "tags": []
   },
   "outputs": [],
   "source": [
    "min_db = 0.25\n",
    "max_db = 3\n",
    "min_q = 0.2\n",
    "max_q = 3\n",
    "\n",
    "bounds0 = [\n",
    "    [0, 6],\n",
    "    [60, 16000],\n",
    "    [min_q, max_q],\n",
    "    [-max_db, max_db],\n",
    "]\n",
    "bounds1 = [\n",
    "    [3, 3],\n",
    "    [60, 16000],\n",
    "    [min_q, max_q],\n",
    "    [-max_db, max_db],\n",
    "]\n",
    "bounds2 = bounds1 + bounds0\n",
    "bounds3 = bounds2 + bounds1\n",
    "bounds4 = bounds3 + bounds1\n",
    "bounds5 = bounds4 + bounds1\n",
    "bounds6 = bounds5 + bounds1\n",
    "bounds7 = bounds6 + bounds1\n",
    "bounds8 = bounds7 + bounds1\n",
    "bounds9 = bounds8 + bounds1\n",
    "\n",
    "integrality1 = [True, True, False, False]\n",
    "integrality2 = integrality1 + integrality1\n",
    "integrality3 = integrality2 + integrality1\n",
    "integrality4 = integrality3 + integrality1\n",
    "integrality5 = integrality4 + integrality1\n",
    "integrality6 = integrality5 + integrality1\n",
    "integrality7 = integrality6 + integrality1\n",
    "integrality8 = integrality7 + integrality1\n",
    "integrality9 = integrality8 + integrality1\n",
    "\n",
    "# add constraints\n",
    "mat_constraint3 = np.asarray(\n",
    "    [\n",
    "        [0, 1, 0, 0, 0, -1, 0, 0, 0, 0, 0, 0],\n",
    "        [0, 0, 0, 0, 0, +1, 0, 0, 0, -1, 0, 0],\n",
    "    ]\n",
    ")\n",
    "constraint3 = opt.LinearConstraint(mat_constraint3, -np.inf, 0.0)\n",
    "\n",
    "mat_constraint5 = np.asarray(\n",
    "    [\n",
    "        [0, 1, 0, 0, 0, -1, 0, 0, 0, 0, 0, 0, 0, 0, 0, 0, 0, 0, 0, 0],\n",
    "        [0, 0, 0, 0, 0, +1, 0, 0, 0, -1, 0, 0, 0, 0, 0, 0, 0, 0, 0, 0],\n",
    "        [0, 0, 0, 0, 0, 0, 0, 0, 0, 1, 0, 0, 0, -1, 0, 0, 0, 0, 0, 0],\n",
    "        [0, 0, 0, 0, 0, 0, 0, 0, 0, 0, 0, 0, 0, 1, 0, 0, 0, -1, 0, 0],\n",
    "    ]\n",
    ")\n",
    "constraint5 = opt.LinearConstraint(mat_constraint5, -np.inf, 0.0)\n",
    "\n",
    "mat_constraint7 = np.asarray(\n",
    "    [\n",
    "        [0, 1, 0, 0, 0, -1, 0, 0, 0, 0, 0, 0, 0, 0, 0, 0, 0, 0, 0, 0, 0, 0, 0, 0, 0, 0, 0, 0],\n",
    "        [0, 0, 0, 0, 0, +1, 0, 0, 0, -1, 0, 0, 0, 0, 0, 0, 0, 0, 0, 0, 0, 0, 0, 0, 0, 0, 0, 0],\n",
    "        [0, 0, 0, 0, 0, 0, 0, 0, 0, 1, 0, 0, 0, -1, 0, 0, 0, 0, 0, 0, 0, 0, 0, 0, 0, 0, 0, 0],\n",
    "        [0, 0, 0, 0, 0, 0, 0, 0, 0, 0, 0, 0, 0, 1, 0, 0, 0, -1, 0, 0, 0, 0, 0, 0, 0, 0, 0, 0],\n",
    "        [0, 0, 0, 0, 0, 0, 0, 0, 0, 0, 0, 0, 0, 0, 0, 0, 0, 1, 0, 0, 0, -1, 0, 0, 0, 0, 0, 0],\n",
    "        [0, 0, 0, 0, 0, 0, 0, 0, 0, 0, 0, 0, 0, 0, 0, 0, 0, 0, 0, 0, 0, 1, 0, 0, 0, -1, 0, 0],\n",
    "    ]\n",
    ")\n",
    "constraint7 = opt.LinearConstraint(mat_constraint7, -np.inf, 0.0)\n",
    "\n",
    "mat_constraint9 = np.asarray(\n",
    "    [\n",
    "        [\n",
    "            0,\n",
    "            1,\n",
    "            0,\n",
    "            0,\n",
    "            0,\n",
    "            -1,\n",
    "            0,\n",
    "            0,\n",
    "            0,\n",
    "            0,\n",
    "            0,\n",
    "            0,\n",
    "            0,\n",
    "            0,\n",
    "            0,\n",
    "            0,\n",
    "            0,\n",
    "            0,\n",
    "            0,\n",
    "            0,\n",
    "            0,\n",
    "            0,\n",
    "            0,\n",
    "            0,\n",
    "            0,\n",
    "            0,\n",
    "            0,\n",
    "            0,\n",
    "            0,\n",
    "            0,\n",
    "            0,\n",
    "            0,\n",
    "            0,\n",
    "            0,\n",
    "            0,\n",
    "            0,\n",
    "        ],\n",
    "        [\n",
    "            0,\n",
    "            0,\n",
    "            0,\n",
    "            0,\n",
    "            0,\n",
    "            +1,\n",
    "            0,\n",
    "            0,\n",
    "            0,\n",
    "            -1,\n",
    "            0,\n",
    "            0,\n",
    "            0,\n",
    "            0,\n",
    "            0,\n",
    "            0,\n",
    "            0,\n",
    "            0,\n",
    "            0,\n",
    "            0,\n",
    "            0,\n",
    "            0,\n",
    "            0,\n",
    "            0,\n",
    "            0,\n",
    "            0,\n",
    "            0,\n",
    "            0,\n",
    "            0,\n",
    "            0,\n",
    "            0,\n",
    "            0,\n",
    "            0,\n",
    "            0,\n",
    "            0,\n",
    "            0,\n",
    "        ],\n",
    "        [\n",
    "            0,\n",
    "            0,\n",
    "            0,\n",
    "            0,\n",
    "            0,\n",
    "            0,\n",
    "            0,\n",
    "            0,\n",
    "            0,\n",
    "            1,\n",
    "            0,\n",
    "            0,\n",
    "            0,\n",
    "            -1,\n",
    "            0,\n",
    "            0,\n",
    "            0,\n",
    "            0,\n",
    "            0,\n",
    "            0,\n",
    "            0,\n",
    "            0,\n",
    "            0,\n",
    "            0,\n",
    "            0,\n",
    "            0,\n",
    "            0,\n",
    "            0,\n",
    "            0,\n",
    "            0,\n",
    "            0,\n",
    "            0,\n",
    "            0,\n",
    "            0,\n",
    "            0,\n",
    "            0,\n",
    "        ],\n",
    "        [\n",
    "            0,\n",
    "            0,\n",
    "            0,\n",
    "            0,\n",
    "            0,\n",
    "            0,\n",
    "            0,\n",
    "            0,\n",
    "            0,\n",
    "            0,\n",
    "            0,\n",
    "            0,\n",
    "            0,\n",
    "            1,\n",
    "            0,\n",
    "            0,\n",
    "            0,\n",
    "            -1,\n",
    "            0,\n",
    "            0,\n",
    "            0,\n",
    "            0,\n",
    "            0,\n",
    "            0,\n",
    "            0,\n",
    "            0,\n",
    "            0,\n",
    "            0,\n",
    "            0,\n",
    "            0,\n",
    "            0,\n",
    "            0,\n",
    "            0,\n",
    "            0,\n",
    "            0,\n",
    "            0,\n",
    "        ],\n",
    "        [\n",
    "            0,\n",
    "            0,\n",
    "            0,\n",
    "            0,\n",
    "            0,\n",
    "            0,\n",
    "            0,\n",
    "            0,\n",
    "            0,\n",
    "            0,\n",
    "            0,\n",
    "            0,\n",
    "            0,\n",
    "            0,\n",
    "            0,\n",
    "            0,\n",
    "            0,\n",
    "            1,\n",
    "            0,\n",
    "            0,\n",
    "            0,\n",
    "            -1,\n",
    "            0,\n",
    "            0,\n",
    "            0,\n",
    "            0,\n",
    "            0,\n",
    "            0,\n",
    "            0,\n",
    "            0,\n",
    "            0,\n",
    "            0,\n",
    "            0,\n",
    "            0,\n",
    "            0,\n",
    "            0,\n",
    "        ],\n",
    "        [\n",
    "            0,\n",
    "            0,\n",
    "            0,\n",
    "            0,\n",
    "            0,\n",
    "            0,\n",
    "            0,\n",
    "            0,\n",
    "            0,\n",
    "            0,\n",
    "            0,\n",
    "            0,\n",
    "            0,\n",
    "            0,\n",
    "            0,\n",
    "            0,\n",
    "            0,\n",
    "            0,\n",
    "            0,\n",
    "            0,\n",
    "            0,\n",
    "            1,\n",
    "            0,\n",
    "            0,\n",
    "            0,\n",
    "            -1,\n",
    "            0,\n",
    "            0,\n",
    "            0,\n",
    "            0,\n",
    "            0,\n",
    "            0,\n",
    "            0,\n",
    "            0,\n",
    "            0,\n",
    "            0,\n",
    "        ],\n",
    "        [\n",
    "            0,\n",
    "            0,\n",
    "            0,\n",
    "            0,\n",
    "            0,\n",
    "            0,\n",
    "            0,\n",
    "            0,\n",
    "            0,\n",
    "            0,\n",
    "            0,\n",
    "            0,\n",
    "            0,\n",
    "            0,\n",
    "            0,\n",
    "            0,\n",
    "            0,\n",
    "            0,\n",
    "            0,\n",
    "            0,\n",
    "            0,\n",
    "            0,\n",
    "            0,\n",
    "            0,\n",
    "            0,\n",
    "            1,\n",
    "            0,\n",
    "            0,\n",
    "            0,\n",
    "            -1,\n",
    "            0,\n",
    "            0,\n",
    "            0,\n",
    "            0,\n",
    "            0,\n",
    "            0,\n",
    "        ],\n",
    "        [\n",
    "            0,\n",
    "            0,\n",
    "            0,\n",
    "            0,\n",
    "            0,\n",
    "            0,\n",
    "            0,\n",
    "            0,\n",
    "            0,\n",
    "            0,\n",
    "            0,\n",
    "            0,\n",
    "            0,\n",
    "            0,\n",
    "            0,\n",
    "            0,\n",
    "            0,\n",
    "            0,\n",
    "            0,\n",
    "            0,\n",
    "            0,\n",
    "            0,\n",
    "            0,\n",
    "            0,\n",
    "            0,\n",
    "            0,\n",
    "            0,\n",
    "            0,\n",
    "            0,\n",
    "            1,\n",
    "            0,\n",
    "            0,\n",
    "            0,\n",
    "            -1,\n",
    "            0,\n",
    "            0,\n",
    "        ],\n",
    "    ]\n",
    ")\n",
    "constraint9 = opt.LinearConstraint(mat_constraint9, -np.inf, 0.0)\n",
    "\n",
    "init3 = [3, 200, 1, 1, 3, 1200, 1, 1, 3, 2200, 1, 1]\n",
    "\n",
    "init5 = [3, 200, 1, 1, 3, 1200, 1, 1, 3, 2200, 1, 1, 3, 3200, 1, 1, 3, 4200, 1, 1]\n",
    "\n",
    "init7 = [\n",
    "    3,\n",
    "    200,\n",
    "    1,\n",
    "    1,\n",
    "    3,\n",
    "    1200,\n",
    "    1,\n",
    "    1,\n",
    "    3,\n",
    "    2200,\n",
    "    1,\n",
    "    1,\n",
    "    3,\n",
    "    3200,\n",
    "    1,\n",
    "    1,\n",
    "    3,\n",
    "    4200,\n",
    "    1,\n",
    "    1,\n",
    "    3,\n",
    "    5200,\n",
    "    1,\n",
    "    1,\n",
    "    3,\n",
    "    6200,\n",
    "    1,\n",
    "    1,\n",
    "]\n",
    "\n",
    "init9 = [\n",
    "    3,\n",
    "    200,\n",
    "    1,\n",
    "    1,\n",
    "    3,\n",
    "    1200,\n",
    "    1,\n",
    "    1,\n",
    "    3,\n",
    "    2200,\n",
    "    1,\n",
    "    1,\n",
    "    3,\n",
    "    3200,\n",
    "    1,\n",
    "    1,\n",
    "    3,\n",
    "    4200,\n",
    "    1,\n",
    "    1,\n",
    "    3,\n",
    "    5200,\n",
    "    1,\n",
    "    1,\n",
    "    3,\n",
    "    6200,\n",
    "    1,\n",
    "    1,\n",
    "    3,\n",
    "    7200,\n",
    "    1,\n",
    "    1,\n",
    "    3,\n",
    "    8200,\n",
    "    1,\n",
    "    1,\n",
    "]\n",
    "\n",
    "opt_peq_score(init9)"
   ]
  },
  {
   "cell_type": "code",
   "execution_count": null,
   "id": "1c8166d6",
   "metadata": {
    "tags": []
   },
   "outputs": [],
   "source": [
    "def display(xk, convergence):\n",
    "    return\n",
    "    l = len(xk) // 4\n",
    "    print(f\"IIR    Hz.  Q.   dB [{convergence}]\")\n",
    "    for i in range(l):\n",
    "        t = int(xk[i * 4 + 0])\n",
    "        f = int(xk[i * 4 + 1])\n",
    "        q = xk[i * 4 + 2]\n",
    "        db = xk[i * 4 + 3]\n",
    "        print(f\"{t:3d} {f:5d} {q:1.1f} {db:+1.2f}\")\n",
    "\n",
    "\n",
    "res = []\n",
    "for bounds, integrality, constraints in (\n",
    "    (bounds3, integrality3, constraint3),\n",
    "    (bounds5, integrality5, constraint5),\n",
    "    (bounds7, integrality7, constraint7),\n",
    "    (bounds9, integrality9, constraint9),\n",
    "):\n",
    "    current = opt.differential_evolution(\n",
    "        opt_peq_score,\n",
    "        bounds,\n",
    "        maxiter=2500,\n",
    "        polish=False,\n",
    "        integrality=integrality,\n",
    "        callback=display,\n",
    "        constraints=constraints,\n",
    "        disp=False,\n",
    "        # x0=init3,\n",
    "        # mutation=[1,1.4],\n",
    "        # recombination=0.9,\n",
    "        # atol=0.1,\n",
    "        tol=0.01,\n",
    "    )\n",
    "    print(current)\n",
    "    res.append(current)"
   ]
  },
  {
   "cell_type": "code",
   "execution_count": null,
   "id": "fb69d9a8",
   "metadata": {
    "tags": []
   },
   "outputs": [],
   "source": [
    "df = pd.DataFrame(\n",
    "    {\n",
    "        \"Freq\": freq,\n",
    "        \"Target\": np.negative(target_extended),\n",
    "    }\n",
    ")\n",
    "\n",
    "scores = \"\"\n",
    "for current in res:\n",
    "    peq_spl = x2spl(current.x)\n",
    "    count = len(current.x) // 4\n",
    "    df[f\"PEQ #{count}\"] = peq_spl\n",
    "    spin_peq, score_peq = c_score_peq(\n",
    "        freq.values,\n",
    "        idx_cea2034,\n",
    "        intervals,\n",
    "        np.array(weigths),\n",
    "        spl_h.T.to_numpy(),\n",
    "        spl_v.T.to_numpy(),\n",
    "        peq_spl,\n",
    "    )\n",
    "    scores = \"{} #{} {:1.2f} \".format(scores, count, score_peq[\"pref_score\"])\n",
    "\n",
    "fig = df.plot.line(x=\"Freq\", y=[\"PEQ #3\", \"PEQ #5\", \"PEQ #7\", \"PEQ #9\", \"Target\"])\n",
    "fig.update_xaxes(type=\"log\", title={\"text\": \"Freq (Hz)\"})\n",
    "fig.update_yaxes(range=[-5.5, 5.5], title={\"text\": \"SPL\"})\n",
    "fig.update_layout(\n",
    "    title=\"Optimal PEQ score {} for {}\".format(scores, speaker_name),\n",
    "    legend={\n",
    "        \"orientation\": \"v\",\n",
    "        \"title\": \"Target v.s. EQ\",\n",
    "    },\n",
    ")\n",
    "fig.show()"
   ]
  },
  {
   "cell_type": "code",
   "execution_count": null,
   "id": "22409dae",
   "metadata": {
    "tags": []
   },
   "outputs": [],
   "source": [
    "peq_spl = x2spl(res[2].x)\n",
    "spin_peq, score_peq = c_score_peq(\n",
    "    freq.values,\n",
    "    idx_cea2034,\n",
    "    intervals,\n",
    "    np.array(weigths),\n",
    "    spl_h.T.to_numpy(),\n",
    "    spl_v.T.to_numpy(),\n",
    "    peq_spl,\n",
    ")\n",
    "\n",
    "spin_peq, score_peq = c_score_peq(\n",
    "    freq.values,\n",
    "    idx_cea2034,\n",
    "    intervals,\n",
    "    np.array(weigths),\n",
    "    spl_h.T.to_numpy(),\n",
    "    spl_v.T.to_numpy(),\n",
    "    peq_spl,\n",
    ")\n",
    "print(score_peq)"
   ]
  },
  {
   "cell_type": "code",
   "execution_count": null,
   "id": "2346c651",
   "metadata": {
    "tags": []
   },
   "outputs": [],
   "source": [
    "fig = pd.DataFrame(\n",
    "    {\n",
    "        \"Freq\": freq,\n",
    "        \"on\": spl_h[\"On Axis\"] + peq_spl,\n",
    "        \"lw\": spin_peq[0],\n",
    "        \"er\": spin_peq[1],\n",
    "        \"sp\": spin_peq[-2],\n",
    "        \"pir\": spin_peq[-1],\n",
    "        \"erdi\": spin_peq[0] - spin_peq[1] - 50,\n",
    "        \"spdi\": spin_peq[0] - spin_peq[-2] - 50,\n",
    "    }\n",
    ").plot.line(x=\"Freq\", y=[\"on\", \"lw\", \"er\", \"sp\", \"pir\", \"erdi\", \"spdi\"])\n",
    "fig.update_xaxes(type=\"log\", title={\"text\": \"Freq (Hz)\"})\n",
    "fig.update_yaxes(title={\"text\": \"SPL\"})\n",
    "fig.update_layout(\n",
    "    title=\"Spinorama: score {:1.2f} for {}\".format(score_peq[\"pref_score\"], speaker_name),\n",
    "    legend={\n",
    "        \"orientation\": \"v\",\n",
    "        \"title\": None,\n",
    "    },\n",
    "    height=500,\n",
    ")\n",
    "fig.show()"
   ]
  },
  {
   "cell_type": "code",
   "execution_count": null,
   "id": "c4bd6c04",
   "metadata": {
    "tags": []
   },
   "outputs": [],
   "source": [
    "apo = peq_format_apo(\"experiments\", x2peq(res[2].x))\n",
    "for iir in apo.split(\"\\n\"):\n",
    "    print(iir)"
   ]
  },
  {
   "cell_type": "code",
   "execution_count": null,
   "id": "e85b2474-2df2-406e-9fc9-91a951d152a8",
   "metadata": {},
   "outputs": [],
   "source": []
  },
  {
   "cell_type": "code",
   "execution_count": null,
   "id": "13584e7d-5afd-410d-878c-4e2999770b26",
   "metadata": {},
   "outputs": [],
   "source": []
  },
  {
   "cell_type": "code",
   "execution_count": null,
   "id": "f77f1c79-c62e-4a4f-9412-64c6cbffdee1",
   "metadata": {},
   "outputs": [],
   "source": []
  },
  {
   "cell_type": "code",
   "execution_count": 36,
   "id": "8e08860c-c775-4b9f-a25b-725bf886c35e",
   "metadata": {},
   "outputs": [
    {
     "name": "stdout",
     "output_type": "stream",
     "text": [
      "2.9880965621626823\n"
     ]
    },
    {
     "data": {
      "application/vnd.plotly.v1+json": {
       "config": {
        "plotlyServerURL": "https://plot.ly"
       },
       "data": [
        {
         "hovertemplate": "variable=hp<br>freq=%{x}<br>value=%{y}<extra></extra>",
         "legendgroup": "hp",
         "line": {
          "color": "#636efa",
          "dash": "solid"
         },
         "marker": {
          "symbol": "circle"
         },
         "mode": "lines",
         "name": "hp",
         "orientation": "v",
         "showlegend": true,
         "type": "scatter",
         "x": [
          20.000000000000004,
          20.952315055793296,
          21.949975309861127,
          22.995139907954716,
          24.09007080517565,
          25.23713766132041,
          26.43882296932058,
          27.697727427877467,
          29.016575569918793,
          30.39822165905868,
          31.84565586682185,
          33.36201074400119,
          34.95056800015368,
          36.61476560590736,
          38.35820523344978,
          40.184660051300945,
          42.09808289024042,
          44.10261479806092,
          46.202594001663215,
          48.40256529588765,
          50.70728987940223,
          53.12175565893374,
          55.65118804414249,
          58.30106125650355,
          61.07711017666832,
          63.9853427559477,
          67.03205301877686,
          70.22383468430263,
          73.5675954365727,
          77.0705718742106,
          80.74034517193108,
          84.58485748778999,
          88.61242915167766,
          92.8317766722556,
          97.25203160130708,
          101.88276029632762,
          106.73398462412626,
          111.81620365024447,
          117.14041636113336,
          122.71814546826353,
          128.5614623456864,
          134.68301315501645,
          141.09604621437293,
          147.81444067051552,
          154.85273653622542,
          162.22616615793746,
          169.95068718172897,
          178.0430170890079,
          186.520669376644,
          195.40199145984516,
          204.7062043798054,
          214.45344440206466,
          224.66480659560557,
          235.36239048699986,
          246.5693478884132,
          258.30993300297683,
          270.60955491596155,
          283.494832585361,
          296.993652450893,
          311.1352287860945,
          325.9501669241287,
          341.4705294941385,
          357.7299058114871,
          374.76348457207706,
          392.60813000805456,
          411.30246166973035,
          430.88693800637697,
          451.40394392678434,
          472.8978825290815,
          495.41527119834234,
          519.0048422799475,
          543.7176485465881,
          569.6071736871604,
          596.7294480566682,
          625.1431699376471,
          654.9098325755464,
          686.0938572629839,
          718.7627327609252,
          752.9871613584944,
          788.8412118875314,
          826.4024800230678,
          865.7522562166124,
          906.9757016257165,
          950.1620324205597,
          995.4047128664229,
          1042.801657599937,
          1092.4554435368686,
          1144.473531870044,
          1198.968500637882,
          1256.0582883668521,
          1315.8664493151366,
          1378.5224208699392,
          1444.1618036770944,
          1512.9266551092583,
          1584.9657967078358,
          1660.4351362639507,
          1739.498005235567,
          1822.3255122309795,
          1909.0969133236697,
          2000.0000000000002
         ],
         "xaxis": "x",
         "y": [
          2.9880965621626823,
          2.9856743426529864,
          2.982762181471359,
          2.9792622982975243,
          2.9750579864835425,
          2.970010211420206,
          2.963953714742665,
          2.956692607025107,
          2.9479954607623333,
          2.9375899618189756,
          2.9251572474721166,
          2.91032616017259,
          2.8926677863001053,
          2.8716908358643405,
          2.846838656440058,
          2.8174889592604213,
          2.7829576500847515,
          2.742508462532866,
          2.6953703153209445,
          2.6407643458194068,
          2.5779422596553845,
          2.5062368063303446,
          2.4251236923213177,
          2.3342920229493354,
          2.2337175702382566,
          2.1237302385754457,
          2.0050648056300098,
          1.878883319887439,
          1.7467593174304277,
          1.610618652823332,
          1.4726387185880083,
          1.3351156820747794,
          1.200316002758754,
          1.0703319169109582,
          0.9469597030235808,
          0.8316146511348974,
          0.7252892794000804,
          0.6285536040589367,
          0.5415900932786677,
          0.4642524259734268,
          0.3961364584022919,
          0.3366532484806986,
          0.28509664075940666,
          0.2407008626477944,
          0.20268618435550295,
          0.1702926337557378,
          0.14280297732693117,
          0.11955678276118262,
          0.09995753537747618,
          0.08347465719582459,
          0.06964201058458108,
          0.058054152917364016,
          0.04836130258292951,
          0.040263709645284626,
          0.03350590729095697,
          0.02787115268081549,
          0.023176242128723875,
          0.01926679777246774,
          0.016013063119526272,
          0.013306205972651749,
          0.011055103452239798,
          0.009183570588997785,
          0.0076279878436878255,
          0.006335281429942328,
          0.005261211705666252,
          0.004368927939061094,
          0.0036277516283273574,
          0.0030121547271069107,
          0.0025009032685634337,
          0.002076340794343101,
          0.0017237895768685751,
          0.0014310508304289347,
          0.0011879879310922378,
          0.0009861791236964947,
          0.0008186283132877361,
          0.000679524352175712,
          0.0005640407773257443,
          0.00046816926035659495,
          0.0003885811360908205,
          0.0003225123042806253,
          0.00026766757883794337,
          0.00022214121213707884,
          0.0001843508684187657,
          0.00015298277684722632,
          0.00012694617570886587,
          0.00010533547690517599,
          8.739884453904949e-05,
          7.25121016830458e-05,
          6.015706288192822e-05,
          4.990354241208159e-05,
          4.139441526687029e-05,
          3.433321322412182e-05,
          2.8473826041730463e-05,
          2.3611950732318577e-05,
          1.957799228100696e-05,
          1.6231169549105283e-05,
          1.3454621835840892e-05,
          1.1151346244451869e-05,
          9.240824873787927e-06,
          7.656224681015085e-06
         ],
         "yaxis": "y"
        }
       ],
       "layout": {
        "autosize": true,
        "legend": {
         "orientation": "v",
         "title": {
          "text": "q=1.3"
         },
         "tracegroupgap": 0
        },
        "margin": {
         "t": 60
        },
        "template": {
         "data": {
          "bar": [
           {
            "error_x": {
             "color": "#2a3f5f"
            },
            "error_y": {
             "color": "#2a3f5f"
            },
            "marker": {
             "line": {
              "color": "#E5ECF6",
              "width": 0.5
             },
             "pattern": {
              "fillmode": "overlay",
              "size": 10,
              "solidity": 0.2
             }
            },
            "type": "bar"
           }
          ],
          "barpolar": [
           {
            "marker": {
             "line": {
              "color": "#E5ECF6",
              "width": 0.5
             },
             "pattern": {
              "fillmode": "overlay",
              "size": 10,
              "solidity": 0.2
             }
            },
            "type": "barpolar"
           }
          ],
          "carpet": [
           {
            "aaxis": {
             "endlinecolor": "#2a3f5f",
             "gridcolor": "white",
             "linecolor": "white",
             "minorgridcolor": "white",
             "startlinecolor": "#2a3f5f"
            },
            "baxis": {
             "endlinecolor": "#2a3f5f",
             "gridcolor": "white",
             "linecolor": "white",
             "minorgridcolor": "white",
             "startlinecolor": "#2a3f5f"
            },
            "type": "carpet"
           }
          ],
          "choropleth": [
           {
            "colorbar": {
             "outlinewidth": 0,
             "ticks": ""
            },
            "type": "choropleth"
           }
          ],
          "contour": [
           {
            "colorbar": {
             "outlinewidth": 0,
             "ticks": ""
            },
            "colorscale": [
             [
              0,
              "#0d0887"
             ],
             [
              0.1111111111111111,
              "#46039f"
             ],
             [
              0.2222222222222222,
              "#7201a8"
             ],
             [
              0.3333333333333333,
              "#9c179e"
             ],
             [
              0.4444444444444444,
              "#bd3786"
             ],
             [
              0.5555555555555556,
              "#d8576b"
             ],
             [
              0.6666666666666666,
              "#ed7953"
             ],
             [
              0.7777777777777778,
              "#fb9f3a"
             ],
             [
              0.8888888888888888,
              "#fdca26"
             ],
             [
              1,
              "#f0f921"
             ]
            ],
            "type": "contour"
           }
          ],
          "contourcarpet": [
           {
            "colorbar": {
             "outlinewidth": 0,
             "ticks": ""
            },
            "type": "contourcarpet"
           }
          ],
          "heatmap": [
           {
            "colorbar": {
             "outlinewidth": 0,
             "ticks": ""
            },
            "colorscale": [
             [
              0,
              "#0d0887"
             ],
             [
              0.1111111111111111,
              "#46039f"
             ],
             [
              0.2222222222222222,
              "#7201a8"
             ],
             [
              0.3333333333333333,
              "#9c179e"
             ],
             [
              0.4444444444444444,
              "#bd3786"
             ],
             [
              0.5555555555555556,
              "#d8576b"
             ],
             [
              0.6666666666666666,
              "#ed7953"
             ],
             [
              0.7777777777777778,
              "#fb9f3a"
             ],
             [
              0.8888888888888888,
              "#fdca26"
             ],
             [
              1,
              "#f0f921"
             ]
            ],
            "type": "heatmap"
           }
          ],
          "heatmapgl": [
           {
            "colorbar": {
             "outlinewidth": 0,
             "ticks": ""
            },
            "colorscale": [
             [
              0,
              "#0d0887"
             ],
             [
              0.1111111111111111,
              "#46039f"
             ],
             [
              0.2222222222222222,
              "#7201a8"
             ],
             [
              0.3333333333333333,
              "#9c179e"
             ],
             [
              0.4444444444444444,
              "#bd3786"
             ],
             [
              0.5555555555555556,
              "#d8576b"
             ],
             [
              0.6666666666666666,
              "#ed7953"
             ],
             [
              0.7777777777777778,
              "#fb9f3a"
             ],
             [
              0.8888888888888888,
              "#fdca26"
             ],
             [
              1,
              "#f0f921"
             ]
            ],
            "type": "heatmapgl"
           }
          ],
          "histogram": [
           {
            "marker": {
             "pattern": {
              "fillmode": "overlay",
              "size": 10,
              "solidity": 0.2
             }
            },
            "type": "histogram"
           }
          ],
          "histogram2d": [
           {
            "colorbar": {
             "outlinewidth": 0,
             "ticks": ""
            },
            "colorscale": [
             [
              0,
              "#0d0887"
             ],
             [
              0.1111111111111111,
              "#46039f"
             ],
             [
              0.2222222222222222,
              "#7201a8"
             ],
             [
              0.3333333333333333,
              "#9c179e"
             ],
             [
              0.4444444444444444,
              "#bd3786"
             ],
             [
              0.5555555555555556,
              "#d8576b"
             ],
             [
              0.6666666666666666,
              "#ed7953"
             ],
             [
              0.7777777777777778,
              "#fb9f3a"
             ],
             [
              0.8888888888888888,
              "#fdca26"
             ],
             [
              1,
              "#f0f921"
             ]
            ],
            "type": "histogram2d"
           }
          ],
          "histogram2dcontour": [
           {
            "colorbar": {
             "outlinewidth": 0,
             "ticks": ""
            },
            "colorscale": [
             [
              0,
              "#0d0887"
             ],
             [
              0.1111111111111111,
              "#46039f"
             ],
             [
              0.2222222222222222,
              "#7201a8"
             ],
             [
              0.3333333333333333,
              "#9c179e"
             ],
             [
              0.4444444444444444,
              "#bd3786"
             ],
             [
              0.5555555555555556,
              "#d8576b"
             ],
             [
              0.6666666666666666,
              "#ed7953"
             ],
             [
              0.7777777777777778,
              "#fb9f3a"
             ],
             [
              0.8888888888888888,
              "#fdca26"
             ],
             [
              1,
              "#f0f921"
             ]
            ],
            "type": "histogram2dcontour"
           }
          ],
          "mesh3d": [
           {
            "colorbar": {
             "outlinewidth": 0,
             "ticks": ""
            },
            "type": "mesh3d"
           }
          ],
          "parcoords": [
           {
            "line": {
             "colorbar": {
              "outlinewidth": 0,
              "ticks": ""
             }
            },
            "type": "parcoords"
           }
          ],
          "pie": [
           {
            "automargin": true,
            "type": "pie"
           }
          ],
          "scatter": [
           {
            "fillpattern": {
             "fillmode": "overlay",
             "size": 10,
             "solidity": 0.2
            },
            "type": "scatter"
           }
          ],
          "scatter3d": [
           {
            "line": {
             "colorbar": {
              "outlinewidth": 0,
              "ticks": ""
             }
            },
            "marker": {
             "colorbar": {
              "outlinewidth": 0,
              "ticks": ""
             }
            },
            "type": "scatter3d"
           }
          ],
          "scattercarpet": [
           {
            "marker": {
             "colorbar": {
              "outlinewidth": 0,
              "ticks": ""
             }
            },
            "type": "scattercarpet"
           }
          ],
          "scattergeo": [
           {
            "marker": {
             "colorbar": {
              "outlinewidth": 0,
              "ticks": ""
             }
            },
            "type": "scattergeo"
           }
          ],
          "scattergl": [
           {
            "marker": {
             "colorbar": {
              "outlinewidth": 0,
              "ticks": ""
             }
            },
            "type": "scattergl"
           }
          ],
          "scattermapbox": [
           {
            "marker": {
             "colorbar": {
              "outlinewidth": 0,
              "ticks": ""
             }
            },
            "type": "scattermapbox"
           }
          ],
          "scatterpolar": [
           {
            "marker": {
             "colorbar": {
              "outlinewidth": 0,
              "ticks": ""
             }
            },
            "type": "scatterpolar"
           }
          ],
          "scatterpolargl": [
           {
            "marker": {
             "colorbar": {
              "outlinewidth": 0,
              "ticks": ""
             }
            },
            "type": "scatterpolargl"
           }
          ],
          "scatterternary": [
           {
            "marker": {
             "colorbar": {
              "outlinewidth": 0,
              "ticks": ""
             }
            },
            "type": "scatterternary"
           }
          ],
          "surface": [
           {
            "colorbar": {
             "outlinewidth": 0,
             "ticks": ""
            },
            "colorscale": [
             [
              0,
              "#0d0887"
             ],
             [
              0.1111111111111111,
              "#46039f"
             ],
             [
              0.2222222222222222,
              "#7201a8"
             ],
             [
              0.3333333333333333,
              "#9c179e"
             ],
             [
              0.4444444444444444,
              "#bd3786"
             ],
             [
              0.5555555555555556,
              "#d8576b"
             ],
             [
              0.6666666666666666,
              "#ed7953"
             ],
             [
              0.7777777777777778,
              "#fb9f3a"
             ],
             [
              0.8888888888888888,
              "#fdca26"
             ],
             [
              1,
              "#f0f921"
             ]
            ],
            "type": "surface"
           }
          ],
          "table": [
           {
            "cells": {
             "fill": {
              "color": "#EBF0F8"
             },
             "line": {
              "color": "white"
             }
            },
            "header": {
             "fill": {
              "color": "#C8D4E3"
             },
             "line": {
              "color": "white"
             }
            },
            "type": "table"
           }
          ]
         },
         "layout": {
          "annotationdefaults": {
           "arrowcolor": "#2a3f5f",
           "arrowhead": 0,
           "arrowwidth": 1
          },
          "autotypenumbers": "strict",
          "coloraxis": {
           "colorbar": {
            "outlinewidth": 0,
            "ticks": ""
           }
          },
          "colorscale": {
           "diverging": [
            [
             0,
             "#8e0152"
            ],
            [
             0.1,
             "#c51b7d"
            ],
            [
             0.2,
             "#de77ae"
            ],
            [
             0.3,
             "#f1b6da"
            ],
            [
             0.4,
             "#fde0ef"
            ],
            [
             0.5,
             "#f7f7f7"
            ],
            [
             0.6,
             "#e6f5d0"
            ],
            [
             0.7,
             "#b8e186"
            ],
            [
             0.8,
             "#7fbc41"
            ],
            [
             0.9,
             "#4d9221"
            ],
            [
             1,
             "#276419"
            ]
           ],
           "sequential": [
            [
             0,
             "#0d0887"
            ],
            [
             0.1111111111111111,
             "#46039f"
            ],
            [
             0.2222222222222222,
             "#7201a8"
            ],
            [
             0.3333333333333333,
             "#9c179e"
            ],
            [
             0.4444444444444444,
             "#bd3786"
            ],
            [
             0.5555555555555556,
             "#d8576b"
            ],
            [
             0.6666666666666666,
             "#ed7953"
            ],
            [
             0.7777777777777778,
             "#fb9f3a"
            ],
            [
             0.8888888888888888,
             "#fdca26"
            ],
            [
             1,
             "#f0f921"
            ]
           ],
           "sequentialminus": [
            [
             0,
             "#0d0887"
            ],
            [
             0.1111111111111111,
             "#46039f"
            ],
            [
             0.2222222222222222,
             "#7201a8"
            ],
            [
             0.3333333333333333,
             "#9c179e"
            ],
            [
             0.4444444444444444,
             "#bd3786"
            ],
            [
             0.5555555555555556,
             "#d8576b"
            ],
            [
             0.6666666666666666,
             "#ed7953"
            ],
            [
             0.7777777777777778,
             "#fb9f3a"
            ],
            [
             0.8888888888888888,
             "#fdca26"
            ],
            [
             1,
             "#f0f921"
            ]
           ]
          },
          "colorway": [
           "#636efa",
           "#EF553B",
           "#00cc96",
           "#ab63fa",
           "#FFA15A",
           "#19d3f3",
           "#FF6692",
           "#B6E880",
           "#FF97FF",
           "#FECB52"
          ],
          "font": {
           "color": "#2a3f5f"
          },
          "geo": {
           "bgcolor": "white",
           "lakecolor": "white",
           "landcolor": "#E5ECF6",
           "showlakes": true,
           "showland": true,
           "subunitcolor": "white"
          },
          "hoverlabel": {
           "align": "left"
          },
          "hovermode": "closest",
          "mapbox": {
           "style": "light"
          },
          "paper_bgcolor": "white",
          "plot_bgcolor": "#E5ECF6",
          "polar": {
           "angularaxis": {
            "gridcolor": "white",
            "linecolor": "white",
            "ticks": ""
           },
           "bgcolor": "#E5ECF6",
           "radialaxis": {
            "gridcolor": "white",
            "linecolor": "white",
            "ticks": ""
           }
          },
          "scene": {
           "xaxis": {
            "backgroundcolor": "#E5ECF6",
            "gridcolor": "white",
            "gridwidth": 2,
            "linecolor": "white",
            "showbackground": true,
            "ticks": "",
            "zerolinecolor": "white"
           },
           "yaxis": {
            "backgroundcolor": "#E5ECF6",
            "gridcolor": "white",
            "gridwidth": 2,
            "linecolor": "white",
            "showbackground": true,
            "ticks": "",
            "zerolinecolor": "white"
           },
           "zaxis": {
            "backgroundcolor": "#E5ECF6",
            "gridcolor": "white",
            "gridwidth": 2,
            "linecolor": "white",
            "showbackground": true,
            "ticks": "",
            "zerolinecolor": "white"
           }
          },
          "shapedefaults": {
           "line": {
            "color": "#2a3f5f"
           }
          },
          "ternary": {
           "aaxis": {
            "gridcolor": "white",
            "linecolor": "white",
            "ticks": ""
           },
           "baxis": {
            "gridcolor": "white",
            "linecolor": "white",
            "ticks": ""
           },
           "bgcolor": "#E5ECF6",
           "caxis": {
            "gridcolor": "white",
            "linecolor": "white",
            "ticks": ""
           }
          },
          "title": {
           "x": 0.05
          },
          "xaxis": {
           "automargin": true,
           "gridcolor": "white",
           "linecolor": "white",
           "ticks": "",
           "title": {
            "standoff": 15
           },
           "zerolinecolor": "white",
           "zerolinewidth": 2
          },
          "yaxis": {
           "automargin": true,
           "gridcolor": "white",
           "linecolor": "white",
           "ticks": "",
           "title": {
            "standoff": 15
           },
           "zerolinecolor": "white",
           "zerolinewidth": 2
          }
         }
        },
        "xaxis": {
         "anchor": "y",
         "autorange": true,
         "domain": [
          0,
          1
         ],
         "range": [
          1.3010299956639813,
          3.301029995663981
         ],
         "title": {
          "text": "Freq (Hz)"
         },
         "type": "log"
        },
        "yaxis": {
         "anchor": "x",
         "autorange": true,
         "domain": [
          0,
          1
         ],
         "range": [
          -0.16599728299409683,
          3.15410150138146
         ],
         "title": {
          "text": "SPL"
         },
         "type": "linear"
        }
       }
      },
      "image/png": "[encoded data removed]",
      "text/html": [
       "<div>                            <div id=\"b5b1fe32-bc83-4363-a89d-cf25e31fb4db\" class=\"plotly-graph-div\" style=\"height:500px; width:100%;\"></div>            <script type=\"text/javascript\">                require([\"plotly\"], function(Plotly) {                    window.PLOTLYENV=window.PLOTLYENV || {};                                    if (document.getElementById(\"b5b1fe32-bc83-4363-a89d-cf25e31fb4db\")) {                    Plotly.newPlot(                        \"b5b1fe32-bc83-4363-a89d-cf25e31fb4db\",                        [{\"hovertemplate\":\"variable=hp<br>freq=%{x}<br>value=%{y}<extra></extra>\",\"legendgroup\":\"hp\",\"line\":{\"color\":\"#636efa\",\"dash\":\"solid\"},\"marker\":{\"symbol\":\"circle\"},\"mode\":\"lines\",\"name\":\"hp\",\"orientation\":\"v\",\"showlegend\":true,\"x\":[20.000000000000004,20.952315055793296,21.949975309861127,22.995139907954716,24.09007080517565,25.23713766132041,26.43882296932058,27.697727427877467,29.016575569918793,30.39822165905868,31.84565586682185,33.36201074400119,34.95056800015368,36.61476560590736,38.35820523344978,40.184660051300945,42.09808289024042,44.10261479806092,46.202594001663215,48.40256529588765,50.70728987940223,53.12175565893374,55.65118804414249,58.30106125650355,61.07711017666832,63.9853427559477,67.03205301877686,70.22383468430263,73.5675954365727,77.0705718742106,80.74034517193108,84.58485748778999,88.61242915167766,92.8317766722556,97.25203160130708,101.88276029632762,106.73398462412626,111.81620365024447,117.14041636113336,122.71814546826353,128.5614623456864,134.68301315501645,141.09604621437293,147.81444067051552,154.85273653622542,162.22616615793746,169.95068718172897,178.0430170890079,186.520669376644,195.40199145984516,204.7062043798054,214.45344440206466,224.66480659560557,235.36239048699986,246.5693478884132,258.30993300297683,270.60955491596155,283.494832585361,296.993652450893,311.1352287860945,325.9501669241287,341.4705294941385,357.7299058114871,374.76348457207706,392.60813000805456,411.30246166973035,430.88693800637697,451.40394392678434,472.8978825290815,495.41527119834234,519.0048422799475,543.7176485465881,569.6071736871604,596.7294480566682,625.1431699376471,654.9098325755464,686.0938572629839,718.7627327609252,752.9871613584944,788.8412118875314,826.4024800230678,865.7522562166124,906.9757016257165,950.1620324205597,995.4047128664229,1042.801657599937,1092.4554435368686,1144.473531870044,1198.968500637882,1256.0582883668521,1315.8664493151366,1378.5224208699392,1444.1618036770944,1512.9266551092583,1584.9657967078358,1660.4351362639507,1739.498005235567,1822.3255122309795,1909.0969133236697,2000.0000000000002],\"xaxis\":\"x\",\"y\":[2.9880965621626823,2.9856743426529864,2.982762181471359,2.9792622982975243,2.9750579864835425,2.970010211420206,2.963953714742665,2.956692607025107,2.9479954607623333,2.9375899618189756,2.9251572474721166,2.91032616017259,2.8926677863001053,2.8716908358643405,2.846838656440058,2.8174889592604213,2.7829576500847515,2.742508462532866,2.6953703153209445,2.6407643458194068,2.5779422596553845,2.5062368063303446,2.4251236923213177,2.3342920229493354,2.2337175702382566,2.1237302385754457,2.0050648056300098,1.878883319887439,1.7467593174304277,1.610618652823332,1.4726387185880083,1.3351156820747794,1.200316002758754,1.0703319169109582,0.9469597030235808,0.8316146511348974,0.7252892794000804,0.6285536040589367,0.5415900932786677,0.4642524259734268,0.3961364584022919,0.3366532484806986,0.28509664075940666,0.2407008626477944,0.20268618435550295,0.1702926337557378,0.14280297732693117,0.11955678276118262,0.09995753537747618,0.08347465719582459,0.06964201058458108,0.058054152917364016,0.04836130258292951,0.040263709645284626,0.03350590729095697,0.02787115268081549,0.023176242128723875,0.01926679777246774,0.016013063119526272,0.013306205972651749,0.011055103452239798,0.009183570588997785,0.0076279878436878255,0.006335281429942328,0.005261211705666252,0.004368927939061094,0.0036277516283273574,0.0030121547271069107,0.0025009032685634337,0.002076340794343101,0.0017237895768685751,0.0014310508304289347,0.0011879879310922378,0.0009861791236964947,0.0008186283132877361,0.000679524352175712,0.0005640407773257443,0.00046816926035659495,0.0003885811360908205,0.0003225123042806253,0.00026766757883794337,0.00022214121213707884,0.0001843508684187657,0.00015298277684722632,0.00012694617570886587,0.00010533547690517599,8.739884453904949e-05,7.25121016830458e-05,6.015706288192822e-05,4.990354241208159e-05,4.139441526687029e-05,3.433321322412182e-05,2.8473826041730463e-05,2.3611950732318577e-05,1.957799228100696e-05,1.6231169549105283e-05,1.3454621835840892e-05,1.1151346244451869e-05,9.240824873787927e-06,7.656224681015085e-06],\"yaxis\":\"y\",\"type\":\"scatter\"}],                        {\"template\":{\"data\":{\"histogram2dcontour\":[{\"type\":\"histogram2dcontour\",\"colorbar\":{\"outlinewidth\":0,\"ticks\":\"\"},\"colorscale\":[[0.0,\"#0d0887\"],[0.1111111111111111,\"#46039f\"],[0.2222222222222222,\"#7201a8\"],[0.3333333333333333,\"#9c179e\"],[0.4444444444444444,\"#bd3786\"],[0.5555555555555556,\"#d8576b\"],[0.6666666666666666,\"#ed7953\"],[0.7777777777777778,\"#fb9f3a\"],[0.8888888888888888,\"#fdca26\"],[1.0,\"#f0f921\"]]}],\"choropleth\":[{\"type\":\"choropleth\",\"colorbar\":{\"outlinewidth\":0,\"ticks\":\"\"}}],\"histogram2d\":[{\"type\":\"histogram2d\",\"colorbar\":{\"outlinewidth\":0,\"ticks\":\"\"},\"colorscale\":[[0.0,\"#0d0887\"],[0.1111111111111111,\"#46039f\"],[0.2222222222222222,\"#7201a8\"],[0.3333333333333333,\"#9c179e\"],[0.4444444444444444,\"#bd3786\"],[0.5555555555555556,\"#d8576b\"],[0.6666666666666666,\"#ed7953\"],[0.7777777777777778,\"#fb9f3a\"],[0.8888888888888888,\"#fdca26\"],[1.0,\"#f0f921\"]]}],\"heatmap\":[{\"type\":\"heatmap\",\"colorbar\":{\"outlinewidth\":0,\"ticks\":\"\"},\"colorscale\":[[0.0,\"#0d0887\"],[0.1111111111111111,\"#46039f\"],[0.2222222222222222,\"#7201a8\"],[0.3333333333333333,\"#9c179e\"],[0.4444444444444444,\"#bd3786\"],[0.5555555555555556,\"#d8576b\"],[0.6666666666666666,\"#ed7953\"],[0.7777777777777778,\"#fb9f3a\"],[0.8888888888888888,\"#fdca26\"],[1.0,\"#f0f921\"]]}],\"heatmapgl\":[{\"type\":\"heatmapgl\",\"colorbar\":{\"outlinewidth\":0,\"ticks\":\"\"},\"colorscale\":[[0.0,\"#0d0887\"],[0.1111111111111111,\"#46039f\"],[0.2222222222222222,\"#7201a8\"],[0.3333333333333333,\"#9c179e\"],[0.4444444444444444,\"#bd3786\"],[0.5555555555555556,\"#d8576b\"],[0.6666666666666666,\"#ed7953\"],[0.7777777777777778,\"#fb9f3a\"],[0.8888888888888888,\"#fdca26\"],[1.0,\"#f0f921\"]]}],\"contourcarpet\":[{\"type\":\"contourcarpet\",\"colorbar\":{\"outlinewidth\":0,\"ticks\":\"\"}}],\"contour\":[{\"type\":\"contour\",\"colorbar\":{\"outlinewidth\":0,\"ticks\":\"\"},\"colorscale\":[[0.0,\"#0d0887\"],[0.1111111111111111,\"#46039f\"],[0.2222222222222222,\"#7201a8\"],[0.3333333333333333,\"#9c179e\"],[0.4444444444444444,\"#bd3786\"],[0.5555555555555556,\"#d8576b\"],[0.6666666666666666,\"#ed7953\"],[0.7777777777777778,\"#fb9f3a\"],[0.8888888888888888,\"#fdca26\"],[1.0,\"#f0f921\"]]}],\"surface\":[{\"type\":\"surface\",\"colorbar\":{\"outlinewidth\":0,\"ticks\":\"\"},\"colorscale\":[[0.0,\"#0d0887\"],[0.1111111111111111,\"#46039f\"],[0.2222222222222222,\"#7201a8\"],[0.3333333333333333,\"#9c179e\"],[0.4444444444444444,\"#bd3786\"],[0.5555555555555556,\"#d8576b\"],[0.6666666666666666,\"#ed7953\"],[0.7777777777777778,\"#fb9f3a\"],[0.8888888888888888,\"#fdca26\"],[1.0,\"#f0f921\"]]}],\"mesh3d\":[{\"type\":\"mesh3d\",\"colorbar\":{\"outlinewidth\":0,\"ticks\":\"\"}}],\"scatter\":[{\"fillpattern\":{\"fillmode\":\"overlay\",\"size\":10,\"solidity\":0.2},\"type\":\"scatter\"}],\"parcoords\":[{\"type\":\"parcoords\",\"line\":{\"colorbar\":{\"outlinewidth\":0,\"ticks\":\"\"}}}],\"scatterpolargl\":[{\"type\":\"scatterpolargl\",\"marker\":{\"colorbar\":{\"outlinewidth\":0,\"ticks\":\"\"}}}],\"bar\":[{\"error_x\":{\"color\":\"#2a3f5f\"},\"error_y\":{\"color\":\"#2a3f5f\"},\"marker\":{\"line\":{\"color\":\"#E5ECF6\",\"width\":0.5},\"pattern\":{\"fillmode\":\"overlay\",\"size\":10,\"solidity\":0.2}},\"type\":\"bar\"}],\"scattergeo\":[{\"type\":\"scattergeo\",\"marker\":{\"colorbar\":{\"outlinewidth\":0,\"ticks\":\"\"}}}],\"scatterpolar\":[{\"type\":\"scatterpolar\",\"marker\":{\"colorbar\":{\"outlinewidth\":0,\"ticks\":\"\"}}}],\"histogram\":[{\"marker\":{\"pattern\":{\"fillmode\":\"overlay\",\"size\":10,\"solidity\":0.2}},\"type\":\"histogram\"}],\"scattergl\":[{\"type\":\"scattergl\",\"marker\":{\"colorbar\":{\"outlinewidth\":0,\"ticks\":\"\"}}}],\"scatter3d\":[{\"type\":\"scatter3d\",\"line\":{\"colorbar\":{\"outlinewidth\":0,\"ticks\":\"\"}},\"marker\":{\"colorbar\":{\"outlinewidth\":0,\"ticks\":\"\"}}}],\"scattermapbox\":[{\"type\":\"scattermapbox\",\"marker\":{\"colorbar\":{\"outlinewidth\":0,\"ticks\":\"\"}}}],\"scatterternary\":[{\"type\":\"scatterternary\",\"marker\":{\"colorbar\":{\"outlinewidth\":0,\"ticks\":\"\"}}}],\"scattercarpet\":[{\"type\":\"scattercarpet\",\"marker\":{\"colorbar\":{\"outlinewidth\":0,\"ticks\":\"\"}}}],\"carpet\":[{\"aaxis\":{\"endlinecolor\":\"#2a3f5f\",\"gridcolor\":\"white\",\"linecolor\":\"white\",\"minorgridcolor\":\"white\",\"startlinecolor\":\"#2a3f5f\"},\"baxis\":{\"endlinecolor\":\"#2a3f5f\",\"gridcolor\":\"white\",\"linecolor\":\"white\",\"minorgridcolor\":\"white\",\"startlinecolor\":\"#2a3f5f\"},\"type\":\"carpet\"}],\"table\":[{\"cells\":{\"fill\":{\"color\":\"#EBF0F8\"},\"line\":{\"color\":\"white\"}},\"header\":{\"fill\":{\"color\":\"#C8D4E3\"},\"line\":{\"color\":\"white\"}},\"type\":\"table\"}],\"barpolar\":[{\"marker\":{\"line\":{\"color\":\"#E5ECF6\",\"width\":0.5},\"pattern\":{\"fillmode\":\"overlay\",\"size\":10,\"solidity\":0.2}},\"type\":\"barpolar\"}],\"pie\":[{\"automargin\":true,\"type\":\"pie\"}]},\"layout\":{\"autotypenumbers\":\"strict\",\"colorway\":[\"#636efa\",\"#EF553B\",\"#00cc96\",\"#ab63fa\",\"#FFA15A\",\"#19d3f3\",\"#FF6692\",\"#B6E880\",\"#FF97FF\",\"#FECB52\"],\"font\":{\"color\":\"#2a3f5f\"},\"hovermode\":\"closest\",\"hoverlabel\":{\"align\":\"left\"},\"paper_bgcolor\":\"white\",\"plot_bgcolor\":\"#E5ECF6\",\"polar\":{\"bgcolor\":\"#E5ECF6\",\"angularaxis\":{\"gridcolor\":\"white\",\"linecolor\":\"white\",\"ticks\":\"\"},\"radialaxis\":{\"gridcolor\":\"white\",\"linecolor\":\"white\",\"ticks\":\"\"}},\"ternary\":{\"bgcolor\":\"#E5ECF6\",\"aaxis\":{\"gridcolor\":\"white\",\"linecolor\":\"white\",\"ticks\":\"\"},\"baxis\":{\"gridcolor\":\"white\",\"linecolor\":\"white\",\"ticks\":\"\"},\"caxis\":{\"gridcolor\":\"white\",\"linecolor\":\"white\",\"ticks\":\"\"}},\"coloraxis\":{\"colorbar\":{\"outlinewidth\":0,\"ticks\":\"\"}},\"colorscale\":{\"sequential\":[[0.0,\"#0d0887\"],[0.1111111111111111,\"#46039f\"],[0.2222222222222222,\"#7201a8\"],[0.3333333333333333,\"#9c179e\"],[0.4444444444444444,\"#bd3786\"],[0.5555555555555556,\"#d8576b\"],[0.6666666666666666,\"#ed7953\"],[0.7777777777777778,\"#fb9f3a\"],[0.8888888888888888,\"#fdca26\"],[1.0,\"#f0f921\"]],\"sequentialminus\":[[0.0,\"#0d0887\"],[0.1111111111111111,\"#46039f\"],[0.2222222222222222,\"#7201a8\"],[0.3333333333333333,\"#9c179e\"],[0.4444444444444444,\"#bd3786\"],[0.5555555555555556,\"#d8576b\"],[0.6666666666666666,\"#ed7953\"],[0.7777777777777778,\"#fb9f3a\"],[0.8888888888888888,\"#fdca26\"],[1.0,\"#f0f921\"]],\"diverging\":[[0,\"#8e0152\"],[0.1,\"#c51b7d\"],[0.2,\"#de77ae\"],[0.3,\"#f1b6da\"],[0.4,\"#fde0ef\"],[0.5,\"#f7f7f7\"],[0.6,\"#e6f5d0\"],[0.7,\"#b8e186\"],[0.8,\"#7fbc41\"],[0.9,\"#4d9221\"],[1,\"#276419\"]]},\"xaxis\":{\"gridcolor\":\"white\",\"linecolor\":\"white\",\"ticks\":\"\",\"title\":{\"standoff\":15},\"zerolinecolor\":\"white\",\"automargin\":true,\"zerolinewidth\":2},\"yaxis\":{\"gridcolor\":\"white\",\"linecolor\":\"white\",\"ticks\":\"\",\"title\":{\"standoff\":15},\"zerolinecolor\":\"white\",\"automargin\":true,\"zerolinewidth\":2},\"scene\":{\"xaxis\":{\"backgroundcolor\":\"#E5ECF6\",\"gridcolor\":\"white\",\"linecolor\":\"white\",\"showbackground\":true,\"ticks\":\"\",\"zerolinecolor\":\"white\",\"gridwidth\":2},\"yaxis\":{\"backgroundcolor\":\"#E5ECF6\",\"gridcolor\":\"white\",\"linecolor\":\"white\",\"showbackground\":true,\"ticks\":\"\",\"zerolinecolor\":\"white\",\"gridwidth\":2},\"zaxis\":{\"backgroundcolor\":\"#E5ECF6\",\"gridcolor\":\"white\",\"linecolor\":\"white\",\"showbackground\":true,\"ticks\":\"\",\"zerolinecolor\":\"white\",\"gridwidth\":2}},\"shapedefaults\":{\"line\":{\"color\":\"#2a3f5f\"}},\"annotationdefaults\":{\"arrowcolor\":\"#2a3f5f\",\"arrowhead\":0,\"arrowwidth\":1},\"geo\":{\"bgcolor\":\"white\",\"landcolor\":\"#E5ECF6\",\"subunitcolor\":\"white\",\"showland\":true,\"showlakes\":true,\"lakecolor\":\"white\"},\"title\":{\"x\":0.05},\"mapbox\":{\"style\":\"light\"}}},\"xaxis\":{\"anchor\":\"y\",\"domain\":[0.0,1.0],\"title\":{\"text\":\"Freq (Hz)\"},\"type\":\"log\"},\"yaxis\":{\"anchor\":\"x\",\"domain\":[0.0,1.0],\"title\":{\"text\":\"SPL\"}},\"legend\":{\"title\":{\"text\":\"q=1.3\"},\"tracegroupgap\":0,\"orientation\":\"v\"},\"margin\":{\"t\":60},\"height\":500},                        {\"responsive\": true}                    ).then(function(){\n",
       "                            \n",
       "var gd = document.getElementById('b5b1fe32-bc83-4363-a89d-cf25e31fb4db');\n",
       "var x = new MutationObserver(function (mutations, observer) {{\n",
       "        var display = window.getComputedStyle(gd).display;\n",
       "        if (!display || display === 'none') {{\n",
       "            console.log([gd, 'removed!']);\n",
       "            Plotly.purge(gd);\n",
       "            observer.disconnect();\n",
       "        }}\n",
       "}});\n",
       "\n",
       "// Listen for the removal of the full notebook cells\n",
       "var notebookContainer = gd.closest('#notebook-container');\n",
       "if (notebookContainer) {{\n",
       "    x.observe(notebookContainer, {childList: true});\n",
       "}}\n",
       "\n",
       "// Listen for the clearing of the current output cell\n",
       "var outputEl = gd.closest('.output');\n",
       "if (outputEl) {{\n",
       "    x.observe(outputEl, {childList: true});\n",
       "}}\n",
       "\n",
       "                        })                };                });            </script>        </div>"
      ]
     },
     "metadata": {},
     "output_type": "display_data"
    }
   ],
   "source": [
    "freq = np.logspace(1 + math.log10(2), 3 + math.log10(2), 100)\n",
    "q = 1.3\n",
    "peq = [(1.0, Biquad(5, 80, 48000, q, 3))]\n",
    "peq_spl = peq_build(freq, peq)\n",
    "print(np.max(peq_spl))\n",
    "\n",
    "fig = pd.DataFrame(\n",
    "    {\n",
    "        \"freq\": freq,\n",
    "        \"hp\": peq_spl,\n",
    "    }\n",
    ").plot.line(x=\"freq\", y=[\"hp\"])\n",
    "fig.update_xaxes(type=\"log\", title={\"text\": \"Freq (Hz)\"})\n",
    "fig.update_yaxes(title={\"text\": \"SPL\"})\n",
    "fig.update_layout(\n",
    "    legend={\n",
    "        \"orientation\": \"v\",\n",
    "        \"title\": f\"q={q:1.1f}\",\n",
    "    },\n",
    "    height=500,\n",
    ")\n",
    "fig.show()"
   ]
  },
  {
   "cell_type": "code",
   "execution_count": null,
   "id": "14d4a902-cd2e-4bd4-aedc-296c47be2186",
   "metadata": {},
   "outputs": [],
   "source": []
  }
 ],
 "metadata": {
  "kernelspec": {
   "display_name": "Python 3 (ipykernel)",
   "language": "python",
   "name": "python3"
  },
  "language_info": {
   "codemirror_mode": {
    "name": "ipython",
    "version": 3
   },
   "file_extension": ".py",
   "mimetype": "text/x-python",
   "name": "python",
   "nbconvert_exporter": "python",
   "pygments_lexer": "ipython3",
   "version": "3.10.6"
  }
 },
 "nbformat": 4,
 "nbformat_minor": 5
}
