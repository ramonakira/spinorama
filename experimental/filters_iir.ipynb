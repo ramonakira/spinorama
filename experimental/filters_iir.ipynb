{
 "cells": [
  {
   "cell_type": "code",
   "execution_count": null,
   "metadata": {},
   "outputs": [],
   "source": [
    "import math\n",
    "import logging\n",
    "import numpy as np\n",
    "import pandas as pd\n",
    "import scipy.signal as sig\n",
    "import altair as alt\n",
    "\n",
    "import sys, os, os.path\n",
    "\n",
    "sys.path.append(os.path.expanduser(\"../src\"))\n",
    "\n",
    "from src.spinorama.load import graph_melt, load_normalize\n",
    "from src.spinorama.load_parse import parse_graphs_speaker\n",
    "from src.spinorama.load_rewseq import parse_eq_iir_rews\n",
    "from src.spinorama.graph import graph_spinorama, graph_freq\n",
    "from src.spinorama.compute_normalize import normalize_mean, normalize_cea2034\n",
    "from src.spinorama.compute_scores import speaker_pref_rating\n",
    "from src.spinorama.compute_cea2034 import (\n",
    "    compute_cea2034,\n",
    "    estimated_inroom_HV,\n",
    "    spl2pressure,\n",
    "    pressure2spl,\n",
    ")\n",
    "from src.spinorama.filter_iir import Biquad"
   ]
  },
  {
   "cell_type": "code",
   "execution_count": null,
   "metadata": {},
   "outputs": [],
   "source": [
    "# df_speaker = parse_graphs_speaker('../datas/', 'Genelec', 'Genelec 8341A')\n",
    "# df_speaker = parse_graphs_speaker('../datas/', 'Focal', 'Focal Aria 906')\n",
    "# df_speaker = parse_graphs_speaker('../datas/', 'Elac', 'Elac Debut 2.0 B6.2')\n",
    "df_speaker = parse_graphs_speaker(\"../datas/\", \"Adam\", \"Adam S2V\", \"klippel\", \"asr\")\n",
    "\n",
    "spin = df_speaker[\"CEA2034_unmelted\"]\n",
    "pir = estimated_inroom_HV(\n",
    "    df_speaker[\"SPL Horizontal_unmelted\"], df_speaker[\"SPL Vertical_unmelted\"]\n",
    ")\n",
    "score = speaker_pref_rating(graph_melt(spin), graph_melt(pir))"
   ]
  },
  {
   "cell_type": "code",
   "execution_count": null,
   "metadata": {},
   "outputs": [],
   "source": [
    "def parametric_eq_build(freq, peq):\n",
    "    filter = 0\n",
    "    for w, iir in peq:\n",
    "        filter += w * np.array([iir.log_result(f) for f in freq])\n",
    "    return filter\n",
    "\n",
    "\n",
    "def parametric_eq_apply(spl, peq):\n",
    "    filter = 0\n",
    "    for w, iir in peq:\n",
    "        filter += w * np.array([iir(v) for v in spl])\n",
    "    return filter\n",
    "\n",
    "\n",
    "def iir_graph(spin, measurement, peq):\n",
    "    spin_freq = spin[\"Freq\"].to_numpy()\n",
    "    mean = np.mean(spin.loc[(spin.Freq > 500) & (spin.Freq < 10000)][\"On Axis\"])\n",
    "    curve = spin[measurement] - mean\n",
    "    filter = parametric_eq_build(spin_freq, peq)\n",
    "    curve_filtered = parametric_eq_apply(curve, peq)\n",
    "    dff = pd.DataFrame(\n",
    "        {\n",
    "            \"Freq\": spin_freq,\n",
    "            measurement: curve,\n",
    "            \"{0} Filtered\".format(measurement): curve_filtered,\n",
    "            \"Filter\": filter,\n",
    "        }\n",
    "    )\n",
    "    return (\n",
    "        alt.Chart(graph_melt(dff))\n",
    "        .mark_line(clip=True)\n",
    "        .encode(\n",
    "            x=alt.X(\"Freq:Q\", scale=alt.Scale(type=\"log\", nice=False, domain=[20, 20000])),\n",
    "            y=alt.Y(\"dB:Q\", scale=alt.Scale(domain=[-25, 5])),\n",
    "            color=alt.Color(\"Measurements\"),\n",
    "        )\n",
    "    )\n",
    "\n",
    "\n",
    "def iir_apply(spl, peq):\n",
    "    freq = spl[\"Freq\"].to_numpy()\n",
    "    mean = np.mean(spl.loc[(spin.Freq > 500) & (spl.Freq < 10000)][\"On Axis\"])\n",
    "    ddf = []\n",
    "    ddf.append(pd.DataFrame({\"Freq\": freq}))\n",
    "    for angle in spl.keys():\n",
    "        if angle == \"Freq\":\n",
    "            continue\n",
    "        curve = spl[angle] - mean\n",
    "        # curve_filtered = curve+parametric_eq_apply(curve, peq)\n",
    "        curve_filtered = curve + parametric_eq_build(freq, peq)\n",
    "        # print('{0:7s} range [{1:.1f}, {2:.1f}] filtered [{3:.1f}, {4:.1f}]'.format(angle, np.min(curve), np.max(curve), np.min(curve_filtered), np.max(curve_filtered)))\n",
    "        ddf.append(pd.DataFrame({angle: curve_filtered}))\n",
    "    f = pd.concat(ddf, axis=1)\n",
    "    return f.dropna()"
   ]
  },
  {
   "cell_type": "code",
   "execution_count": null,
   "metadata": {},
   "outputs": [],
   "source": [
    "my_fs = 48000\n",
    "my_peq = [\n",
    "    (0, Biquad(Biquad.HIGHPASS, 50, my_fs, 0.2, 1)),\n",
    "    (1, Biquad(Biquad.PEAK, 715, my_fs, 8, -2.8)),\n",
    "    (0, Biquad(Biquad.NOTCH, 1400, my_fs, 0.1, 0.1)),\n",
    "]\n",
    "\n",
    "my_peq = parse_eq_iir_rews(\"../datas/eq/Adam S2V/iir.txt\", my_fs)\n",
    "ddf_horizontal = iir_apply(df_speaker[\"SPL Horizontal_unmelted\"], my_peq)\n",
    "ddf_vertical = iir_apply(df_speaker[\"SPL Vertical_unmelted\"], my_peq)\n",
    "\n",
    "spin_filtered = graph_melt(compute_cea2034(ddf_horizontal, ddf_vertical))\n",
    "pir_filtered = graph_melt(estimated_inroom_HV(ddf_horizontal, ddf_vertical))\n",
    "score_filtered = speaker_pref_rating(spin_filtered, pir_filtered)"
   ]
  },
  {
   "cell_type": "code",
   "execution_count": null,
   "metadata": {},
   "outputs": [],
   "source": [
    "for i in range(0, len(my_peq)):\n",
    "    if my_peq[i][0] != 0:\n",
    "        print(my_peq[i][1])\n",
    "print(\"         SPK FLT\")\n",
    "print(\"-----------------\")\n",
    "print(\"NBD  ON {0:0.2f} {1:0.2f}\".format(score[\"nbd_on_axis\"], score_filtered[\"nbd_on_axis\"]))\n",
    "print(\n",
    "    \"NBD  LW {0:0.2f} {1:0.2f}\".format(\n",
    "        score[\"nbd_listening_window\"], score_filtered[\"nbd_listening_window\"]\n",
    "    )\n",
    ")\n",
    "print(\n",
    "    \"NBD PIR {0:0.2f} {1:0.2f}\".format(\n",
    "        score[\"nbd_pred_in_room\"], score_filtered[\"nbd_pred_in_room\"]\n",
    "    )\n",
    ")\n",
    "print(\n",
    "    \"SM  PIR {0:0.2f} {1:0.2f}\".format(score[\"sm_pred_in_room\"], score_filtered[\"sm_pred_in_room\"])\n",
    ")\n",
    "print(\"SM   SP {0:0.2f} {1:0.2f}\".format(score[\"sm_sound_power\"], score_filtered[\"sm_sound_power\"]))\n",
    "print(\"LFX       {0}   {1}\".format(score[\"lfx_hz\"], score_filtered[\"lfx_hz\"]))\n",
    "print(\"LFQ     {0} {1}\".format(score[\"lfq\"], score_filtered[\"lfq\"]))\n",
    "print(\"-----------------\")\n",
    "print(\"Score    {0}  {1}\".format(score[\"pref_score\"], score_filtered[\"pref_score\"]))\n",
    "print(\"-----------------\")"
   ]
  },
  {
   "cell_type": "code",
   "execution_count": null,
   "metadata": {},
   "outputs": [],
   "source": [
    "def compute_differences(df1, df2):\n",
    "    df = df1.copy().reset_index()\n",
    "    dfc = df2.copy().reset_index()\n",
    "    df[\"dB\"] -= dfc[\"dB\"]\n",
    "    return df.dropna()"
   ]
  },
  {
   "cell_type": "code",
   "execution_count": null,
   "metadata": {},
   "outputs": [],
   "source": [
    "g_spin = df_speaker[\"CEA2034\"]\n",
    "delta = compute_differences(spin_filtered, g_spin)"
   ]
  },
  {
   "cell_type": "code",
   "execution_count": null,
   "metadata": {},
   "outputs": [],
   "source": [
    "g_params = {\n",
    "    \"xmin\": 20,\n",
    "    \"xmax\": 20000,\n",
    "    \"ymin\": -40,\n",
    "    \"ymax\": 10,\n",
    "    \"width\": 400,\n",
    "    \"height\": 250,\n",
    "}\n",
    "g_delta = {\n",
    "    \"xmin\": 20,\n",
    "    \"xmax\": 20000,\n",
    "    \"ymin\": -25,\n",
    "    \"ymax\": 25,\n",
    "    \"width\": 400,\n",
    "    \"height\": 250,\n",
    "}\n",
    "\n",
    "(\n",
    "    graph_spinorama(g_spin, g_params)\n",
    "    & graph_freq(delta, g_delta)\n",
    "    & graph_spinorama(spin_filtered, g_params)\n",
    ")"
   ]
  },
  {
   "cell_type": "code",
   "execution_count": null,
   "metadata": {},
   "outputs": [],
   "source": [
    "print(spin_filtered, g_spin)"
   ]
  },
  {
   "cell_type": "code",
   "execution_count": null,
   "metadata": {},
   "outputs": [],
   "source": []
  },
  {
   "cell_type": "code",
   "execution_count": null,
   "metadata": {},
   "outputs": [],
   "source": []
  }
 ],
 "metadata": {
  "kernelspec": {
   "display_name": "Python 3 (ipykernel)",
   "language": "python",
   "name": "python3"
  },
  "language_info": {
   "codemirror_mode": {
    "name": "ipython",
    "version": 3
   },
   "file_extension": ".py",
   "mimetype": "text/x-python",
   "name": "python",
   "nbconvert_exporter": "python",
   "pygments_lexer": "ipython3",
   "version": "3.9.7"
  }
 },
 "nbformat": 4,
 "nbformat_minor": 4
}
